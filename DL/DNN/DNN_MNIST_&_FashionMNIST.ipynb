{
 "cells": [
  {
   "cell_type": "markdown",
   "metadata": {},
   "source": [
    "* keras를 활용한 심층 신경망 실습"
   ]
  },
  {
   "cell_type": "markdown",
   "metadata": {},
   "source": [
    "1. MNIST 손글씨 숫자 분류"
   ]
  },
  {
   "cell_type": "code",
   "execution_count": 1,
   "metadata": {},
   "outputs": [],
   "source": [
    "#!pip install tensorflow"
   ]
  },
  {
   "cell_type": "code",
   "execution_count": 2,
   "metadata": {},
   "outputs": [
    {
     "data": {
      "text/plain": [
       "'2.16.1'"
      ]
     },
     "execution_count": 2,
     "metadata": {},
     "output_type": "execute_result"
    }
   ],
   "source": [
    "import tensorflow as tf\n",
    "tf.__version__"
   ]
  },
  {
   "cell_type": "markdown",
   "metadata": {},
   "source": [
    "* 순차 심층 신경망 모델 구현\n",
    "1. 6만개의 이미지로 이루어진 X_train을 심층 신경망 모델에 넣어서 y_train 데이터의 숫자로 인식하도록 학습\n",
    "2. 노드의 활성화 함수, 학습을 위한 최적화 함수, 손실함수, 측정 방법 설정\n",
    "3. 학습을 마친 모델에 1만개의 이미지로 이루어진 X_test를 입력하여 정확도 측정"
   ]
  },
  {
   "cell_type": "code",
   "execution_count": 6,
   "metadata": {},
   "outputs": [
    {
     "name": "stdout",
     "output_type": "stream",
     "text": [
      "(60000, 28, 28)\n",
      "(60000,)\n",
      "(10000, 28, 28)\n",
      "(28, 28)\n"
     ]
    },
    {
     "data": {
      "text/plain": [
       "<matplotlib.image.AxesImage at 0x1edd97dc450>"
      ]
     },
     "execution_count": 6,
     "metadata": {},
     "output_type": "execute_result"
    },
    {
     "data": {
      "image/png": "[encoded data removed]",
      "text/plain": [
       "<Figure size 640x480 with 1 Axes>"
      ]
     },
     "metadata": {},
     "output_type": "display_data"
    }
   ],
   "source": [
    "# 데이터 전처리 및 분리 및 시각화\n",
    "from tensorflow import keras\n",
    "from keras.datasets import mnist\n",
    "\n",
    "mnist = mnist\n",
    "\n",
    "(X_train_all, y_train_all), (X_test, y_test) = mnist.load_data()\n",
    "\n",
    "print(X_train_all.shape)\n",
    "print(y_train_all.shape)\n",
    "print(X_test.shape)\n",
    "print(X_train_all[0].shape)\n",
    "\n",
    "import matplotlib.pyplot as plt\n",
    "\n",
    "plt.imshow(X_train_all[0], cmap='Greys', interpolation='nearest')"
   ]
  },
  {
   "cell_type": "code",
   "execution_count": 8,
   "metadata": {},
   "outputs": [
    {
     "name": "stdout",
     "output_type": "stream",
     "text": [
      "   0   0   0   0   0   0   0   0   0   0   0   0   0   0   0   0   0   0   0   0   0   0   0   0   0   0   0   0\n",
      "   0   0   0   0   0   0   0   0   0   0   0   0   0   0   0   0   0   0   0   0   0   0   0   0   0   0   0   0\n",
      "   0   0   0   0   0   0   0   0   0   0   0   0   0   0   0   0   0   0   0   0   0   0   0   0   0   0   0   0\n",
      "   0   0   0   0   0   0   0   0   0   0   0   0   0   0   0   0   0   0   0   0   0   0   0   0   0   0   0   0\n",
      "   0   0   0   0   0   0   0   0   0   0   0   0   0   0   0   0   0   0   0   0   0   0   0   0   0   0   0   0\n",
      "   0   0   0   0   0   0   0   0   0   0   0   0   2 152 203 181 141  58  17   0   0   0   0   0   0   0   0   0\n",
      "   0   0   0   0   0   0   0   0   0   0   0   0   0  40 172 247 188 232 234  35   0   0   0   0   0   0   0   0\n",
      "   0   0   0   0   0   0   0   0   0   0  17  82 101 143 252 245  67  35 225 214   0   0   0   0   0   0   0   0\n",
      "   0   0   0   0   0   0   0   0   5 132 237 254 254 254 254 254 243  80 210 248  35   0   0   0   0   0   0   0\n",
      "   0   0   0   0   0   0   0   0 163 251 211 107  23  36 120 240 246  98 218 143   0   0   0   0   0   0   0   0\n",
      "   0   0   0   0   0   0   0  47 251 166   0   0   0   0   0  16  43 189 212  25   0   0   0   0   0   0   0   0\n",
      "   0   0   0   0   0   0   0  40 250 214  14   0   0   0   0  10 148 250  99   0   0   0   0   0   0   0   0   0\n",
      "   0   0   0   0   0   0   0   0 137 254 234 103   6   0   0 154 225  85   0   0   0   0   0   0   0   0   0   0\n",
      "   0   0   0   0   0   0   0   0   3  44 195 254 184  24 129 235  35   0   0   0   0   0   0   0   0   0   0   0\n",
      "   0   0   0   0   0   0   0   0   0   0   0 101 240 254 254  66   0   0   0   0   0   0   0   0   0   0   0   0\n",
      "   0   0   0   0   0   0   0   0   0   0   0   0 172 254 254 108   0   0   0   0   0   0   0   0   0   0   0   0\n",
      "   0   0   0   0   0   0   0   0   0   0   2 154 253  98 190 254 104   0   0   0   0   0   0   0   0   0   0   0\n",
      "   0   0   0   0   0   0   0   0   0   0  91 254 131   0  13 212 225  64   0   0   0   0   0   0   0   0   0   0\n",
      "   0   0   0   0   0   0   0   0   0  20 238 254  29   0   0  55 244 195  20   0   0   0   0   0   0   0   0   0\n",
      "   0   0   0   0   0   0   0   0   0  90 254 219   6   0   0   0 100 254 111   0   0   0   0   0   0   0   0   0\n",
      "   0   0   0   0   0   0   0   0   0 127 254 116   0   0   0   0  23 248 126   0   0   0   0   0   0   0   0   0\n",
      "   0   0   0   0   0   0   0   0   0 127 254  63   0   0   0   0  49 252 126   0   0   0   0   0   0   0   0   0\n",
      "   0   0   0   0   0   0   0   0   0 124 248  29   0   0   0  38 167 254 101   0   0   0   0   0   0   0   0   0\n",
      "   0   0   0   0   0   0   0   0   0  29 233 211 115 115 135 254 244 130   0   0   0   0   0   0   0   0   0   0\n",
      "   0   0   0   0   0   0   0   0   0   0  70 236 254 254 254 173  38   0   0   0   0   0   0   0   0   0   0   0\n",
      "   0   0   0   0   0   0   0   0   0   0   0   0   0   0   0   0   0   0   0   0   0   0   0   0   0   0   0   0\n",
      "   0   0   0   0   0   0   0   0   0   0   0   0   0   0   0   0   0   0   0   0   0   0   0   0   0   0   0   0\n",
      "   0   0   0   0   0   0   0   0   0   0   0   0   0   0   0   0   0   0   0   0   0   0   0   0   0   0   0   0\n"
     ]
    }
   ],
   "source": [
    "X0 = X_train_all[46]\n",
    "for r in range(0, 28):\n",
    "    for c in range(0, 28):\n",
    "        print(f\"{X0[r, c]:4}\", end='')\n",
    "    print()\n",
    "\n",
    "# import numpy as np\n",
    "# np.set_printoptions(linewidth=np.inf)\n",
    "# print(X_train_all[0]) # 제일 윗 장을 들고왔다"
   ]
  },
  {
   "cell_type": "code",
   "execution_count": 9,
   "metadata": {},
   "outputs": [
    {
     "data": {
      "text/plain": [
       "array([5, 0, 4, 1, 9, 2, 1, 3, 1, 4], dtype=uint8)"
      ]
     },
     "execution_count": 9,
     "metadata": {},
     "output_type": "execute_result"
    }
   ],
   "source": [
    "# 앞에서부터 10장의 숫자는?\n",
    "y_train_all[:10]"
   ]
  },
  {
   "cell_type": "code",
   "execution_count": 10,
   "metadata": {},
   "outputs": [
    {
     "data": {
      "text/plain": [
       "0    5923\n",
       "1    6742\n",
       "2    5958\n",
       "3    6131\n",
       "4    5842\n",
       "5    5421\n",
       "6    5918\n",
       "7    6265\n",
       "8    5851\n",
       "9    5949\n",
       "Name: count, dtype: int64"
      ]
     },
     "execution_count": 10,
     "metadata": {},
     "output_type": "execute_result"
    }
   ],
   "source": [
    "# 타겟 분포 확인 # value_counts -> pd.Series에 있음\n",
    "import pandas as pd\n",
    "\n",
    "pd.Series(y_train_all).value_counts().sort_index()"
   ]
  },
  {
   "cell_type": "code",
   "execution_count": 11,
   "metadata": {},
   "outputs": [
    {
     "data": {
      "text/plain": [
       "array([[  0,   0,   0,   0,   0,   0,   0,   0,   0,   0,   0,   0,   0,\n",
       "          0,   0,   0,   0,   0,   0,   0,   0,   0,   0,   0,   0,   0,\n",
       "          0,   0],\n",
       "       [  0,   0,   0,   0,   0,   0,   0,   0,   0,   0,   0,   0,   0,\n",
       "          0,   0,   0,   0,   0,   0,   0,   0,   0,   0,   0,   0,   0,\n",
       "          0,   0],\n",
       "       [  0,   0,   0,   0,   0,   0,   0,   0,   0,   0,   0,   0,   0,\n",
       "          0,   0,   0,   0,   0,   0,   0,   0,   0,   0,   0,   0,   0,\n",
       "          0,   0],\n",
       "       [  0,   0,   0,   0,   0,   0,   0,   0,   0,   0,   0,   0,   0,\n",
       "          0,   0,   0,   0,   0,   0,   0,   0,   0,   0,   0,   0,   0,\n",
       "          0,   0],\n",
       "       [  0,   0,   0,   0,   0,   0,   0,   0,   0,   0,   0,   0,   0,\n",
       "          0,   0,   0,   0,   0,   0,   0,   0,   0,   0,   0,   0,   0,\n",
       "          0,   0],\n",
       "       [  0,   0,   0,   0,   0,   0,   0,   0,   0,   0,   0,   0,   3,\n",
       "         18,  18,  18, 126, 136, 175,  26, 166, 255, 247, 127,   0,   0,\n",
       "          0,   0],\n",
       "       [  0,   0,   0,   0,   0,   0,   0,   0,  30,  36,  94, 154, 170,\n",
       "        253, 253, 253, 253, 253, 225, 172, 253, 242, 195,  64,   0,   0,\n",
       "          0,   0],\n",
       "       [  0,   0,   0,   0,   0,   0,   0,  49, 238, 253, 253, 253, 253,\n",
       "        253, 253, 253, 253, 251,  93,  82,  82,  56,  39,   0,   0,   0,\n",
       "          0,   0],\n",
       "       [  0,   0,   0,   0,   0,   0,   0,  18, 219, 253, 253, 253, 253,\n",
       "        253, 198, 182, 247, 241,   0,   0,   0,   0,   0,   0,   0,   0,\n",
       "          0,   0],\n",
       "       [  0,   0,   0,   0,   0,   0,   0,   0,  80, 156, 107, 253, 253,\n",
       "        205,  11,   0,  43, 154,   0,   0,   0,   0,   0,   0,   0,   0,\n",
       "          0,   0],\n",
       "       [  0,   0,   0,   0,   0,   0,   0,   0,   0,  14,   1, 154, 253,\n",
       "         90,   0,   0,   0,   0,   0,   0,   0,   0,   0,   0,   0,   0,\n",
       "          0,   0],\n",
       "       [  0,   0,   0,   0,   0,   0,   0,   0,   0,   0,   0, 139, 253,\n",
       "        190,   2,   0,   0,   0,   0,   0,   0,   0,   0,   0,   0,   0,\n",
       "          0,   0],\n",
       "       [  0,   0,   0,   0,   0,   0,   0,   0,   0,   0,   0,  11, 190,\n",
       "        253,  70,   0,   0,   0,   0,   0,   0,   0,   0,   0,   0,   0,\n",
       "          0,   0],\n",
       "       [  0,   0,   0,   0,   0,   0,   0,   0,   0,   0,   0,   0,  35,\n",
       "        241, 225, 160, 108,   1,   0,   0,   0,   0,   0,   0,   0,   0,\n",
       "          0,   0],\n",
       "       [  0,   0,   0,   0,   0,   0,   0,   0,   0,   0,   0,   0,   0,\n",
       "         81, 240, 253, 253, 119,  25,   0,   0,   0,   0,   0,   0,   0,\n",
       "          0,   0],\n",
       "       [  0,   0,   0,   0,   0,   0,   0,   0,   0,   0,   0,   0,   0,\n",
       "          0,  45, 186, 253, 253, 150,  27,   0,   0,   0,   0,   0,   0,\n",
       "          0,   0],\n",
       "       [  0,   0,   0,   0,   0,   0,   0,   0,   0,   0,   0,   0,   0,\n",
       "          0,   0,  16,  93, 252, 253, 187,   0,   0,   0,   0,   0,   0,\n",
       "          0,   0],\n",
       "       [  0,   0,   0,   0,   0,   0,   0,   0,   0,   0,   0,   0,   0,\n",
       "          0,   0,   0,   0, 249, 253, 249,  64,   0,   0,   0,   0,   0,\n",
       "          0,   0],\n",
       "       [  0,   0,   0,   0,   0,   0,   0,   0,   0,   0,   0,   0,   0,\n",
       "          0,  46, 130, 183, 253, 253, 207,   2,   0,   0,   0,   0,   0,\n",
       "          0,   0],\n",
       "       [  0,   0,   0,   0,   0,   0,   0,   0,   0,   0,   0,   0,  39,\n",
       "        148, 229, 253, 253, 253, 250, 182,   0,   0,   0,   0,   0,   0,\n",
       "          0,   0],\n",
       "       [  0,   0,   0,   0,   0,   0,   0,   0,   0,   0,  24, 114, 221,\n",
       "        253, 253, 253, 253, 201,  78,   0,   0,   0,   0,   0,   0,   0,\n",
       "          0,   0],\n",
       "       [  0,   0,   0,   0,   0,   0,   0,   0,  23,  66, 213, 253, 253,\n",
       "        253, 253, 198,  81,   2,   0,   0,   0,   0,   0,   0,   0,   0,\n",
       "          0,   0],\n",
       "       [  0,   0,   0,   0,   0,   0,  18, 171, 219, 253, 253, 253, 253,\n",
       "        195,  80,   9,   0,   0,   0,   0,   0,   0,   0,   0,   0,   0,\n",
       "          0,   0],\n",
       "       [  0,   0,   0,   0,  55, 172, 226, 253, 253, 253, 253, 244, 133,\n",
       "         11,   0,   0,   0,   0,   0,   0,   0,   0,   0,   0,   0,   0,\n",
       "          0,   0],\n",
       "       [  0,   0,   0,   0, 136, 253, 253, 253, 212, 135, 132,  16,   0,\n",
       "          0,   0,   0,   0,   0,   0,   0,   0,   0,   0,   0,   0,   0,\n",
       "          0,   0],\n",
       "       [  0,   0,   0,   0,   0,   0,   0,   0,   0,   0,   0,   0,   0,\n",
       "          0,   0,   0,   0,   0,   0,   0,   0,   0,   0,   0,   0,   0,\n",
       "          0,   0],\n",
       "       [  0,   0,   0,   0,   0,   0,   0,   0,   0,   0,   0,   0,   0,\n",
       "          0,   0,   0,   0,   0,   0,   0,   0,   0,   0,   0,   0,   0,\n",
       "          0,   0],\n",
       "       [  0,   0,   0,   0,   0,   0,   0,   0,   0,   0,   0,   0,   0,\n",
       "          0,   0,   0,   0,   0,   0,   0,   0,   0,   0,   0,   0,   0,\n",
       "          0,   0]], dtype=uint8)"
      ]
     },
     "execution_count": 11,
     "metadata": {},
     "output_type": "execute_result"
    }
   ],
   "source": [
    "X_train_all[0]"
   ]
  },
  {
   "cell_type": "markdown",
   "metadata": {},
   "source": [
    "* 데이터 준비: 분할, 차원변경, 정규화"
   ]
  },
  {
   "cell_type": "code",
   "execution_count": 12,
   "metadata": {},
   "outputs": [
    {
     "name": "stdout",
     "output_type": "stream",
     "text": [
      "(48000, 28, 28) (12000, 28, 28)\n",
      "[[  0   0   0   0   0   0   0   0   0   0   0   0   0   0   0   0   0   0\n",
      "    0   0   0   0   0   0   0   0   0   0]\n",
      " [  0   0   0   0   0   0   0   0   0   0   0   0   0   0   0   0   0   0\n",
      "    0   0   0   0   0   0   0   0   0   0]\n",
      " [  0   0   0   0   0   0   0   0   0   0   0   0   0   0   0   0   0   0\n",
      "    0   0   0   0   0   0   0   0   0   0]\n",
      " [  0   0   0   0   0   0   0   0   0   0   0   0   0   0   0   0   0   0\n",
      "    0   0   0   0   0   0   0   0   0   0]\n",
      " [  0   0   0   0   0   0   0   0   0   0   0   0   0   0   0   0   0   0\n",
      "    0   0   0   0   0   0   0   0   0   0]\n",
      " [  0   0   0   0   0   0   0   0   0   0   0   0   0   0   0   0  64 154\n",
      "  103   1   0   0   0   0   0   0   0   0]\n",
      " [  0   0   0   0   0   0   0   0   0   0   0   0   0   0   0   0 196 254\n",
      "  254   5   0   0   0   0   0   0   0   0]\n",
      " [  0   0   0   0   0   0   0   0   0   0   0   0   0   0   0  78 240 254\n",
      "  254   5   0   0   0   0   0   0   0   0]\n",
      " [  0   0   0   0   0   0   0   0   0   0   0   0   0   9 109 241 254 254\n",
      "  215   4   0   0   0   0   0   0   0   0]\n",
      " [  0   0   0   0   0   0   0   0   0   0   0   0   0  74 254 254 254 214\n",
      "   27   0   0   0   0   0   0   0   0   0]\n",
      " [  0   0   0   0   0   0   0   0   0   0   0   0   9 197 254 254 254 102\n",
      "    0   0   0   0   0   0   0   0   0   0]\n",
      " [  0   0   0   0   0   0   0   0   0   0   0  11 245 254 254 254 144  18\n",
      "    0   0   0   0   0   0   0   0   0   0]\n",
      " [  0   0   0   0   0   0   0   0   0   0  15 187 254 254 254 197  22   0\n",
      "    0   0   0   0   0   0   0   0   0   0]\n",
      " [  0   0   0   0   0   0   0   0   0  17 128 254 254 254 225  23   0   0\n",
      "    0   0   0   0   0   0   0   0   0   0]\n",
      " [  0   0   0   0   0   0   0   0   0 163 254 254 254 211  93   0   0   0\n",
      "    0   0   0   0   0   0   0   0   0   0]\n",
      " [  0   0   0   0   0   0   0  14 121 244 254 254 252  71   0   0   0   0\n",
      "    0   0   0   0   0   0   0   0   0   0]\n",
      " [  0   0   0   0   0   0   0  36 254 254 254 254  88   0   0   0   0   0\n",
      "    0   0   0   0   0  77 185  61   0   0]\n",
      " [  0   0   0   0   0   0  15 204 254 254 254 144   1   0   0   0   0   0\n",
      "    0   0   0   0   0  84 254 252   0   0]\n",
      " [  0   0   0   0   0   0 137 254 254 254 202  12   0   0   0   0   0   0\n",
      "    0   0   0   0   0  84 254 255   0   0]\n",
      " [  0   0   0   0   0   0 192 254 254 241  79   0   0   0   0   0   0   0\n",
      "    0   0   0   0   0  84 254 254   0   0]\n",
      " [  0   0   0   0   0   0 137 254 254 216  22   0   0   0   0   0   0   0\n",
      "    0   0   0   0   0  84 254 168   0   0]\n",
      " [  0   0   0   0   0   0  37 222 254  89   0   0   0   0   0   0   0   0\n",
      "    0   0   0   0   0  84 221  36   0   0]\n",
      " [  0   0   0   0   0   0   0  21  35   9   0   0   0   0   0   0   0   0\n",
      "    0   0   0   0   0  12  21   0   0   0]\n",
      " [  0   0   0   0   0   0   0   0   0   0   0   0   0   0   0   0   0   0\n",
      "    0   0   0   0   0   0   0   0   0   0]\n",
      " [  0   0   0   0   0   0   0   0   0   0   0   0   0   0   0   0   0   0\n",
      "    0   0   0   0   0   0   0   0   0   0]\n",
      " [  0   0   0   0   0   0   0   0   0   0   0   0   0   0   0   0   0   0\n",
      "    0   0   0   0   0   0   0   0   0   0]\n",
      " [  0   0   0   0   0   0   0   0   0   0   0   0   0   0   0   0   0   0\n",
      "    0   0   0   0   0   0   0   0   0   0]\n",
      " [  0   0   0   0   0   0   0   0   0   0   0   0   0   0   0   0   0   0\n",
      "    0   0   0   0   0   0   0   0   0   0]]\n"
     ]
    }
   ],
   "source": [
    "# 심층 신경망 구성을 위한 데이터 준비\n",
    "# 데이터 분할\n",
    "from sklearn.model_selection import train_test_split\n",
    "\n",
    "X_train, X_val, y_train, y_val = train_test_split(X_train_all, y_train_all, stratify=y_train_all,\n",
    "                                                  test_size=0.2, random_state=42)\n",
    "\n",
    "# import numpy as np\n",
    "# 심층 신경망이므로 훈련 세트와 검증 세트 샘플 데이터의 차원을 2차원에서 1차원 배열로 전환\n",
    "\n",
    "print(X_train.shape, X_val.shape)\n",
    "print(X_train[0])"
   ]
  },
  {
   "cell_type": "code",
   "execution_count": 13,
   "metadata": {},
   "outputs": [],
   "source": [
    "# X_train = X_train.reshape(-1, 784)\n",
    "# X_val = X_val.reshape(-1, 784)\n",
    "\n",
    "# print(X_train.shape, X_val.shape)\n",
    "# print(X_train[0])"
   ]
  },
  {
   "cell_type": "code",
   "execution_count": 14,
   "metadata": {},
   "outputs": [],
   "source": [
    "# 데이터 정규화\n",
    "# 이미지 데이터값은 0~255 -> 0~1 로 변환\n",
    "X_train = X_train / 255\n",
    "X_val = X_val / 255"
   ]
  },
  {
   "cell_type": "code",
   "execution_count": 15,
   "metadata": {},
   "outputs": [
    {
     "data": {
      "text/plain": [
       "array([[0., 1., 0., 0., 0., 0., 0., 0., 0., 0.],\n",
       "       [0., 0., 0., 1., 0., 0., 0., 0., 0., 0.],\n",
       "       [0., 0., 0., 0., 0., 0., 1., 0., 0., 0.],\n",
       "       [0., 0., 0., 0., 0., 0., 0., 0., 1., 0.],\n",
       "       [0., 0., 0., 0., 0., 0., 1., 0., 0., 0.],\n",
       "       [0., 0., 0., 0., 0., 0., 0., 0., 1., 0.],\n",
       "       [0., 0., 0., 0., 0., 1., 0., 0., 0., 0.],\n",
       "       [0., 0., 0., 0., 0., 0., 0., 1., 0., 0.],\n",
       "       [0., 0., 0., 0., 0., 0., 0., 0., 1., 0.],\n",
       "       [1., 0., 0., 0., 0., 0., 0., 0., 0., 0.]])"
      ]
     },
     "execution_count": 15,
     "metadata": {},
     "output_type": "execute_result"
    }
   ],
   "source": [
    "# y_train을 카테고리화\n",
    "\n",
    "from tensorflow.keras.utils import to_categorical\n",
    "\n",
    "y_train_encoded = to_categorical(y_train)\n",
    "y_val_encoded = to_categorical(y_val)\n",
    "\n",
    "y_train_encoded[:10]"
   ]
  },
  {
   "cell_type": "markdown",
   "metadata": {},
   "source": [
    "* 인공 신경망 모델 구성"
   ]
  },
  {
   "cell_type": "code",
   "execution_count": 16,
   "metadata": {},
   "outputs": [
    {
     "name": "stderr",
     "output_type": "stream",
     "text": [
      "c:\\anaconda3\\Lib\\site-packages\\keras\\src\\layers\\reshaping\\flatten.py:37: UserWarning: Do not pass an `input_shape`/`input_dim` argument to a layer. When using Sequential models, prefer using an `Input(shape)` object as the first layer in the model instead.\n",
      "  super().__init__(**kwargs)\n"
     ]
    }
   ],
   "source": [
    "# 모델 구조\n",
    "from keras.models import Sequential\n",
    "from keras.layers import Flatten\n",
    "from keras.layers import Dense\n",
    "\n",
    "model = Sequential()\n",
    "model.add(Flatten(input_shape=(28, 28))) # 위에서 reshape 했으면 할 필요 없고 밑에 input_shape 해주어야 함\n",
    "model.add(Dense(units=20, activation='sigmoid'))  # input_shape=(784, ),\n",
    "model.add(Dense(units=15, activation='sigmoid'))\n",
    "model.add(Dense(units=10, activation='softmax'))"
   ]
  },
  {
   "cell_type": "code",
   "execution_count": 17,
   "metadata": {},
   "outputs": [
    {
     "data": {
      "text/html": [
       "<pre style=\"white-space:pre;overflow-x:auto;line-height:normal;font-family:Menlo,'DejaVu Sans Mono',consolas,'Courier New',monospace\"><span style=\"font-weight: bold\">Model: \"sequential\"</span>\n",
       "</pre>\n"
      ],
      "text/plain": [
       "\u001b[1mModel: \"sequential\"\u001b[0m\n"
      ]
     },
     "metadata": {},
     "output_type": "display_data"
    },
    {
     "data": {
      "text/html": [
       "<pre style=\"white-space:pre;overflow-x:auto;line-height:normal;font-family:Menlo,'DejaVu Sans Mono',consolas,'Courier New',monospace\">┏━━━━━━━━━━━━━━━━━━━━━━━━━━━━━━━━━┳━━━━━━━━━━━━━━━━━━━━━━━━┳━━━━━━━━━━━━━━━┓\n",
       "┃<span style=\"font-weight: bold\"> Layer (type)                    </span>┃<span style=\"font-weight: bold\"> Output Shape           </span>┃<span style=\"font-weight: bold\">       Param # </span>┃\n",
       "┡━━━━━━━━━━━━━━━━━━━━━━━━━━━━━━━━━╇━━━━━━━━━━━━━━━━━━━━━━━━╇━━━━━━━━━━━━━━━┩\n",
       "│ flatten (<span style=\"color: #0087ff; text-decoration-color: #0087ff\">Flatten</span>)               │ (<span style=\"color: #00d7ff; text-decoration-color: #00d7ff\">None</span>, <span style=\"color: #00af00; text-decoration-color: #00af00\">784</span>)            │             <span style=\"color: #00af00; text-decoration-color: #00af00\">0</span> │\n",
       "├─────────────────────────────────┼────────────────────────┼───────────────┤\n",
       "│ dense (<span style=\"color: #0087ff; text-decoration-color: #0087ff\">Dense</span>)                   │ (<span style=\"color: #00d7ff; text-decoration-color: #00d7ff\">None</span>, <span style=\"color: #00af00; text-decoration-color: #00af00\">20</span>)             │        <span style=\"color: #00af00; text-decoration-color: #00af00\">15,700</span> │\n",
       "├─────────────────────────────────┼────────────────────────┼───────────────┤\n",
       "│ dense_1 (<span style=\"color: #0087ff; text-decoration-color: #0087ff\">Dense</span>)                 │ (<span style=\"color: #00d7ff; text-decoration-color: #00d7ff\">None</span>, <span style=\"color: #00af00; text-decoration-color: #00af00\">15</span>)             │           <span style=\"color: #00af00; text-decoration-color: #00af00\">315</span> │\n",
       "├─────────────────────────────────┼────────────────────────┼───────────────┤\n",
       "│ dense_2 (<span style=\"color: #0087ff; text-decoration-color: #0087ff\">Dense</span>)                 │ (<span style=\"color: #00d7ff; text-decoration-color: #00d7ff\">None</span>, <span style=\"color: #00af00; text-decoration-color: #00af00\">10</span>)             │           <span style=\"color: #00af00; text-decoration-color: #00af00\">160</span> │\n",
       "└─────────────────────────────────┴────────────────────────┴───────────────┘\n",
       "</pre>\n"
      ],
      "text/plain": [
       "┏━━━━━━━━━━━━━━━━━━━━━━━━━━━━━━━━━┳━━━━━━━━━━━━━━━━━━━━━━━━┳━━━━━━━━━━━━━━━┓\n",
       "┃\u001b[1m \u001b[0m\u001b[1mLayer (type)                   \u001b[0m\u001b[1m \u001b[0m┃\u001b[1m \u001b[0m\u001b[1mOutput Shape          \u001b[0m\u001b[1m \u001b[0m┃\u001b[1m \u001b[0m\u001b[1m      Param #\u001b[0m\u001b[1m \u001b[0m┃\n",
       "┡━━━━━━━━━━━━━━━━━━━━━━━━━━━━━━━━━╇━━━━━━━━━━━━━━━━━━━━━━━━╇━━━━━━━━━━━━━━━┩\n",
       "│ flatten (\u001b[38;5;33mFlatten\u001b[0m)               │ (\u001b[38;5;45mNone\u001b[0m, \u001b[38;5;34m784\u001b[0m)            │             \u001b[38;5;34m0\u001b[0m │\n",
       "├─────────────────────────────────┼────────────────────────┼───────────────┤\n",
       "│ dense (\u001b[38;5;33mDense\u001b[0m)                   │ (\u001b[38;5;45mNone\u001b[0m, \u001b[38;5;34m20\u001b[0m)             │        \u001b[38;5;34m15,700\u001b[0m │\n",
       "├─────────────────────────────────┼────────────────────────┼───────────────┤\n",
       "│ dense_1 (\u001b[38;5;33mDense\u001b[0m)                 │ (\u001b[38;5;45mNone\u001b[0m, \u001b[38;5;34m15\u001b[0m)             │           \u001b[38;5;34m315\u001b[0m │\n",
       "├─────────────────────────────────┼────────────────────────┼───────────────┤\n",
       "│ dense_2 (\u001b[38;5;33mDense\u001b[0m)                 │ (\u001b[38;5;45mNone\u001b[0m, \u001b[38;5;34m10\u001b[0m)             │           \u001b[38;5;34m160\u001b[0m │\n",
       "└─────────────────────────────────┴────────────────────────┴───────────────┘\n"
      ]
     },
     "metadata": {},
     "output_type": "display_data"
    },
    {
     "data": {
      "text/html": [
       "<pre style=\"white-space:pre;overflow-x:auto;line-height:normal;font-family:Menlo,'DejaVu Sans Mono',consolas,'Courier New',monospace\"><span style=\"font-weight: bold\"> Total params: </span><span style=\"color: #00af00; text-decoration-color: #00af00\">16,175</span> (63.18 KB)\n",
       "</pre>\n"
      ],
      "text/plain": [
       "\u001b[1m Total params: \u001b[0m\u001b[38;5;34m16,175\u001b[0m (63.18 KB)\n"
      ]
     },
     "metadata": {},
     "output_type": "display_data"
    },
    {
     "data": {
      "text/html": [
       "<pre style=\"white-space:pre;overflow-x:auto;line-height:normal;font-family:Menlo,'DejaVu Sans Mono',consolas,'Courier New',monospace\"><span style=\"font-weight: bold\"> Trainable params: </span><span style=\"color: #00af00; text-decoration-color: #00af00\">16,175</span> (63.18 KB)\n",
       "</pre>\n"
      ],
      "text/plain": [
       "\u001b[1m Trainable params: \u001b[0m\u001b[38;5;34m16,175\u001b[0m (63.18 KB)\n"
      ]
     },
     "metadata": {},
     "output_type": "display_data"
    },
    {
     "data": {
      "text/html": [
       "<pre style=\"white-space:pre;overflow-x:auto;line-height:normal;font-family:Menlo,'DejaVu Sans Mono',consolas,'Courier New',monospace\"><span style=\"font-weight: bold\"> Non-trainable params: </span><span style=\"color: #00af00; text-decoration-color: #00af00\">0</span> (0.00 B)\n",
       "</pre>\n"
      ],
      "text/plain": [
       "\u001b[1m Non-trainable params: \u001b[0m\u001b[38;5;34m0\u001b[0m (0.00 B)\n"
      ]
     },
     "metadata": {},
     "output_type": "display_data"
    }
   ],
   "source": [
    "# 인공 신경망 요약\n",
    "model.summary()\n",
    "\n",
    "# param 계산\n",
    "# 784 * 20 + 20\n",
    "# 20 * 15 + 15\n",
    "# 15 * 10 + 10"
   ]
  },
  {
   "cell_type": "code",
   "execution_count": 19,
   "metadata": {},
   "outputs": [
    {
     "name": "stdout",
     "output_type": "stream",
     "text": [
      "Defaulting to user installation because normal site-packages is not writeable\n",
      "Requirement already satisfied: pydot in c:\\users\\user\\appdata\\roaming\\python\\python311\\site-packages (2.0.0)\n",
      "Requirement already satisfied: pyparsing>=3 in c:\\anaconda3\\lib\\site-packages (from pydot) (3.0.9)\n",
      "Note: you may need to restart the kernel to use updated packages.\n"
     ]
    }
   ],
   "source": [
    "# pip install pydot"
   ]
  },
  {
   "cell_type": "code",
   "execution_count": 21,
   "metadata": {},
   "outputs": [
    {
     "name": "stdout",
     "output_type": "stream",
     "text": [
      "Defaulting to user installation because normal site-packages is not writeable\n",
      "Requirement already satisfied: graphviz in c:\\users\\user\\appdata\\roaming\\python\\python311\\site-packages (0.20.3)\n",
      "Note: you may need to restart the kernel to use updated packages.\n"
     ]
    }
   ],
   "source": [
    "pip install graphviz"
   ]
  },
  {
   "cell_type": "code",
   "execution_count": 23,
   "metadata": {},
   "outputs": [],
   "source": [
    "# # 모델 구조 시각화\n",
    "# from tensorflow.keras.utils import plot_model\n",
    "\n",
    "# plot_model(model, show_shapes=True, show_layer_names = True)"
   ]
  },
  {
   "cell_type": "markdown",
   "metadata": {},
   "source": [
    "* 최적화 알고리즘과 손실함수 지정: 모형의 학습 과정 설정"
   ]
  },
  {
   "cell_type": "code",
   "execution_count": 24,
   "metadata": {},
   "outputs": [],
   "source": [
    "# 학습을 위한 최적화 함수, 손실 함수 등을 설정하여 모델 컴파일\n",
    "# y label을 원핫 인코딩하지 않은 경우에는 loss='sparse_categorical_crossentropy'만 사용 가능\n",
    "# y label을 원핫 인코딩한 경우에는 'categorical_crossentropy'만 사용가능"
   ]
  },
  {
   "cell_type": "code",
   "execution_count": 25,
   "metadata": {},
   "outputs": [],
   "source": [
    "model.compile(loss='categorical_crossentropy', optimizer='adam', metrics=['accuracy'])\n"
   ]
  },
  {
   "cell_type": "code",
   "execution_count": 26,
   "metadata": {},
   "outputs": [
    {
     "name": "stdout",
     "output_type": "stream",
     "text": [
      "Epoch 1/10\n",
      "\u001b[1m1500/1500\u001b[0m \u001b[32m━━━━━━━━━━━━━━━━━━━━\u001b[0m\u001b[37m\u001b[0m \u001b[1m10s\u001b[0m 4ms/step - accuracy: 0.5536 - loss: 1.6815 - val_accuracy: 0.8731 - val_loss: 0.5714\n",
      "Epoch 2/10\n",
      "\u001b[1m1500/1500\u001b[0m \u001b[32m━━━━━━━━━━━━━━━━━━━━\u001b[0m\u001b[37m\u001b[0m \u001b[1m6s\u001b[0m 4ms/step - accuracy: 0.8843 - loss: 0.4851 - val_accuracy: 0.9058 - val_loss: 0.3496\n",
      "Epoch 3/10\n",
      "\u001b[1m1500/1500\u001b[0m \u001b[32m━━━━━━━━━━━━━━━━━━━━\u001b[0m\u001b[37m\u001b[0m \u001b[1m6s\u001b[0m 4ms/step - accuracy: 0.9146 - loss: 0.3195 - val_accuracy: 0.9194 - val_loss: 0.2852\n",
      "Epoch 4/10\n",
      "\u001b[1m1500/1500\u001b[0m \u001b[32m━━━━━━━━━━━━━━━━━━━━\u001b[0m\u001b[37m\u001b[0m \u001b[1m6s\u001b[0m 4ms/step - accuracy: 0.9288 - loss: 0.2556 - val_accuracy: 0.9262 - val_loss: 0.2565\n",
      "Epoch 5/10\n",
      "\u001b[1m1500/1500\u001b[0m \u001b[32m━━━━━━━━━━━━━━━━━━━━\u001b[0m\u001b[37m\u001b[0m \u001b[1m6s\u001b[0m 4ms/step - accuracy: 0.9350 - loss: 0.2310 - val_accuracy: 0.9337 - val_loss: 0.2305\n",
      "Epoch 6/10\n",
      "\u001b[1m1500/1500\u001b[0m \u001b[32m━━━━━━━━━━━━━━━━━━━━\u001b[0m\u001b[37m\u001b[0m \u001b[1m10s\u001b[0m 4ms/step - accuracy: 0.9427 - loss: 0.2053 - val_accuracy: 0.9373 - val_loss: 0.2165\n",
      "Epoch 7/10\n",
      "\u001b[1m1500/1500\u001b[0m \u001b[32m━━━━━━━━━━━━━━━━━━━━\u001b[0m\u001b[37m\u001b[0m \u001b[1m6s\u001b[0m 4ms/step - accuracy: 0.9475 - loss: 0.1882 - val_accuracy: 0.9377 - val_loss: 0.2109\n",
      "Epoch 8/10\n",
      "\u001b[1m1500/1500\u001b[0m \u001b[32m━━━━━━━━━━━━━━━━━━━━\u001b[0m\u001b[37m\u001b[0m \u001b[1m6s\u001b[0m 4ms/step - accuracy: 0.9510 - loss: 0.1732 - val_accuracy: 0.9427 - val_loss: 0.1990\n",
      "Epoch 9/10\n",
      "\u001b[1m1500/1500\u001b[0m \u001b[32m━━━━━━━━━━━━━━━━━━━━\u001b[0m\u001b[37m\u001b[0m \u001b[1m6s\u001b[0m 4ms/step - accuracy: 0.9533 - loss: 0.1640 - val_accuracy: 0.9420 - val_loss: 0.1985\n",
      "Epoch 10/10\n",
      "\u001b[1m1500/1500\u001b[0m \u001b[32m━━━━━━━━━━━━━━━━━━━━\u001b[0m\u001b[37m\u001b[0m \u001b[1m10s\u001b[0m 4ms/step - accuracy: 0.9560 - loss: 0.1547 - val_accuracy: 0.9445 - val_loss: 0.1919\n"
     ]
    }
   ],
   "source": [
    "# 모델 훈련\n",
    "# 순차 신경망 학습\n",
    "history = model.fit(X_train, y_train_encoded, epochs=10, validation_data = (X_val, y_val_encoded))"
   ]
  },
  {
   "cell_type": "code",
   "execution_count": 27,
   "metadata": {},
   "outputs": [
    {
     "name": "stdout",
     "output_type": "stream",
     "text": [
      "dict_keys(['accuracy', 'loss', 'val_accuracy', 'val_loss'])\n"
     ]
    }
   ],
   "source": [
    "# 손실과 정확도 그래프 : 모델 성능 평가\n",
    "print(history.history.keys())"
   ]
  },
  {
   "cell_type": "code",
   "execution_count": 28,
   "metadata": {},
   "outputs": [
    {
     "data": {
      "text/html": [
       "<div>\n",
       "<style scoped>\n",
       "    .dataframe tbody tr th:only-of-type {\n",
       "        vertical-align: middle;\n",
       "    }\n",
       "\n",
       "    .dataframe tbody tr th {\n",
       "        vertical-align: top;\n",
       "    }\n",
       "\n",
       "    .dataframe thead th {\n",
       "        text-align: right;\n",
       "    }\n",
       "</style>\n",
       "<table border=\"1\" class=\"dataframe\">\n",
       "  <thead>\n",
       "    <tr style=\"text-align: right;\">\n",
       "      <th></th>\n",
       "      <th>accuracy</th>\n",
       "      <th>loss</th>\n",
       "      <th>val_accuracy</th>\n",
       "      <th>val_loss</th>\n",
       "    </tr>\n",
       "  </thead>\n",
       "  <tbody>\n",
       "    <tr>\n",
       "      <th>0</th>\n",
       "      <td>0.729563</td>\n",
       "      <td>1.184365</td>\n",
       "      <td>0.873083</td>\n",
       "      <td>0.571359</td>\n",
       "    </tr>\n",
       "    <tr>\n",
       "      <th>1</th>\n",
       "      <td>0.893896</td>\n",
       "      <td>0.428958</td>\n",
       "      <td>0.905833</td>\n",
       "      <td>0.349551</td>\n",
       "    </tr>\n",
       "    <tr>\n",
       "      <th>2</th>\n",
       "      <td>0.917271</td>\n",
       "      <td>0.305236</td>\n",
       "      <td>0.919417</td>\n",
       "      <td>0.285217</td>\n",
       "    </tr>\n",
       "    <tr>\n",
       "      <th>3</th>\n",
       "      <td>0.929146</td>\n",
       "      <td>0.253984</td>\n",
       "      <td>0.926167</td>\n",
       "      <td>0.256469</td>\n",
       "    </tr>\n",
       "    <tr>\n",
       "      <th>4</th>\n",
       "      <td>0.936458</td>\n",
       "      <td>0.225052</td>\n",
       "      <td>0.933667</td>\n",
       "      <td>0.230513</td>\n",
       "    </tr>\n",
       "    <tr>\n",
       "      <th>5</th>\n",
       "      <td>0.942354</td>\n",
       "      <td>0.204641</td>\n",
       "      <td>0.937333</td>\n",
       "      <td>0.216504</td>\n",
       "    </tr>\n",
       "    <tr>\n",
       "      <th>6</th>\n",
       "      <td>0.946437</td>\n",
       "      <td>0.188476</td>\n",
       "      <td>0.937750</td>\n",
       "      <td>0.210853</td>\n",
       "    </tr>\n",
       "    <tr>\n",
       "      <th>7</th>\n",
       "      <td>0.949708</td>\n",
       "      <td>0.175830</td>\n",
       "      <td>0.942750</td>\n",
       "      <td>0.199031</td>\n",
       "    </tr>\n",
       "    <tr>\n",
       "      <th>8</th>\n",
       "      <td>0.953021</td>\n",
       "      <td>0.165583</td>\n",
       "      <td>0.942000</td>\n",
       "      <td>0.198493</td>\n",
       "    </tr>\n",
       "    <tr>\n",
       "      <th>9</th>\n",
       "      <td>0.954375</td>\n",
       "      <td>0.157078</td>\n",
       "      <td>0.944500</td>\n",
       "      <td>0.191870</td>\n",
       "    </tr>\n",
       "  </tbody>\n",
       "</table>\n",
       "</div>"
      ],
      "text/plain": [
       "   accuracy      loss  val_accuracy  val_loss\n",
       "0  0.729563  1.184365      0.873083  0.571359\n",
       "1  0.893896  0.428958      0.905833  0.349551\n",
       "2  0.917271  0.305236      0.919417  0.285217\n",
       "3  0.929146  0.253984      0.926167  0.256469\n",
       "4  0.936458  0.225052      0.933667  0.230513\n",
       "5  0.942354  0.204641      0.937333  0.216504\n",
       "6  0.946437  0.188476      0.937750  0.210853\n",
       "7  0.949708  0.175830      0.942750  0.199031\n",
       "8  0.953021  0.165583      0.942000  0.198493\n",
       "9  0.954375  0.157078      0.944500  0.191870"
      ]
     },
     "execution_count": 28,
     "metadata": {},
     "output_type": "execute_result"
    }
   ],
   "source": [
    "df = pd.DataFrame(history.history)\n",
    "df"
   ]
  },
  {
   "cell_type": "code",
   "execution_count": 29,
   "metadata": {},
   "outputs": [
    {
     "data": {
      "text/html": [
       "<div>\n",
       "<style scoped>\n",
       "    .dataframe tbody tr th:only-of-type {\n",
       "        vertical-align: middle;\n",
       "    }\n",
       "\n",
       "    .dataframe tbody tr th {\n",
       "        vertical-align: top;\n",
       "    }\n",
       "\n",
       "    .dataframe thead th {\n",
       "        text-align: right;\n",
       "    }\n",
       "</style>\n",
       "<table border=\"1\" class=\"dataframe\">\n",
       "  <thead>\n",
       "    <tr style=\"text-align: right;\">\n",
       "      <th></th>\n",
       "      <th>train_loss</th>\n",
       "      <th>train_acc</th>\n",
       "      <th>val_loss</th>\n",
       "      <th>val_acc</th>\n",
       "    </tr>\n",
       "  </thead>\n",
       "  <tbody>\n",
       "    <tr>\n",
       "      <th>0</th>\n",
       "      <td>0.729563</td>\n",
       "      <td>1.184365</td>\n",
       "      <td>0.873083</td>\n",
       "      <td>0.571359</td>\n",
       "    </tr>\n",
       "    <tr>\n",
       "      <th>1</th>\n",
       "      <td>0.893896</td>\n",
       "      <td>0.428958</td>\n",
       "      <td>0.905833</td>\n",
       "      <td>0.349551</td>\n",
       "    </tr>\n",
       "    <tr>\n",
       "      <th>2</th>\n",
       "      <td>0.917271</td>\n",
       "      <td>0.305236</td>\n",
       "      <td>0.919417</td>\n",
       "      <td>0.285217</td>\n",
       "    </tr>\n",
       "    <tr>\n",
       "      <th>3</th>\n",
       "      <td>0.929146</td>\n",
       "      <td>0.253984</td>\n",
       "      <td>0.926167</td>\n",
       "      <td>0.256469</td>\n",
       "    </tr>\n",
       "    <tr>\n",
       "      <th>4</th>\n",
       "      <td>0.936458</td>\n",
       "      <td>0.225052</td>\n",
       "      <td>0.933667</td>\n",
       "      <td>0.230513</td>\n",
       "    </tr>\n",
       "    <tr>\n",
       "      <th>5</th>\n",
       "      <td>0.942354</td>\n",
       "      <td>0.204641</td>\n",
       "      <td>0.937333</td>\n",
       "      <td>0.216504</td>\n",
       "    </tr>\n",
       "    <tr>\n",
       "      <th>6</th>\n",
       "      <td>0.946437</td>\n",
       "      <td>0.188476</td>\n",
       "      <td>0.937750</td>\n",
       "      <td>0.210853</td>\n",
       "    </tr>\n",
       "    <tr>\n",
       "      <th>7</th>\n",
       "      <td>0.949708</td>\n",
       "      <td>0.175830</td>\n",
       "      <td>0.942750</td>\n",
       "      <td>0.199031</td>\n",
       "    </tr>\n",
       "    <tr>\n",
       "      <th>8</th>\n",
       "      <td>0.953021</td>\n",
       "      <td>0.165583</td>\n",
       "      <td>0.942000</td>\n",
       "      <td>0.198493</td>\n",
       "    </tr>\n",
       "    <tr>\n",
       "      <th>9</th>\n",
       "      <td>0.954375</td>\n",
       "      <td>0.157078</td>\n",
       "      <td>0.944500</td>\n",
       "      <td>0.191870</td>\n",
       "    </tr>\n",
       "  </tbody>\n",
       "</table>\n",
       "</div>"
      ],
      "text/plain": [
       "   train_loss  train_acc  val_loss   val_acc\n",
       "0    0.729563   1.184365  0.873083  0.571359\n",
       "1    0.893896   0.428958  0.905833  0.349551\n",
       "2    0.917271   0.305236  0.919417  0.285217\n",
       "3    0.929146   0.253984  0.926167  0.256469\n",
       "4    0.936458   0.225052  0.933667  0.230513\n",
       "5    0.942354   0.204641  0.937333  0.216504\n",
       "6    0.946437   0.188476  0.937750  0.210853\n",
       "7    0.949708   0.175830  0.942750  0.199031\n",
       "8    0.953021   0.165583  0.942000  0.198493\n",
       "9    0.954375   0.157078  0.944500  0.191870"
      ]
     },
     "execution_count": 29,
     "metadata": {},
     "output_type": "execute_result"
    }
   ],
   "source": [
    "df.columns = ['train_loss', 'train_acc', 'val_loss', 'val_acc']\n",
    "df"
   ]
  },
  {
   "cell_type": "markdown",
   "metadata": {},
   "source": [
    "* 모델 학습 결과 시각화"
   ]
  },
  {
   "cell_type": "code",
   "execution_count": 30,
   "metadata": {},
   "outputs": [
    {
     "data": {
      "image/png": "[encoded data removed]",
      "text/plain": [
       "<Figure size 640x480 with 1 Axes>"
      ]
     },
     "metadata": {},
     "output_type": "display_data"
    }
   ],
   "source": [
    "plt.plot(df['train_loss'], label='train_loss')\n",
    "plt.plot(df['train_acc'], label='val_loss')\n",
    "plt.plot(df['val_loss'], label='train_loss')\n",
    "plt.plot(df['val_acc'], label='val_loss')\n",
    "plt.xlabel('epochs')\n",
    "plt.ylabel('loss')\n",
    "plt.legend()\n",
    "plt.grid()\n",
    "plt.show()"
   ]
  },
  {
   "cell_type": "code",
   "execution_count": 31,
   "metadata": {},
   "outputs": [
    {
     "data": {
      "text/plain": [
       "28"
      ]
     },
     "execution_count": 31,
     "metadata": {},
     "output_type": "execute_result"
    }
   ],
   "source": [
    "len(X_test[0])"
   ]
  },
  {
   "cell_type": "code",
   "execution_count": 32,
   "metadata": {},
   "outputs": [
    {
     "name": "stdout",
     "output_type": "stream",
     "text": [
      "\u001b[1m313/313\u001b[0m \u001b[32m━━━━━━━━━━━━━━━━━━━━\u001b[0m\u001b[37m\u001b[0m \u001b[1m1s\u001b[0m 3ms/step - accuracy: 0.9109 - loss: 0.3000\n"
     ]
    }
   ],
   "source": [
    "# 모델 평가\n",
    "# 테스트 데이터셋 변환\n",
    "X_test = X_test.reshape(-1, 28, 28)\n",
    "y_test_encoded = to_categorical(y_test)\n",
    "eval_loss, eval_acc = model.evaluate(X_test, y_test_encoded)\n",
    "# print(f\"손실값 : {eval_loss}, \\n 정확도 : {eval_acc}\")"
   ]
  },
  {
   "cell_type": "code",
   "execution_count": 33,
   "metadata": {},
   "outputs": [
    {
     "name": "stdout",
     "output_type": "stream",
     "text": [
      "\u001b[1m313/313\u001b[0m \u001b[32m━━━━━━━━━━━━━━━━━━━━\u001b[0m\u001b[37m\u001b[0m \u001b[1m1s\u001b[0m 3ms/step\n"
     ]
    },
    {
     "data": {
      "text/plain": [
       "array([[0.00000014, 0.00044774, 0.00073443, 0.00240821, 0.00001027,\n",
       "        0.00001039, 0.00000002, 0.99558145, 0.0000253 , 0.00078207],\n",
       "       [0.00022651, 0.0005196 , 0.9969555 , 0.00042549, 0.00003849,\n",
       "        0.00020544, 0.0010378 , 0.00037954, 0.00021027, 0.00000138],\n",
       "       [0.00001031, 0.9993687 , 0.00008109, 0.00007057, 0.00000002,\n",
       "        0.00001667, 0.00005018, 0.00023105, 0.00006154, 0.00010989],\n",
       "       [0.99840814, 0.00001326, 0.00040358, 0.0001302 , 0.00000364,\n",
       "        0.0005254 , 0.00034518, 0.00000046, 0.00008896, 0.00008124],\n",
       "       [0.00020368, 0.00000016, 0.00569147, 0.00024276, 0.98369455,\n",
       "        0.00041839, 0.00027849, 0.00018543, 0.00099897, 0.00828603]],\n",
       "      dtype=float32)"
      ]
     },
     "execution_count": 33,
     "metadata": {},
     "output_type": "execute_result"
    }
   ],
   "source": [
    "y_pred_encoded = model.predict(X_test)\n",
    "\n",
    "import numpy as np\n",
    "np.set_printoptions(suppress=True)\n",
    "y_pred_encoded[:5]"
   ]
  },
  {
   "cell_type": "code",
   "execution_count": 34,
   "metadata": {},
   "outputs": [
    {
     "name": "stdout",
     "output_type": "stream",
     "text": [
      "\u001b[1m313/313\u001b[0m \u001b[32m━━━━━━━━━━━━━━━━━━━━\u001b[0m\u001b[37m\u001b[0m \u001b[1m1s\u001b[0m 2ms/step\n",
      "[7 2 1 ... 4 5 6]\n",
      "10000\n"
     ]
    }
   ],
   "source": [
    "y_pred_class = np.argmax(model.predict(X_test), axis = -1)\n",
    "print(y_pred_class)\n",
    "print(len(y_pred_class))"
   ]
  },
  {
   "cell_type": "code",
   "execution_count": 35,
   "metadata": {},
   "outputs": [
    {
     "name": "stdout",
     "output_type": "stream",
     "text": [
      "[7 2 1 ... 4 5 6]\n",
      "[7 2 1 ... 4 5 6]\n",
      "[[ 941    1    9    3    2    7    7    3    4    3]\n",
      " [   0 1103    5    5    0    1    4    4   12    1]\n",
      " [  10    7  948   18    9    1    8    9   20    2]\n",
      " [   7    5   22  926    2    8    2    8   25    5]\n",
      " [   4    0    9    2  888    0   21    5    8   45]\n",
      " [  19    5    6   37    6  771   18    6   17    7]\n",
      " [  18    1   11    0    7   11  904    0    4    2]\n",
      " [   2   15   22   22    2    1    1  919    2   42]\n",
      " [  15   12   14   20    7   11    7    4  879    5]\n",
      " [   6    2    0   12   25    5    1   14   14  930]]\n",
      "0.9209\n",
      "              precision    recall  f1-score   support\n",
      "\n",
      "           0       0.92      0.96      0.94       980\n",
      "           1       0.96      0.97      0.97      1135\n",
      "           2       0.91      0.92      0.91      1032\n",
      "           3       0.89      0.92      0.90      1010\n",
      "           4       0.94      0.90      0.92       982\n",
      "           5       0.94      0.86      0.90       892\n",
      "           6       0.93      0.94      0.94       958\n",
      "           7       0.95      0.89      0.92      1028\n",
      "           8       0.89      0.90      0.90       974\n",
      "           9       0.89      0.92      0.91      1009\n",
      "\n",
      "    accuracy                           0.92     10000\n",
      "   macro avg       0.92      0.92      0.92     10000\n",
      "weighted avg       0.92      0.92      0.92     10000\n",
      "\n"
     ]
    }
   ],
   "source": [
    "# 모델 검증 및 평가\n",
    "\n",
    "from sklearn.metrics import confusion_matrix\n",
    "from sklearn.metrics import accuracy_score\n",
    "from sklearn.metrics import classification_report\n",
    "\n",
    "print(y_test)\n",
    "print(y_pred_class)\n",
    "print(confusion_matrix(y_test, y_pred_class))\n",
    "print(accuracy_score(y_test, y_pred_class))\n",
    "print(classification_report(y_test, y_pred_class))"
   ]
  },
  {
   "cell_type": "code",
   "execution_count": 36,
   "metadata": {},
   "outputs": [
    {
     "name": "stdout",
     "output_type": "stream",
     "text": [
      "9209\n"
     ]
    },
    {
     "data": {
      "image/png": "[encoded data removed]",
      "text/plain": [
       "<Figure size 640x480 with 9 Axes>"
      ]
     },
     "metadata": {},
     "output_type": "display_data"
    }
   ],
   "source": [
    "# 모델 학습 결과 시각화\n",
    "\n",
    "# 정답을 맞춘 경우\n",
    "y_test_class = y_test\n",
    "correct_indices = np.nonzero(y_pred_class == y_test_class)[0]\n",
    "print(len(correct_indices))  # 정답을 맞춘 개수\n",
    "\n",
    "plt.figure()\n",
    "for i in range(9):\n",
    "    plt.subplot(3, 3, i + 1)\n",
    "    correct = correct_indices[i]\n",
    "    plt.imshow(X_test[correct].reshape(28, 28), cmap='gray')\n",
    "    plt.title('Predicted {}, class {}'.format(y_pred_class[correct], y_test_class[correct]))\n",
    "\n",
    "plt.tight_layout()  # for 문을 빠져나와서 화면에 그림을 보여주기 위해 tight_layout 함수를 사용한다"
   ]
  },
  {
   "cell_type": "code",
   "execution_count": 38,
   "metadata": {},
   "outputs": [
    {
     "name": "stdout",
     "output_type": "stream",
     "text": [
      "791\n"
     ]
    },
    {
     "data": {
      "image/png": "[encoded data removed]",
      "text/plain": [
       "<Figure size 640x480 with 9 Axes>"
      ]
     },
     "metadata": {},
     "output_type": "display_data"
    }
   ],
   "source": [
    "# 정답을 맞추지 못한 경우\n",
    "incorrect_indeices = np.nonzero(y_pred_class != y_test_class)[0]\n",
    "print(len(incorrect_indeices))\n",
    "\n",
    "plt.figure()\n",
    "for i in range(9):\n",
    "    plt.subplot(3, 3, i + 1)\n",
    "    incorrect = incorrect_indeices[i]\n",
    "    plt.imshow(X_test[incorrect].reshape(28, 28), cmap='gray')\n",
    "    plt.title(f\"predicted {y_pred_class[incorrect]}, class {y_test_class[incorrect]}\")\n",
    "\n",
    "plt.tight_layout()"
   ]
  },
  {
   "cell_type": "markdown",
   "metadata": {},
   "source": [
    "---"
   ]
  },
  {
   "cell_type": "markdown",
   "metadata": {},
   "source": [
    "* 2. Fashion MNIST 의류 이미지 다중 분류"
   ]
  },
  {
   "cell_type": "code",
   "execution_count": 40,
   "metadata": {},
   "outputs": [],
   "source": [
    "# 데이터 탐색\n",
    "from keras.datasets import fashion_mnist\n",
    "\n",
    "mnist = fashion_mnist"
   ]
  },
  {
   "cell_type": "code",
   "execution_count": 41,
   "metadata": {},
   "outputs": [
    {
     "name": "stdout",
     "output_type": "stream",
     "text": [
      "Downloading data from https://storage.googleapis.com/tensorflow/tf-keras-datasets/train-labels-idx1-ubyte.gz\n",
      "\u001b[1m29515/29515\u001b[0m \u001b[32m━━━━━━━━━━━━━━━━━━━━\u001b[0m\u001b[37m\u001b[0m \u001b[1m0s\u001b[0m 3us/step\n",
      "Downloading data from https://storage.googleapis.com/tensorflow/tf-keras-datasets/train-images-idx3-ubyte.gz\n",
      "\u001b[1m26421880/26421880\u001b[0m \u001b[32m━━━━━━━━━━━━━━━━━━━━\u001b[0m\u001b[37m\u001b[0m \u001b[1m6s\u001b[0m 0us/step\n",
      "Downloading data from https://storage.googleapis.com/tensorflow/tf-keras-datasets/t10k-labels-idx1-ubyte.gz\n",
      "\u001b[1m5148/5148\u001b[0m \u001b[32m━━━━━━━━━━━━━━━━━━━━\u001b[0m\u001b[37m\u001b[0m \u001b[1m0s\u001b[0m 2us/step\n",
      "Downloading data from https://storage.googleapis.com/tensorflow/tf-keras-datasets/t10k-images-idx3-ubyte.gz\n",
      "\u001b[1m4422102/4422102\u001b[0m \u001b[32m━━━━━━━━━━━━━━━━━━━━\u001b[0m\u001b[37m\u001b[0m \u001b[1m1s\u001b[0m 0us/step\n"
     ]
    }
   ],
   "source": [
    "# 데이터셋 준비\n",
    "(X_train_all, y_train_all), (X_test, y_test) = mnist.load_data()"
   ]
  },
  {
   "cell_type": "code",
   "execution_count": 42,
   "metadata": {},
   "outputs": [
    {
     "name": "stdout",
     "output_type": "stream",
     "text": [
      "(60000, 28, 28) (60000,)\n"
     ]
    }
   ],
   "source": [
    "# 데이터셋 크기 확인\n",
    "print(X_train_all.shape, y_train_all.shape)"
   ]
  },
  {
   "cell_type": "code",
   "execution_count": 44,
   "metadata": {},
   "outputs": [
    {
     "data": {
      "image/png": "[encoded data removed]",
      "text/plain": [
       "<Figure size 640x480 with 1 Axes>"
      ]
     },
     "metadata": {},
     "output_type": "display_data"
    }
   ],
   "source": [
    "# 샘플 이미지 확인\n",
    "# cmap의 기본값 'viridis' 짙은 녹색 ~ 밝은 노란색, cmap=gray, 0에 가까울수록 어둡다\n",
    "import matplotlib.pyplot as plt\n",
    "\n",
    "plt.imshow(X_train_all[0], cmap='gray')\n",
    "plt.show()"
   ]
  },
  {
   "cell_type": "code",
   "execution_count": 45,
   "metadata": {},
   "outputs": [
    {
     "name": "stdout",
     "output_type": "stream",
     "text": [
      "9\n"
     ]
    }
   ],
   "source": [
    "# 클래스(타겟)의 내용과 의미 확인하기\n",
    "print(y_train_all[0])"
   ]
  },
  {
   "cell_type": "code",
   "execution_count": 46,
   "metadata": {},
   "outputs": [
    {
     "name": "stdout",
     "output_type": "stream",
     "text": [
      "앵클부츠\n"
     ]
    }
   ],
   "source": [
    "class_names = ['티셔츠/윗도리', '바지', '스웨터', '드레스', '코트', '샌들', '셔츠', '스니커즈', '가방', '앵클부츠']\n",
    "print(class_names[y_train_all[0]])"
   ]
  },
  {
   "cell_type": "code",
   "execution_count": 47,
   "metadata": {},
   "outputs": [
    {
     "data": {
      "text/plain": [
       "array([6000, 6000, 6000, 6000, 6000, 6000, 6000, 6000, 6000, 6000],\n",
       "      dtype=int64)"
      ]
     },
     "execution_count": 47,
     "metadata": {},
     "output_type": "execute_result"
    }
   ],
   "source": [
    "# 타겟 분포 확인하기 : numpy.bincount() - 배열에 있는 정수값의 빈도를 세고, 정수에 해당하는 인덱스 위치에 저장함\n",
    "import numpy as np\n",
    "np.bincount(y_train_all)"
   ]
  },
  {
   "cell_type": "markdown",
   "metadata": {},
   "source": [
    "* 데이터 준비 : 분할, 정규화, 차원 변경"
   ]
  },
  {
   "cell_type": "code",
   "execution_count": 48,
   "metadata": {},
   "outputs": [
    {
     "name": "stdout",
     "output_type": "stream",
     "text": [
      "(48000, 28, 28)\n"
     ]
    }
   ],
   "source": [
    "# 데이터 분할 (stratify = True)\n",
    "from sklearn.model_selection import train_test_split\n",
    "\n",
    "X_train, X_val, y_train, y_val = train_test_split(X_train_all, y_train_all, stratify = y_train_all,\n",
    "                                                  test_size = 0.2, random_state=42)\n",
    "\n",
    "print(X_train.shape)"
   ]
  },
  {
   "cell_type": "code",
   "execution_count": 49,
   "metadata": {},
   "outputs": [
    {
     "data": {
      "text/plain": [
       "(784,)"
      ]
     },
     "execution_count": 49,
     "metadata": {},
     "output_type": "execute_result"
    }
   ],
   "source": [
    "# 심층 신경망이므로 훈련 세트와 검증 세트의 샘플 데이터를 2차원 배열에서 1차원 배열로 전환\n",
    "X_train = X_train.reshape(-1, 784)\n",
    "X_val = X_val.reshape(-1, 784)\n",
    "\n",
    "X_train[0].shape"
   ]
  },
  {
   "cell_type": "code",
   "execution_count": 50,
   "metadata": {},
   "outputs": [
    {
     "name": "stdout",
     "output_type": "stream",
     "text": [
      "[4800 4800 4800 4800 4800 4800 4800 4800 4800 4800]\n",
      "[1000 1000 1000 1000 1000 1000 1000 1000 1000 1000]\n"
     ]
    }
   ],
   "source": [
    "print(np.bincount(y_train));print(np.bincount(y_test))"
   ]
  },
  {
   "cell_type": "code",
   "execution_count": 51,
   "metadata": {},
   "outputs": [],
   "source": [
    "# 입력 데이터 범위 전환\n",
    "# 이미지 데이터값은 0 ~ 255 -> 0 ~ 1로 변환\n",
    "X_train = X_train / 255\n",
    "X_val = X_val / 255"
   ]
  },
  {
   "cell_type": "code",
   "execution_count": 52,
   "metadata": {},
   "outputs": [
    {
     "name": "stdout",
     "output_type": "stream",
     "text": [
      "(48000, 10) (12000, 10)\n",
      "6 [0. 0. 0. 0. 0. 0. 1. 0. 0. 0.]\n"
     ]
    },
    {
     "data": {
      "text/plain": [
       "array([[0., 0., 0., 0., 0., 0., 1., 0., 0., 0.],\n",
       "       [0., 0., 0., 0., 0., 0., 1., 0., 0., 0.],\n",
       "       [0., 0., 0., 1., 0., 0., 0., 0., 0., 0.],\n",
       "       [0., 0., 0., 1., 0., 0., 0., 0., 0., 0.],\n",
       "       [1., 0., 0., 0., 0., 0., 0., 0., 0., 0.],\n",
       "       [0., 0., 0., 0., 0., 1., 0., 0., 0., 0.],\n",
       "       [0., 0., 0., 0., 0., 0., 0., 0., 0., 1.],\n",
       "       [0., 0., 0., 1., 0., 0., 0., 0., 0., 0.],\n",
       "       [0., 0., 0., 0., 0., 0., 1., 0., 0., 0.],\n",
       "       [0., 1., 0., 0., 0., 0., 0., 0., 0., 0.]])"
      ]
     },
     "execution_count": 52,
     "metadata": {},
     "output_type": "execute_result"
    }
   ],
   "source": [
    "# 타겟 데이터 원핫 인코딩\n",
    "# 다중 분류이므로 예측 데이터가 10개가 나오므로 예측 데이터와 타겟을 비교하기 위해\n",
    "\n",
    "y_train_encoded = to_categorical(y_train, num_classes=10)\n",
    "y_val_encoded = to_categorical(y_val, num_classes=10)\n",
    "\n",
    "print(y_train_encoded.shape, y_val_encoded.shape)\n",
    "print(y_train[0], y_train_encoded[0])\n",
    "y_train_encoded[:10]"
   ]
  },
  {
   "cell_type": "markdown",
   "metadata": {},
   "source": [
    "* 인공신경망 모형 구성"
   ]
  },
  {
   "cell_type": "code",
   "execution_count": 53,
   "metadata": {},
   "outputs": [
    {
     "name": "stderr",
     "output_type": "stream",
     "text": [
      "c:\\anaconda3\\Lib\\site-packages\\keras\\src\\layers\\core\\dense.py:88: UserWarning: Do not pass an `input_shape`/`input_dim` argument to a layer. When using Sequential models, prefer using an `Input(shape)` object as the first layer in the model instead.\n",
      "  super().__init__(activity_regularizer=activity_regularizer, **kwargs)\n"
     ]
    }
   ],
   "source": [
    "from keras.models import Sequential\n",
    "from keras.layers import Dense\n",
    "\n",
    "model = Sequential()\n",
    "# input_shape : 텐서의 모양\n",
    "model.add(Dense(units=100,  input_shape=(784, ), kernel_initializer='uniform', activation='sigmoid'))\n",
    "model.add(Dense(units=10, activation='softmax'))"
   ]
  },
  {
   "cell_type": "markdown",
   "metadata": {},
   "source": [
    "* 최적화 알고리즘과 손실함수 지정 : 모형의 학습과정 설정"
   ]
  },
  {
   "cell_type": "code",
   "execution_count": 54,
   "metadata": {},
   "outputs": [],
   "source": [
    "# 최적의 알고리즘과 손실함수 지정 : 모형의 학습 과정 설정\n",
    "model.compile(loss='categorical_crossentropy', optimizer = 'sgd', metrics=['accuracy'])\n",
    "# metrics : 훈련 과정 기록으로 history 객체에 정확도를 남김"
   ]
  },
  {
   "cell_type": "code",
   "execution_count": 55,
   "metadata": {},
   "outputs": [
    {
     "data": {
      "text/html": [
       "<pre style=\"white-space:pre;overflow-x:auto;line-height:normal;font-family:Menlo,'DejaVu Sans Mono',consolas,'Courier New',monospace\"><span style=\"font-weight: bold\">Model: \"sequential_1\"</span>\n",
       "</pre>\n"
      ],
      "text/plain": [
       "\u001b[1mModel: \"sequential_1\"\u001b[0m\n"
      ]
     },
     "metadata": {},
     "output_type": "display_data"
    },
    {
     "data": {
      "text/html": [
       "<pre style=\"white-space:pre;overflow-x:auto;line-height:normal;font-family:Menlo,'DejaVu Sans Mono',consolas,'Courier New',monospace\">┏━━━━━━━━━━━━━━━━━━━━━━━━━━━━━━━━━┳━━━━━━━━━━━━━━━━━━━━━━━━┳━━━━━━━━━━━━━━━┓\n",
       "┃<span style=\"font-weight: bold\"> Layer (type)                    </span>┃<span style=\"font-weight: bold\"> Output Shape           </span>┃<span style=\"font-weight: bold\">       Param # </span>┃\n",
       "┡━━━━━━━━━━━━━━━━━━━━━━━━━━━━━━━━━╇━━━━━━━━━━━━━━━━━━━━━━━━╇━━━━━━━━━━━━━━━┩\n",
       "│ dense_3 (<span style=\"color: #0087ff; text-decoration-color: #0087ff\">Dense</span>)                 │ (<span style=\"color: #00d7ff; text-decoration-color: #00d7ff\">None</span>, <span style=\"color: #00af00; text-decoration-color: #00af00\">100</span>)            │        <span style=\"color: #00af00; text-decoration-color: #00af00\">78,500</span> │\n",
       "├─────────────────────────────────┼────────────────────────┼───────────────┤\n",
       "│ dense_4 (<span style=\"color: #0087ff; text-decoration-color: #0087ff\">Dense</span>)                 │ (<span style=\"color: #00d7ff; text-decoration-color: #00d7ff\">None</span>, <span style=\"color: #00af00; text-decoration-color: #00af00\">10</span>)             │         <span style=\"color: #00af00; text-decoration-color: #00af00\">1,010</span> │\n",
       "└─────────────────────────────────┴────────────────────────┴───────────────┘\n",
       "</pre>\n"
      ],
      "text/plain": [
       "┏━━━━━━━━━━━━━━━━━━━━━━━━━━━━━━━━━┳━━━━━━━━━━━━━━━━━━━━━━━━┳━━━━━━━━━━━━━━━┓\n",
       "┃\u001b[1m \u001b[0m\u001b[1mLayer (type)                   \u001b[0m\u001b[1m \u001b[0m┃\u001b[1m \u001b[0m\u001b[1mOutput Shape          \u001b[0m\u001b[1m \u001b[0m┃\u001b[1m \u001b[0m\u001b[1m      Param #\u001b[0m\u001b[1m \u001b[0m┃\n",
       "┡━━━━━━━━━━━━━━━━━━━━━━━━━━━━━━━━━╇━━━━━━━━━━━━━━━━━━━━━━━━╇━━━━━━━━━━━━━━━┩\n",
       "│ dense_3 (\u001b[38;5;33mDense\u001b[0m)                 │ (\u001b[38;5;45mNone\u001b[0m, \u001b[38;5;34m100\u001b[0m)            │        \u001b[38;5;34m78,500\u001b[0m │\n",
       "├─────────────────────────────────┼────────────────────────┼───────────────┤\n",
       "│ dense_4 (\u001b[38;5;33mDense\u001b[0m)                 │ (\u001b[38;5;45mNone\u001b[0m, \u001b[38;5;34m10\u001b[0m)             │         \u001b[38;5;34m1,010\u001b[0m │\n",
       "└─────────────────────────────────┴────────────────────────┴───────────────┘\n"
      ]
     },
     "metadata": {},
     "output_type": "display_data"
    },
    {
     "data": {
      "text/html": [
       "<pre style=\"white-space:pre;overflow-x:auto;line-height:normal;font-family:Menlo,'DejaVu Sans Mono',consolas,'Courier New',monospace\"><span style=\"font-weight: bold\"> Total params: </span><span style=\"color: #00af00; text-decoration-color: #00af00\">79,510</span> (310.59 KB)\n",
       "</pre>\n"
      ],
      "text/plain": [
       "\u001b[1m Total params: \u001b[0m\u001b[38;5;34m79,510\u001b[0m (310.59 KB)\n"
      ]
     },
     "metadata": {},
     "output_type": "display_data"
    },
    {
     "data": {
      "text/html": [
       "<pre style=\"white-space:pre;overflow-x:auto;line-height:normal;font-family:Menlo,'DejaVu Sans Mono',consolas,'Courier New',monospace\"><span style=\"font-weight: bold\"> Trainable params: </span><span style=\"color: #00af00; text-decoration-color: #00af00\">79,510</span> (310.59 KB)\n",
       "</pre>\n"
      ],
      "text/plain": [
       "\u001b[1m Trainable params: \u001b[0m\u001b[38;5;34m79,510\u001b[0m (310.59 KB)\n"
      ]
     },
     "metadata": {},
     "output_type": "display_data"
    },
    {
     "data": {
      "text/html": [
       "<pre style=\"white-space:pre;overflow-x:auto;line-height:normal;font-family:Menlo,'DejaVu Sans Mono',consolas,'Courier New',monospace\"><span style=\"font-weight: bold\"> Non-trainable params: </span><span style=\"color: #00af00; text-decoration-color: #00af00\">0</span> (0.00 B)\n",
       "</pre>\n"
      ],
      "text/plain": [
       "\u001b[1m Non-trainable params: \u001b[0m\u001b[38;5;34m0\u001b[0m (0.00 B)\n"
      ]
     },
     "metadata": {},
     "output_type": "display_data"
    }
   ],
   "source": [
    "# 설정된 모형에 대해 상태 확인\n",
    "model.summary()"
   ]
  },
  {
   "cell_type": "code",
   "execution_count": 56,
   "metadata": {},
   "outputs": [
    {
     "name": "stdout",
     "output_type": "stream",
     "text": [
      "Epoch 1/40\n",
      "\u001b[1m1500/1500\u001b[0m \u001b[32m━━━━━━━━━━━━━━━━━━━━\u001b[0m\u001b[37m\u001b[0m \u001b[1m7s\u001b[0m 4ms/step - accuracy: 0.5391 - loss: 1.7321 - val_accuracy: 0.7371 - val_loss: 0.9570\n",
      "Epoch 2/40\n",
      "\u001b[1m1500/1500\u001b[0m \u001b[32m━━━━━━━━━━━━━━━━━━━━\u001b[0m\u001b[37m\u001b[0m \u001b[1m6s\u001b[0m 4ms/step - accuracy: 0.7413 - loss: 0.8894 - val_accuracy: 0.7608 - val_loss: 0.7453\n",
      "Epoch 3/40\n",
      "\u001b[1m1500/1500\u001b[0m \u001b[32m━━━━━━━━━━━━━━━━━━━━\u001b[0m\u001b[37m\u001b[0m \u001b[1m7s\u001b[0m 4ms/step - accuracy: 0.7623 - loss: 0.7246 - val_accuracy: 0.7793 - val_loss: 0.6593\n",
      "Epoch 4/40\n",
      "\u001b[1m1500/1500\u001b[0m \u001b[32m━━━━━━━━━━━━━━━━━━━━\u001b[0m\u001b[37m\u001b[0m \u001b[1m7s\u001b[0m 4ms/step - accuracy: 0.7776 - loss: 0.6549 - val_accuracy: 0.7928 - val_loss: 0.6078\n",
      "Epoch 5/40\n",
      "\u001b[1m1500/1500\u001b[0m \u001b[32m━━━━━━━━━━━━━━━━━━━━\u001b[0m\u001b[37m\u001b[0m \u001b[1m6s\u001b[0m 4ms/step - accuracy: 0.7888 - loss: 0.6101 - val_accuracy: 0.8026 - val_loss: 0.5732\n",
      "Epoch 6/40\n",
      "\u001b[1m1500/1500\u001b[0m \u001b[32m━━━━━━━━━━━━━━━━━━━━\u001b[0m\u001b[37m\u001b[0m \u001b[1m7s\u001b[0m 4ms/step - accuracy: 0.8006 - loss: 0.5807 - val_accuracy: 0.8098 - val_loss: 0.5486\n",
      "Epoch 7/40\n",
      "\u001b[1m1500/1500\u001b[0m \u001b[32m━━━━━━━━━━━━━━━━━━━━\u001b[0m\u001b[37m\u001b[0m \u001b[1m7s\u001b[0m 4ms/step - accuracy: 0.8074 - loss: 0.5585 - val_accuracy: 0.8175 - val_loss: 0.5291\n",
      "Epoch 8/40\n",
      "\u001b[1m1500/1500\u001b[0m \u001b[32m━━━━━━━━━━━━━━━━━━━━\u001b[0m\u001b[37m\u001b[0m \u001b[1m7s\u001b[0m 5ms/step - accuracy: 0.8142 - loss: 0.5384 - val_accuracy: 0.8223 - val_loss: 0.5119\n",
      "Epoch 9/40\n",
      "\u001b[1m1500/1500\u001b[0m \u001b[32m━━━━━━━━━━━━━━━━━━━━\u001b[0m\u001b[37m\u001b[0m \u001b[1m7s\u001b[0m 4ms/step - accuracy: 0.8211 - loss: 0.5186 - val_accuracy: 0.8262 - val_loss: 0.4995\n",
      "Epoch 10/40\n",
      "\u001b[1m1500/1500\u001b[0m \u001b[32m━━━━━━━━━━━━━━━━━━━━\u001b[0m\u001b[37m\u001b[0m \u001b[1m7s\u001b[0m 4ms/step - accuracy: 0.8224 - loss: 0.5077 - val_accuracy: 0.8307 - val_loss: 0.4883\n",
      "Epoch 11/40\n",
      "\u001b[1m1500/1500\u001b[0m \u001b[32m━━━━━━━━━━━━━━━━━━━━\u001b[0m\u001b[37m\u001b[0m \u001b[1m6s\u001b[0m 4ms/step - accuracy: 0.8297 - loss: 0.4956 - val_accuracy: 0.8342 - val_loss: 0.4793\n",
      "Epoch 12/40\n",
      "\u001b[1m1500/1500\u001b[0m \u001b[32m━━━━━━━━━━━━━━━━━━━━\u001b[0m\u001b[37m\u001b[0m \u001b[1m6s\u001b[0m 4ms/step - accuracy: 0.8303 - loss: 0.4904 - val_accuracy: 0.8342 - val_loss: 0.4719\n",
      "Epoch 13/40\n",
      "\u001b[1m1500/1500\u001b[0m \u001b[32m━━━━━━━━━━━━━━━━━━━━\u001b[0m\u001b[37m\u001b[0m \u001b[1m7s\u001b[0m 4ms/step - accuracy: 0.8326 - loss: 0.4788 - val_accuracy: 0.8355 - val_loss: 0.4652\n",
      "Epoch 14/40\n",
      "\u001b[1m1500/1500\u001b[0m \u001b[32m━━━━━━━━━━━━━━━━━━━━\u001b[0m\u001b[37m\u001b[0m \u001b[1m6s\u001b[0m 4ms/step - accuracy: 0.8350 - loss: 0.4724 - val_accuracy: 0.8371 - val_loss: 0.4594\n",
      "Epoch 15/40\n",
      "\u001b[1m1500/1500\u001b[0m \u001b[32m━━━━━━━━━━━━━━━━━━━━\u001b[0m\u001b[37m\u001b[0m \u001b[1m6s\u001b[0m 4ms/step - accuracy: 0.8370 - loss: 0.4649 - val_accuracy: 0.8413 - val_loss: 0.4517\n",
      "Epoch 16/40\n",
      "\u001b[1m1500/1500\u001b[0m \u001b[32m━━━━━━━━━━━━━━━━━━━━\u001b[0m\u001b[37m\u001b[0m \u001b[1m10s\u001b[0m 4ms/step - accuracy: 0.8378 - loss: 0.4621 - val_accuracy: 0.8432 - val_loss: 0.4463\n",
      "Epoch 17/40\n",
      "\u001b[1m1500/1500\u001b[0m \u001b[32m━━━━━━━━━━━━━━━━━━━━\u001b[0m\u001b[37m\u001b[0m \u001b[1m6s\u001b[0m 4ms/step - accuracy: 0.8431 - loss: 0.4512 - val_accuracy: 0.8439 - val_loss: 0.4458\n",
      "Epoch 18/40\n",
      "\u001b[1m1500/1500\u001b[0m \u001b[32m━━━━━━━━━━━━━━━━━━━━\u001b[0m\u001b[37m\u001b[0m \u001b[1m7s\u001b[0m 4ms/step - accuracy: 0.8407 - loss: 0.4560 - val_accuracy: 0.8465 - val_loss: 0.4383\n",
      "Epoch 19/40\n",
      "\u001b[1m1500/1500\u001b[0m \u001b[32m━━━━━━━━━━━━━━━━━━━━\u001b[0m\u001b[37m\u001b[0m \u001b[1m7s\u001b[0m 4ms/step - accuracy: 0.8442 - loss: 0.4451 - val_accuracy: 0.8461 - val_loss: 0.4354\n",
      "Epoch 20/40\n",
      "\u001b[1m1500/1500\u001b[0m \u001b[32m━━━━━━━━━━━━━━━━━━━━\u001b[0m\u001b[37m\u001b[0m \u001b[1m10s\u001b[0m 7ms/step - accuracy: 0.8419 - loss: 0.4428 - val_accuracy: 0.8476 - val_loss: 0.4309\n",
      "Epoch 21/40\n",
      "\u001b[1m1500/1500\u001b[0m \u001b[32m━━━━━━━━━━━━━━━━━━━━\u001b[0m\u001b[37m\u001b[0m \u001b[1m10s\u001b[0m 7ms/step - accuracy: 0.8467 - loss: 0.4371 - val_accuracy: 0.8490 - val_loss: 0.4265\n",
      "Epoch 22/40\n",
      "\u001b[1m1500/1500\u001b[0m \u001b[32m━━━━━━━━━━━━━━━━━━━━\u001b[0m\u001b[37m\u001b[0m \u001b[1m8s\u001b[0m 5ms/step - accuracy: 0.8461 - loss: 0.4432 - val_accuracy: 0.8504 - val_loss: 0.4236\n",
      "Epoch 23/40\n",
      "\u001b[1m1500/1500\u001b[0m \u001b[32m━━━━━━━━━━━━━━━━━━━━\u001b[0m\u001b[37m\u001b[0m \u001b[1m9s\u001b[0m 6ms/step - accuracy: 0.8482 - loss: 0.4295 - val_accuracy: 0.8520 - val_loss: 0.4212\n",
      "Epoch 24/40\n",
      "\u001b[1m1500/1500\u001b[0m \u001b[32m━━━━━━━━━━━━━━━━━━━━\u001b[0m\u001b[37m\u001b[0m \u001b[1m6s\u001b[0m 4ms/step - accuracy: 0.8524 - loss: 0.4245 - val_accuracy: 0.8497 - val_loss: 0.4202\n",
      "Epoch 25/40\n",
      "\u001b[1m1500/1500\u001b[0m \u001b[32m━━━━━━━━━━━━━━━━━━━━\u001b[0m\u001b[37m\u001b[0m \u001b[1m7s\u001b[0m 5ms/step - accuracy: 0.8518 - loss: 0.4279 - val_accuracy: 0.8523 - val_loss: 0.4164\n",
      "Epoch 26/40\n",
      "\u001b[1m1500/1500\u001b[0m \u001b[32m━━━━━━━━━━━━━━━━━━━━\u001b[0m\u001b[37m\u001b[0m \u001b[1m7s\u001b[0m 4ms/step - accuracy: 0.8519 - loss: 0.4233 - val_accuracy: 0.8541 - val_loss: 0.4137\n",
      "Epoch 27/40\n",
      "\u001b[1m1500/1500\u001b[0m \u001b[32m━━━━━━━━━━━━━━━━━━━━\u001b[0m\u001b[37m\u001b[0m \u001b[1m7s\u001b[0m 4ms/step - accuracy: 0.8552 - loss: 0.4126 - val_accuracy: 0.8544 - val_loss: 0.4109\n",
      "Epoch 28/40\n",
      "\u001b[1m1500/1500\u001b[0m \u001b[32m━━━━━━━━━━━━━━━━━━━━\u001b[0m\u001b[37m\u001b[0m \u001b[1m7s\u001b[0m 4ms/step - accuracy: 0.8520 - loss: 0.4189 - val_accuracy: 0.8568 - val_loss: 0.4090\n",
      "Epoch 29/40\n",
      "\u001b[1m1500/1500\u001b[0m \u001b[32m━━━━━━━━━━━━━━━━━━━━\u001b[0m\u001b[37m\u001b[0m \u001b[1m7s\u001b[0m 4ms/step - accuracy: 0.8500 - loss: 0.4211 - val_accuracy: 0.8564 - val_loss: 0.4083\n",
      "Epoch 30/40\n",
      "\u001b[1m1500/1500\u001b[0m \u001b[32m━━━━━━━━━━━━━━━━━━━━\u001b[0m\u001b[37m\u001b[0m \u001b[1m6s\u001b[0m 4ms/step - accuracy: 0.8568 - loss: 0.4079 - val_accuracy: 0.8572 - val_loss: 0.4045\n",
      "Epoch 31/40\n",
      "\u001b[1m1500/1500\u001b[0m \u001b[32m━━━━━━━━━━━━━━━━━━━━\u001b[0m\u001b[37m\u001b[0m \u001b[1m7s\u001b[0m 4ms/step - accuracy: 0.8566 - loss: 0.4077 - val_accuracy: 0.8586 - val_loss: 0.4021\n",
      "Epoch 32/40\n",
      "\u001b[1m1500/1500\u001b[0m \u001b[32m━━━━━━━━━━━━━━━━━━━━\u001b[0m\u001b[37m\u001b[0m \u001b[1m6s\u001b[0m 4ms/step - accuracy: 0.8569 - loss: 0.4058 - val_accuracy: 0.8601 - val_loss: 0.4006\n",
      "Epoch 33/40\n",
      "\u001b[1m1500/1500\u001b[0m \u001b[32m━━━━━━━━━━━━━━━━━━━━\u001b[0m\u001b[37m\u001b[0m \u001b[1m6s\u001b[0m 4ms/step - accuracy: 0.8585 - loss: 0.4015 - val_accuracy: 0.8592 - val_loss: 0.3996\n",
      "Epoch 34/40\n",
      "\u001b[1m1500/1500\u001b[0m \u001b[32m━━━━━━━━━━━━━━━━━━━━\u001b[0m\u001b[37m\u001b[0m \u001b[1m7s\u001b[0m 5ms/step - accuracy: 0.8589 - loss: 0.4023 - val_accuracy: 0.8609 - val_loss: 0.3964\n",
      "Epoch 35/40\n",
      "\u001b[1m1500/1500\u001b[0m \u001b[32m━━━━━━━━━━━━━━━━━━━━\u001b[0m\u001b[37m\u001b[0m \u001b[1m6s\u001b[0m 4ms/step - accuracy: 0.8584 - loss: 0.4023 - val_accuracy: 0.8612 - val_loss: 0.3979\n",
      "Epoch 36/40\n",
      "\u001b[1m1500/1500\u001b[0m \u001b[32m━━━━━━━━━━━━━━━━━━━━\u001b[0m\u001b[37m\u001b[0m \u001b[1m6s\u001b[0m 4ms/step - accuracy: 0.8586 - loss: 0.3967 - val_accuracy: 0.8613 - val_loss: 0.3942\n",
      "Epoch 37/40\n",
      "\u001b[1m1500/1500\u001b[0m \u001b[32m━━━━━━━━━━━━━━━━━━━━\u001b[0m\u001b[37m\u001b[0m \u001b[1m6s\u001b[0m 4ms/step - accuracy: 0.8589 - loss: 0.3997 - val_accuracy: 0.8628 - val_loss: 0.3928\n",
      "Epoch 38/40\n",
      "\u001b[1m1500/1500\u001b[0m \u001b[32m━━━━━━━━━━━━━━━━━━━━\u001b[0m\u001b[37m\u001b[0m \u001b[1m7s\u001b[0m 4ms/step - accuracy: 0.8638 - loss: 0.3899 - val_accuracy: 0.8610 - val_loss: 0.3931\n",
      "Epoch 39/40\n",
      "\u001b[1m1500/1500\u001b[0m \u001b[32m━━━━━━━━━━━━━━━━━━━━\u001b[0m\u001b[37m\u001b[0m \u001b[1m7s\u001b[0m 4ms/step - accuracy: 0.8625 - loss: 0.3891 - val_accuracy: 0.8640 - val_loss: 0.3887\n",
      "Epoch 40/40\n",
      "\u001b[1m1500/1500\u001b[0m \u001b[32m━━━━━━━━━━━━━━━━━━━━\u001b[0m\u001b[37m\u001b[0m \u001b[1m6s\u001b[0m 4ms/step - accuracy: 0.8619 - loss: 0.3899 - val_accuracy: 0.8629 - val_loss: 0.3891\n"
     ]
    }
   ],
   "source": [
    "# 모델 훈련\n",
    "X_train.shape, y_train_encoded.shape, X_val.shape, y_val_encoded.shape\n",
    "\n",
    "# 모델 학습 (batch_size default = 32, 48000/32 = 1500)\n",
    "history = model.fit(X_train, y_train_encoded, epochs=40, validation_data=(X_val, y_val_encoded))"
   ]
  },
  {
   "cell_type": "code",
   "execution_count": 57,
   "metadata": {},
   "outputs": [
    {
     "data": {
      "text/html": [
       "<div>\n",
       "<style scoped>\n",
       "    .dataframe tbody tr th:only-of-type {\n",
       "        vertical-align: middle;\n",
       "    }\n",
       "\n",
       "    .dataframe tbody tr th {\n",
       "        vertical-align: top;\n",
       "    }\n",
       "\n",
       "    .dataframe thead th {\n",
       "        text-align: right;\n",
       "    }\n",
       "</style>\n",
       "<table border=\"1\" class=\"dataframe\">\n",
       "  <thead>\n",
       "    <tr style=\"text-align: right;\">\n",
       "      <th></th>\n",
       "      <th>train_loss</th>\n",
       "      <th>train_acc</th>\n",
       "      <th>val_loss</th>\n",
       "      <th>val_acc</th>\n",
       "    </tr>\n",
       "  </thead>\n",
       "  <tbody>\n",
       "    <tr>\n",
       "      <th>0</th>\n",
       "      <td>0.657083</td>\n",
       "      <td>1.377819</td>\n",
       "      <td>0.737083</td>\n",
       "      <td>0.956977</td>\n",
       "    </tr>\n",
       "    <tr>\n",
       "      <th>1</th>\n",
       "      <td>0.747417</td>\n",
       "      <td>0.837812</td>\n",
       "      <td>0.760833</td>\n",
       "      <td>0.745344</td>\n",
       "    </tr>\n",
       "    <tr>\n",
       "      <th>2</th>\n",
       "      <td>0.766437</td>\n",
       "      <td>0.705727</td>\n",
       "      <td>0.779250</td>\n",
       "      <td>0.659288</td>\n",
       "    </tr>\n",
       "    <tr>\n",
       "      <th>3</th>\n",
       "      <td>0.781563</td>\n",
       "      <td>0.641615</td>\n",
       "      <td>0.792833</td>\n",
       "      <td>0.607785</td>\n",
       "    </tr>\n",
       "    <tr>\n",
       "      <th>4</th>\n",
       "      <td>0.794062</td>\n",
       "      <td>0.600814</td>\n",
       "      <td>0.802583</td>\n",
       "      <td>0.573228</td>\n",
       "    </tr>\n",
       "    <tr>\n",
       "      <th>5</th>\n",
       "      <td>0.804250</td>\n",
       "      <td>0.571438</td>\n",
       "      <td>0.809833</td>\n",
       "      <td>0.548551</td>\n",
       "    </tr>\n",
       "    <tr>\n",
       "      <th>6</th>\n",
       "      <td>0.811083</td>\n",
       "      <td>0.549198</td>\n",
       "      <td>0.817500</td>\n",
       "      <td>0.529108</td>\n",
       "    </tr>\n",
       "    <tr>\n",
       "      <th>7</th>\n",
       "      <td>0.816458</td>\n",
       "      <td>0.531701</td>\n",
       "      <td>0.822333</td>\n",
       "      <td>0.511908</td>\n",
       "    </tr>\n",
       "    <tr>\n",
       "      <th>8</th>\n",
       "      <td>0.821563</td>\n",
       "      <td>0.517162</td>\n",
       "      <td>0.826167</td>\n",
       "      <td>0.499507</td>\n",
       "    </tr>\n",
       "    <tr>\n",
       "      <th>9</th>\n",
       "      <td>0.824479</td>\n",
       "      <td>0.505447</td>\n",
       "      <td>0.830667</td>\n",
       "      <td>0.488316</td>\n",
       "    </tr>\n",
       "    <tr>\n",
       "      <th>10</th>\n",
       "      <td>0.829167</td>\n",
       "      <td>0.495176</td>\n",
       "      <td>0.834250</td>\n",
       "      <td>0.479272</td>\n",
       "    </tr>\n",
       "    <tr>\n",
       "      <th>11</th>\n",
       "      <td>0.831250</td>\n",
       "      <td>0.486566</td>\n",
       "      <td>0.834167</td>\n",
       "      <td>0.471866</td>\n",
       "    </tr>\n",
       "    <tr>\n",
       "      <th>12</th>\n",
       "      <td>0.832958</td>\n",
       "      <td>0.478846</td>\n",
       "      <td>0.835500</td>\n",
       "      <td>0.465160</td>\n",
       "    </tr>\n",
       "    <tr>\n",
       "      <th>13</th>\n",
       "      <td>0.835979</td>\n",
       "      <td>0.471787</td>\n",
       "      <td>0.837083</td>\n",
       "      <td>0.459377</td>\n",
       "    </tr>\n",
       "    <tr>\n",
       "      <th>14</th>\n",
       "      <td>0.837667</td>\n",
       "      <td>0.465727</td>\n",
       "      <td>0.841333</td>\n",
       "      <td>0.451718</td>\n",
       "    </tr>\n",
       "    <tr>\n",
       "      <th>15</th>\n",
       "      <td>0.838979</td>\n",
       "      <td>0.460001</td>\n",
       "      <td>0.843167</td>\n",
       "      <td>0.446337</td>\n",
       "    </tr>\n",
       "    <tr>\n",
       "      <th>16</th>\n",
       "      <td>0.841521</td>\n",
       "      <td>0.454763</td>\n",
       "      <td>0.843917</td>\n",
       "      <td>0.445803</td>\n",
       "    </tr>\n",
       "    <tr>\n",
       "      <th>17</th>\n",
       "      <td>0.843104</td>\n",
       "      <td>0.449819</td>\n",
       "      <td>0.846500</td>\n",
       "      <td>0.438266</td>\n",
       "    </tr>\n",
       "    <tr>\n",
       "      <th>18</th>\n",
       "      <td>0.844354</td>\n",
       "      <td>0.445845</td>\n",
       "      <td>0.846083</td>\n",
       "      <td>0.435430</td>\n",
       "    </tr>\n",
       "    <tr>\n",
       "      <th>19</th>\n",
       "      <td>0.845062</td>\n",
       "      <td>0.441332</td>\n",
       "      <td>0.847583</td>\n",
       "      <td>0.430869</td>\n",
       "    </tr>\n",
       "    <tr>\n",
       "      <th>20</th>\n",
       "      <td>0.846042</td>\n",
       "      <td>0.437970</td>\n",
       "      <td>0.849000</td>\n",
       "      <td>0.426529</td>\n",
       "    </tr>\n",
       "    <tr>\n",
       "      <th>21</th>\n",
       "      <td>0.848375</td>\n",
       "      <td>0.434224</td>\n",
       "      <td>0.850417</td>\n",
       "      <td>0.423599</td>\n",
       "    </tr>\n",
       "    <tr>\n",
       "      <th>22</th>\n",
       "      <td>0.849125</td>\n",
       "      <td>0.430805</td>\n",
       "      <td>0.852000</td>\n",
       "      <td>0.421247</td>\n",
       "    </tr>\n",
       "    <tr>\n",
       "      <th>23</th>\n",
       "      <td>0.850521</td>\n",
       "      <td>0.427414</td>\n",
       "      <td>0.849750</td>\n",
       "      <td>0.420155</td>\n",
       "    </tr>\n",
       "    <tr>\n",
       "      <th>24</th>\n",
       "      <td>0.850979</td>\n",
       "      <td>0.424511</td>\n",
       "      <td>0.852333</td>\n",
       "      <td>0.416418</td>\n",
       "    </tr>\n",
       "    <tr>\n",
       "      <th>25</th>\n",
       "      <td>0.852021</td>\n",
       "      <td>0.421746</td>\n",
       "      <td>0.854083</td>\n",
       "      <td>0.413701</td>\n",
       "    </tr>\n",
       "    <tr>\n",
       "      <th>26</th>\n",
       "      <td>0.853375</td>\n",
       "      <td>0.418657</td>\n",
       "      <td>0.854417</td>\n",
       "      <td>0.410908</td>\n",
       "    </tr>\n",
       "    <tr>\n",
       "      <th>27</th>\n",
       "      <td>0.853437</td>\n",
       "      <td>0.416177</td>\n",
       "      <td>0.856750</td>\n",
       "      <td>0.409028</td>\n",
       "    </tr>\n",
       "    <tr>\n",
       "      <th>28</th>\n",
       "      <td>0.853875</td>\n",
       "      <td>0.413514</td>\n",
       "      <td>0.856417</td>\n",
       "      <td>0.408313</td>\n",
       "    </tr>\n",
       "    <tr>\n",
       "      <th>29</th>\n",
       "      <td>0.855375</td>\n",
       "      <td>0.410768</td>\n",
       "      <td>0.857250</td>\n",
       "      <td>0.404549</td>\n",
       "    </tr>\n",
       "    <tr>\n",
       "      <th>30</th>\n",
       "      <td>0.855333</td>\n",
       "      <td>0.408670</td>\n",
       "      <td>0.858583</td>\n",
       "      <td>0.402094</td>\n",
       "    </tr>\n",
       "    <tr>\n",
       "      <th>31</th>\n",
       "      <td>0.856750</td>\n",
       "      <td>0.406351</td>\n",
       "      <td>0.860083</td>\n",
       "      <td>0.400607</td>\n",
       "    </tr>\n",
       "    <tr>\n",
       "      <th>32</th>\n",
       "      <td>0.857562</td>\n",
       "      <td>0.404194</td>\n",
       "      <td>0.859167</td>\n",
       "      <td>0.399625</td>\n",
       "    </tr>\n",
       "    <tr>\n",
       "      <th>33</th>\n",
       "      <td>0.858042</td>\n",
       "      <td>0.401821</td>\n",
       "      <td>0.860917</td>\n",
       "      <td>0.396350</td>\n",
       "    </tr>\n",
       "    <tr>\n",
       "      <th>34</th>\n",
       "      <td>0.858479</td>\n",
       "      <td>0.399978</td>\n",
       "      <td>0.861250</td>\n",
       "      <td>0.397876</td>\n",
       "    </tr>\n",
       "    <tr>\n",
       "      <th>35</th>\n",
       "      <td>0.859333</td>\n",
       "      <td>0.397880</td>\n",
       "      <td>0.861333</td>\n",
       "      <td>0.394159</td>\n",
       "    </tr>\n",
       "    <tr>\n",
       "      <th>36</th>\n",
       "      <td>0.860625</td>\n",
       "      <td>0.396044</td>\n",
       "      <td>0.862833</td>\n",
       "      <td>0.392753</td>\n",
       "    </tr>\n",
       "    <tr>\n",
       "      <th>37</th>\n",
       "      <td>0.860896</td>\n",
       "      <td>0.393979</td>\n",
       "      <td>0.861000</td>\n",
       "      <td>0.393057</td>\n",
       "    </tr>\n",
       "    <tr>\n",
       "      <th>38</th>\n",
       "      <td>0.861708</td>\n",
       "      <td>0.392349</td>\n",
       "      <td>0.864000</td>\n",
       "      <td>0.388712</td>\n",
       "    </tr>\n",
       "    <tr>\n",
       "      <th>39</th>\n",
       "      <td>0.861729</td>\n",
       "      <td>0.390472</td>\n",
       "      <td>0.862917</td>\n",
       "      <td>0.389077</td>\n",
       "    </tr>\n",
       "  </tbody>\n",
       "</table>\n",
       "</div>"
      ],
      "text/plain": [
       "    train_loss  train_acc  val_loss   val_acc\n",
       "0     0.657083   1.377819  0.737083  0.956977\n",
       "1     0.747417   0.837812  0.760833  0.745344\n",
       "2     0.766437   0.705727  0.779250  0.659288\n",
       "3     0.781563   0.641615  0.792833  0.607785\n",
       "4     0.794062   0.600814  0.802583  0.573228\n",
       "5     0.804250   0.571438  0.809833  0.548551\n",
       "6     0.811083   0.549198  0.817500  0.529108\n",
       "7     0.816458   0.531701  0.822333  0.511908\n",
       "8     0.821563   0.517162  0.826167  0.499507\n",
       "9     0.824479   0.505447  0.830667  0.488316\n",
       "10    0.829167   0.495176  0.834250  0.479272\n",
       "11    0.831250   0.486566  0.834167  0.471866\n",
       "12    0.832958   0.478846  0.835500  0.465160\n",
       "13    0.835979   0.471787  0.837083  0.459377\n",
       "14    0.837667   0.465727  0.841333  0.451718\n",
       "15    0.838979   0.460001  0.843167  0.446337\n",
       "16    0.841521   0.454763  0.843917  0.445803\n",
       "17    0.843104   0.449819  0.846500  0.438266\n",
       "18    0.844354   0.445845  0.846083  0.435430\n",
       "19    0.845062   0.441332  0.847583  0.430869\n",
       "20    0.846042   0.437970  0.849000  0.426529\n",
       "21    0.848375   0.434224  0.850417  0.423599\n",
       "22    0.849125   0.430805  0.852000  0.421247\n",
       "23    0.850521   0.427414  0.849750  0.420155\n",
       "24    0.850979   0.424511  0.852333  0.416418\n",
       "25    0.852021   0.421746  0.854083  0.413701\n",
       "26    0.853375   0.418657  0.854417  0.410908\n",
       "27    0.853437   0.416177  0.856750  0.409028\n",
       "28    0.853875   0.413514  0.856417  0.408313\n",
       "29    0.855375   0.410768  0.857250  0.404549\n",
       "30    0.855333   0.408670  0.858583  0.402094\n",
       "31    0.856750   0.406351  0.860083  0.400607\n",
       "32    0.857562   0.404194  0.859167  0.399625\n",
       "33    0.858042   0.401821  0.860917  0.396350\n",
       "34    0.858479   0.399978  0.861250  0.397876\n",
       "35    0.859333   0.397880  0.861333  0.394159\n",
       "36    0.860625   0.396044  0.862833  0.392753\n",
       "37    0.860896   0.393979  0.861000  0.393057\n",
       "38    0.861708   0.392349  0.864000  0.388712\n",
       "39    0.861729   0.390472  0.862917  0.389077"
      ]
     },
     "execution_count": 57,
     "metadata": {},
     "output_type": "execute_result"
    }
   ],
   "source": [
    "# 손실과 정확도 그래프 : 모델 성능 평가\n",
    "\n",
    "df = pd.DataFrame(history.history)\n",
    "df.columns = ['train_loss', 'train_acc', 'val_loss', 'val_acc']\n",
    "df"
   ]
  },
  {
   "cell_type": "code",
   "execution_count": 58,
   "metadata": {},
   "outputs": [
    {
     "data": {
      "image/png": "[encoded data removed]",
      "text/plain": [
       "<Figure size 640x480 with 1 Axes>"
      ]
     },
     "metadata": {},
     "output_type": "display_data"
    }
   ],
   "source": [
    "plt.plot(df['train_loss'], label='train_loss')\n",
    "plt.plot(df['train_acc'], label='train_acc')\n",
    "plt.plot(df['val_loss'], label='val_loss')\n",
    "plt.plot(df['val_acc'], label='val_acc')\n",
    "plt.xlabel('epochs')\n",
    "plt.ylabel('loss')\n",
    "plt.legend();plt.grid();plt.show()"
   ]
  },
  {
   "cell_type": "code",
   "execution_count": 59,
   "metadata": {},
   "outputs": [
    {
     "name": "stdout",
     "output_type": "stream",
     "text": [
      "0.389076828956604 0.8629166483879089\n"
     ]
    }
   ],
   "source": [
    "# 검증 세트 정확도 계산하기 : evaluate() - 손실값과 metrics 매개변수에 추가한 측정 지표를 계산\n",
    "loss, accuracy = model.evaluate(X_val, y_val_encoded, verbose=0)\n",
    "print(loss, accuracy)"
   ]
  },
  {
   "cell_type": "code",
   "execution_count": 60,
   "metadata": {},
   "outputs": [
    {
     "name": "stdout",
     "output_type": "stream",
     "text": [
      "\u001b[1m313/313\u001b[0m \u001b[32m━━━━━━━━━━━━━━━━━━━━\u001b[0m\u001b[37m\u001b[0m \u001b[1m1s\u001b[0m 3ms/step\n",
      "[[0.00000001 0.00000004 0.00000006 0.00000001 0.00000012 0.00000077\n",
      "  0.00000006 0.0013565  0.00000328 0.99863917]\n",
      " [0.00005673 0.00000065 0.9525712  0.00001653 0.00177735 0.00000004\n",
      "  0.04557547 0.00000001 0.00000169 0.00000042]\n",
      " [0.00000518 0.99998    0.00000076 0.0000027  0.00001108 0.\n",
      "  0.00000001 0.00000024 0.00000003 0.        ]\n",
      " [0.00000004 0.99999404 0.00000005 0.0000048  0.00000069 0.\n",
      "  0.         0.00000034 0.         0.        ]\n",
      " [0.01614988 0.00016663 0.809771   0.00068751 0.05420801 0.00000006\n",
      "  0.11825825 0.00000014 0.00073753 0.00002102]]\n"
     ]
    }
   ],
   "source": [
    "# 테스트 세트 정확도 계산하기\n",
    "from tensorflow.keras.utils import to_categorical\n",
    "\n",
    "y_pred_proba = model.predict(X_test.reshape(-1, 784))\n",
    "np.set_printoptions(suppress=True)\n",
    "print(y_pred_proba[:5])"
   ]
  },
  {
   "cell_type": "code",
   "execution_count": 61,
   "metadata": {},
   "outputs": [
    {
     "data": {
      "text/plain": [
       "[9, 2, 1, 1, 2]"
      ]
     },
     "execution_count": 61,
     "metadata": {},
     "output_type": "execute_result"
    }
   ],
   "source": [
    "y_pred = [np.argmax(x) for x in y_pred_proba]\n",
    "y_pred[:5]"
   ]
  },
  {
   "cell_type": "code",
   "execution_count": 62,
   "metadata": {},
   "outputs": [
    {
     "data": {
      "text/plain": [
       "array([9, 2, 1, 1, 6], dtype=uint8)"
      ]
     },
     "execution_count": 62,
     "metadata": {},
     "output_type": "execute_result"
    }
   ],
   "source": [
    "y_test[:5]"
   ]
  },
  {
   "cell_type": "code",
   "execution_count": 63,
   "metadata": {},
   "outputs": [
    {
     "data": {
      "text/plain": [
       "0.7809"
      ]
     },
     "execution_count": 63,
     "metadata": {},
     "output_type": "execute_result"
    }
   ],
   "source": [
    "from sklearn.metrics import accuracy_score\n",
    "\n",
    "acc = accuracy_score(y_test, y_pred)\n",
    "acc"
   ]
  },
  {
   "cell_type": "code",
   "execution_count": 64,
   "metadata": {},
   "outputs": [
    {
     "name": "stdout",
     "output_type": "stream",
     "text": [
      "0.8924075961112976 0.7809000015258789\n"
     ]
    }
   ],
   "source": [
    "y_test_encoded = to_categorical(y_test)\n",
    "test_loss, test_accuracy = model.evaluate(X_test.reshape(-1, 784), y_test_encoded, verbose=0)\n",
    "print(test_loss, test_accuracy)"
   ]
  },
  {
   "cell_type": "code",
   "execution_count": 65,
   "metadata": {},
   "outputs": [
    {
     "data": {
      "image/png": "[encoded data removed]",
      "text/plain": [
       "<Figure size 640x480 with 1 Axes>"
      ]
     },
     "metadata": {},
     "output_type": "display_data"
    }
   ],
   "source": [
    "# 막대그래프로 레이블 확인\n",
    "plt.bar(range(1, 11), y_pred_proba[0])\n",
    "plt.xlabel('label')\n",
    "plt.ylabel('probability')\n",
    "plt.show()"
   ]
  },
  {
   "cell_type": "code",
   "execution_count": null,
   "metadata": {},
   "outputs": [],
   "source": []
  },
  {
   "cell_type": "code",
   "execution_count": null,
   "metadata": {},
   "outputs": [],
   "source": []
  }
 ],
 "metadata": {
  "kernelspec": {
   "display_name": "Python 3",
   "language": "python",
   "name": "python3"
  },
  "language_info": {
   "codemirror_mode": {
    "name": "ipython",
    "version": 3
   },
   "file_extension": ".py",
   "mimetype": "text/x-python",
   "name": "python",
   "nbconvert_exporter": "python",
   "pygments_lexer": "ipython3",
   "version": "3.11.5"
  }
 },
 "nbformat": 4,
 "nbformat_minor": 2
}
