{
 "cells": [
  {
   "cell_type": "markdown",
   "metadata": {},
   "source": [
    "** 단일표본 모분산 검정 (χ² 검정) **\n",
    "- 검정 통계량을 직접 계산하고 chi2.cdf() 함수를 이용하여 단일표본 모분산 검정을 수행할 수 있다.\n",
    "\n",
    "\n",
    "- stats.chi2.cdf(x, df)\n",
    "- x : 카이제곱 분포의 누적확률을 구하려는 카이제곱 통계량 값 / df : 자유도는 n-1\n",
    "\n",
    "\n",
    "- chi3.cdf() 함수는 카이제곱 분포의 누적분포 함수를 계산하는 데 사용한다. 이함수는 카이제곱 분포의 누적분포를 사용하여 어떤 값 미만의 영역에 속하는 확률을 계산하는 데 유용하다."
   ]
  },
  {
   "cell_type": "code",
   "execution_count": 1,
   "metadata": {},
   "outputs": [
    {
     "name": "stdout",
     "output_type": "stream",
     "text": [
      "Chi-Square Statistic : 0.9800000000000009\n",
      "p-value : 0.9951447440742881\n",
      "귀무가설을 기각하지 못합니다. 모분산은 1.0과 같은 가능성이 있습니다.\n"
     ]
    }
   ],
   "source": [
    "# 카이제곱 검정 수행 예제\n",
    "\n",
    "import numpy as np\n",
    "from scipy.stats import chi2\n",
    "\n",
    "# 샘플데이터 생성\n",
    "data = np.array([14.2, 15.1, 14.8, 15.4, 14.9, 15.2, 14.6, 15.0])\n",
    "\n",
    "# 가설 설정\n",
    "# H0 : 모분산은 1.0과 같다.\n",
    "# H1 : 모분산은 1.0과 다르다.\n",
    "\n",
    "population_variance = 1.0  # 모분산\n",
    "\n",
    "# 검정 통계량 = (n-1) * 표본분산 / 모분산\n",
    "sample_variance = np.var(data, ddof=1)\n",
    "n = len(data)\n",
    "chi2_stat = (n-1) * sample_variance / population_variance\n",
    "\n",
    "\n",
    "# 카이제곱 분포의 자유도\n",
    "degrees_of_freedom = n-1\n",
    "\n",
    "# p-값 계산\n",
    "p_value = 1 - chi2.cdf(chi2_stat, degrees_of_freedom)\n",
    "\n",
    "# 결과 출력\n",
    "print(f\"Chi-Square Statistic : {chi2_stat}\")\n",
    "print(f\"p-value : {p_value}\")\n",
    "\n",
    "# 유의수준 0.05로 가설검정\n",
    "alpha = 0.05\n",
    "if p_value < alpha:\n",
    "    print(\"귀무가설을 기각합니다. 모분산은 1.0과 다릅니다.\")\n",
    "else:\n",
    "    print(\"귀무가설을 기각하지 못합니다. 모분산은 1.0과 같은 가능성이 있습니다.\")"
   ]
  },
  {
   "cell_type": "code",
   "execution_count": null,
   "metadata": {},
   "outputs": [],
   "source": []
  },
  {
   "cell_type": "markdown",
   "metadata": {},
   "source": [
    "** 두 모분산 비에 대한 가설 검정 ( F 검정 : 일원분산분석)\n",
    "\n",
    "- 모분산에 비해 대한 가설 검정은 두 모집단의 분산이 동일한지 여부를 확인하는 통계적 검정이다. 이를 위해 두 개의 표본에서 분산을 계산하고, 두 분산의 비율을 검정통계량으로 사용한다. 일반적으로 F-분포를 사용하여 가설 검정을 수행한다.\n",
    "\n",
    "\n",
    "- stats.f.cdf(x, dfn, dfd)\n",
    "- x : F 분포의 누적확률을 구하려는 F 통계량 값 / dfn : 분자 자유도, 첫 번째 그룹의 자유도 / dfd : 분모 자유도, 두 번째 그룹의 자유도\n"
   ]
  },
  {
   "cell_type": "code",
   "execution_count": 2,
   "metadata": {},
   "outputs": [
    {
     "name": "stdout",
     "output_type": "stream",
     "text": [
      "[ 2.82873879  6.99469089  5.565957    1.98741057  3.8427995   8.30287307\n",
      "  0.14664151  4.14217474  7.53187252  3.2665192   3.6422277   4.81058206\n",
      "  7.98277925  3.72219601  4.11203608  4.13129745  9.41186017  9.37357218\n",
      "  7.0081078   5.7723728   6.47473715  7.98146406  3.12833226  7.35165809\n",
      "  2.49223866  3.724497    6.81421039  2.1426386   4.71986256  3.27649021\n",
      "  4.48876126 -0.59717821  1.45693379  3.60024553  6.85492486  4.65272863\n",
      "  5.00569183  6.37644542  3.24092731  5.56725465  3.38926696  1.54466101\n",
      "  4.21820041  6.14761172  5.6771781   4.97633901  9.78473053  5.82582432\n",
      "  6.95747201  9.47628668]\n",
      "[ 1.11774403  1.88363537 10.23113668  2.60581179  5.08904969  8.20794791\n",
      "  7.67211917 10.26465855  9.48693241  8.20817801  2.68187386  7.384588\n",
      "  5.94281598  1.02120362  9.25189714  7.4217096   5.13647024  4.30072382\n",
      "  1.40509657  5.59857222  6.40531736  2.50653505  8.48661215  1.70839086\n",
      " -1.36930105  8.11918127  3.78990189  4.62191124  2.48744983  0.18211172\n",
      "  8.76571212  2.93339305  9.98285746  7.42192456  4.05572556  1.7422928\n",
      "  2.80261404  1.36243061 11.26134008  5.49332369  8.45061663  1.19794385\n",
      "  5.54310539  8.53358582  3.99496771  8.09334338  1.74629626  0.90958537\n",
      "  6.13820184  3.8624707 ]\n"
     ]
    }
   ],
   "source": [
    "# 2개의 표본을 생성\n",
    "\n",
    "import numpy as np\n",
    "np.random.seed(123)\n",
    "\n",
    "sample1 = np.random.normal(loc=5, scale=2, size=50)\n",
    "sample2 = np.random.normal(loc=5, scale=3, size=50)\n",
    "print(sample1)\n",
    "print(sample2)"
   ]
  },
  {
   "cell_type": "code",
   "execution_count": 5,
   "metadata": {},
   "outputs": [
    {
     "name": "stdout",
     "output_type": "stream",
     "text": [
      "표본 1의 분산 : 5.7763\n",
      "표본 2의 분산 : 10.3800\n",
      "p-value: 0.9787 >= 0.05, 귀무가설을 기각하지 않습니다. 두 표본의 모분산은 같을 수 있습니다.\n"
     ]
    }
   ],
   "source": [
    "# 분산이 동일한지 검정\n",
    "\n",
    "from scipy import stats\n",
    "\n",
    "# 두 표본의 분산 계산\n",
    "variance_sample1 = np.var(sample1, ddof=1)  # ddof=1은 자유도 보정을 위해 사용\n",
    "variance_sample2 = np.var(sample2, ddof=1)\n",
    "\n",
    "# F-검정 실행\n",
    "f_statistic = variance_sample1 / variance_sample2\n",
    "df1 = len(sample1)-1\n",
    "df2 = len(sample2)-1\n",
    "p_value = 1 - stats.f.cdf(f_statistic, df1, df2)\n",
    "\n",
    "print(f\"표본 1의 분산 : {variance_sample1:.4f}\")\n",
    "print(f\"표본 2의 분산 : {variance_sample2:.4f}\")\n",
    "\n",
    "alpha = 0.05\n",
    "if p_value < alpha:\n",
    "    print(f\"p-value:{p_value:.4f} < {alpha}, 귀무가설을 기각합니다. 두 표본의 모분산은 다릅니다.\")\n",
    "else:\n",
    "    print(f\"p-value: {p_value:.4f} >= {alpha}, 귀무가설을 기각하지 않습니다. 두 표본의 모분산은 같을 수 있습니다.\")"
   ]
  },
  {
   "cell_type": "code",
   "execution_count": null,
   "metadata": {},
   "outputs": [],
   "source": []
  },
  {
   "cell_type": "markdown",
   "metadata": {},
   "source": [
    "** 독립성 검정 (χ² 검정) **\n",
    "\n",
    "- 카이제곱 검정은 주로 범주형 데이터에 대한 통계적 가설 검정을 수행하는 데 사용된다. 이 검정은 두 개 이상의 범주형 변수 간의 관계를 분석하거나 관찰된 빈도와 기대 빈도 사이의 차이를 확인하는 데 활용한다.\n",
    "\n",
    "\n",
    "- stats.chi_contignency(observed, correction=True, lambda_=None)\n",
    "- observed (array-like) : 교차표의 관측된 데이터를 나타내는 배열 또는 매트릭스, 이 배열은 행이 범주 1을 나타내고 열이 범주 2를 나타내는 2D 배열이어야함\n",
    "- correction (bool, optional) : 자유도가 1인 검정의 Yates' 보정을 사용할지 여부를 결정, 지정값은 True\n",
    "- lambda_(float, optional) : 람다값, Yates' 보정 또는 Fisher's exact test 관련\n",
    "\n",
    "\n",
    "- => 반환 값 :chi2, p-value, df, expected"
   ]
  },
  {
   "cell_type": "code",
   "execution_count": 7,
   "metadata": {},
   "outputs": [
    {
     "name": "stdout",
     "output_type": "stream",
     "text": [
      "Chi-square statistic : 134.7511341579557\n",
      "p-value : 5.117490956087995e-29\n",
      "Degrees of freedom : 3\n",
      "Expected frequencies table : [[ 99.16666667  74.375      120.41666667 131.04166667]\n",
      " [ 40.83333333  30.625       49.58333333  53.95833333]]\n"
     ]
    }
   ],
   "source": [
    "import numpy as np\n",
    "from scipy.stats import chi2_contingency\n",
    "\n",
    "data_matrix = np.array([[50, 75, 125, 175], [90, 30, 45, 10]])\n",
    "\n",
    "chi2, p, df, expected = chi2_contingency(data_matrix)\n",
    "\n",
    "# 결과 출력\n",
    "print(f\"Chi-square statistic : {chi2}\")\n",
    "print(f\"p-value : {p}\")\n",
    "print(f\"Degrees of freedom : {df}\")\n",
    "print(f\"Expected frequencies table : {expected}\")"
   ]
  },
  {
   "cell_type": "code",
   "execution_count": null,
   "metadata": {},
   "outputs": [],
   "source": []
  }
 ],
 "metadata": {
  "kernelspec": {
   "display_name": "Python 3",
   "language": "python",
   "name": "python3"
  },
  "language_info": {
   "codemirror_mode": {
    "name": "ipython",
    "version": 3
   },
   "file_extension": ".py",
   "mimetype": "text/x-python",
   "name": "python",
   "nbconvert_exporter": "python",
   "pygments_lexer": "ipython3",
   "version": "3.11.5"
  }
 },
 "nbformat": 4,
 "nbformat_minor": 2
}
