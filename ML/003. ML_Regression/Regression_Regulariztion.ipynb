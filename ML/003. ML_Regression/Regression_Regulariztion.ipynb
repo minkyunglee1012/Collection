{
 "cells": [
  {
   "cell_type": "markdown",
   "metadata": {},
   "source": [
    "# 규제가 있는 선형회귀 - 릿지, 라쏘, 엘라스틱넷 회귀"
   ]
  },
  {
   "cell_type": "markdown",
   "metadata": {},
   "source": [
    "#### 규제가 있는 모델 구축 - 당뇨병 데이터세트\n",
    "#### 1. 데이터 전처리\n",
    "#### 2. Ridge, Lasso, Elasticnet regression 구축: 회귀 계수 확인, 하이퍼 파라미터 탐색\n",
    "#### 3. 교차 검증으로 최적의 하이퍼파라미터 탐색: LassoCV()"
   ]
  },
  {
   "cell_type": "code",
   "execution_count": 88,
   "metadata": {},
   "outputs": [],
   "source": [
    "# 관련 라이브러리 및 모듈 Import\n",
    "\n",
    "import pandas as pd\n",
    "import numpy as np\n",
    "import matplotlib.pyplot as plt"
   ]
  },
  {
   "cell_type": "markdown",
   "metadata": {},
   "source": [
    "# 0. 데이터 수집, 탐색, 준비"
   ]
  },
  {
   "cell_type": "code",
   "execution_count": 34,
   "metadata": {},
   "outputs": [],
   "source": [
    "from sklearn.datasets import load_diabetes\n",
    "from sklearn.linear_model import LinearRegression\n",
    "from sklearn.linear_model import Ridge\n",
    "from sklearn.linear_model import Lasso\n",
    "from sklearn.linear_model import ElasticNet\n",
    "\n",
    "from sklearn.linear_model import RidgeCV\n",
    "from sklearn.linear_model import LassoCV\n",
    "\n",
    "from sklearn.model_selection import train_test_split\n",
    "from sklearn.metrics import mean_squared_error, r2_score"
   ]
  },
  {
   "cell_type": "markdown",
   "metadata": {},
   "source": [
    "####  데이터셋에 대한 설명 및 정보 확인"
   ]
  },
  {
   "cell_type": "code",
   "execution_count": 35,
   "metadata": {},
   "outputs": [],
   "source": [
    "# 데이터셋 정보확인"
   ]
  },
  {
   "cell_type": "code",
   "execution_count": 36,
   "metadata": {},
   "outputs": [
    {
     "data": {
      "text/plain": [
       "dict_keys(['data', 'target', 'frame', 'DESCR', 'feature_names', 'data_filename', 'target_filename', 'data_module'])"
      ]
     },
     "execution_count": 36,
     "metadata": {},
     "output_type": "execute_result"
    }
   ],
   "source": [
    "diab = load_diabetes()\n",
    "diab.keys()"
   ]
  },
  {
   "cell_type": "code",
   "execution_count": 37,
   "metadata": {},
   "outputs": [
    {
     "data": {
      "text/plain": [
       "['age', 'sex', 'bmi', 'bp', 's1', 's2', 's3', 's4', 's5', 's6']"
      ]
     },
     "execution_count": 37,
     "metadata": {},
     "output_type": "execute_result"
    }
   ],
   "source": [
    "diab.feature_names"
   ]
  },
  {
   "cell_type": "markdown",
   "metadata": {},
   "source": [
    "#### 데이터프레임 변환"
   ]
  },
  {
   "cell_type": "code",
   "execution_count": 38,
   "metadata": {},
   "outputs": [],
   "source": [
    "# 독립변수(피처)와 종속변수를 DataFrame자료형으로 변환"
   ]
  },
  {
   "cell_type": "code",
   "execution_count": 39,
   "metadata": {},
   "outputs": [
    {
     "name": "stdout",
     "output_type": "stream",
     "text": [
      "<class 'pandas.core.frame.DataFrame'>\n",
      "RangeIndex: 442 entries, 0 to 441\n",
      "Data columns (total 10 columns):\n",
      " #   Column  Non-Null Count  Dtype  \n",
      "---  ------  --------------  -----  \n",
      " 0   age     442 non-null    float64\n",
      " 1   sex     442 non-null    float64\n",
      " 2   bmi     442 non-null    float64\n",
      " 3   bp      442 non-null    float64\n",
      " 4   s1      442 non-null    float64\n",
      " 5   s2      442 non-null    float64\n",
      " 6   s3      442 non-null    float64\n",
      " 7   s4      442 non-null    float64\n",
      " 8   s5      442 non-null    float64\n",
      " 9   s6      442 non-null    float64\n",
      "dtypes: float64(10)\n",
      "memory usage: 34.7 KB\n"
     ]
    }
   ],
   "source": [
    "# 데이터셋 객체의 data 배열, 즉, 독립변수 X가되는 피처(특성)들을 DataFrame자료형으로 변환하여\n",
    "# diab_df생성\n",
    "# diab_df.head() 데이터 5개 확인\n",
    "\n",
    "diab_df = pd.DataFrame(data=diab.data, columns= diab.feature_names)\n",
    "diab_df.head()\n",
    "diab_df.info() #결측치 하나도 없군! < 결측치가 없어야됨!!!!!!! \n"
   ]
  },
  {
   "cell_type": "code",
   "execution_count": 40,
   "metadata": {},
   "outputs": [],
   "source": [
    "\n",
    "diab_df.describe() # diab_df의 기초통계량\n",
    "pd.options.display.float_format = '{:.5f}' .format # 알기쉬운 소수점 표현으로 표시하기\n"
   ]
  },
  {
   "cell_type": "code",
   "execution_count": 41,
   "metadata": {},
   "outputs": [
    {
     "data": {
      "text/html": [
       "<div>\n",
       "<style scoped>\n",
       "    .dataframe tbody tr th:only-of-type {\n",
       "        vertical-align: middle;\n",
       "    }\n",
       "\n",
       "    .dataframe tbody tr th {\n",
       "        vertical-align: top;\n",
       "    }\n",
       "\n",
       "    .dataframe thead th {\n",
       "        text-align: right;\n",
       "    }\n",
       "</style>\n",
       "<table border=\"1\" class=\"dataframe\">\n",
       "  <thead>\n",
       "    <tr style=\"text-align: right;\">\n",
       "      <th></th>\n",
       "      <th>age</th>\n",
       "      <th>sex</th>\n",
       "      <th>bmi</th>\n",
       "      <th>bp</th>\n",
       "      <th>s1</th>\n",
       "      <th>s2</th>\n",
       "      <th>s3</th>\n",
       "      <th>s4</th>\n",
       "      <th>s5</th>\n",
       "      <th>s6</th>\n",
       "      <th>progress</th>\n",
       "    </tr>\n",
       "  </thead>\n",
       "  <tbody>\n",
       "    <tr>\n",
       "      <th>0</th>\n",
       "      <td>0.03808</td>\n",
       "      <td>0.05068</td>\n",
       "      <td>0.06170</td>\n",
       "      <td>0.02187</td>\n",
       "      <td>-0.04422</td>\n",
       "      <td>-0.03482</td>\n",
       "      <td>-0.04340</td>\n",
       "      <td>-0.00259</td>\n",
       "      <td>0.01991</td>\n",
       "      <td>-0.01765</td>\n",
       "      <td>151.00000</td>\n",
       "    </tr>\n",
       "    <tr>\n",
       "      <th>1</th>\n",
       "      <td>-0.00188</td>\n",
       "      <td>-0.04464</td>\n",
       "      <td>-0.05147</td>\n",
       "      <td>-0.02633</td>\n",
       "      <td>-0.00845</td>\n",
       "      <td>-0.01916</td>\n",
       "      <td>0.07441</td>\n",
       "      <td>-0.03949</td>\n",
       "      <td>-0.06833</td>\n",
       "      <td>-0.09220</td>\n",
       "      <td>75.00000</td>\n",
       "    </tr>\n",
       "    <tr>\n",
       "      <th>2</th>\n",
       "      <td>0.08530</td>\n",
       "      <td>0.05068</td>\n",
       "      <td>0.04445</td>\n",
       "      <td>-0.00567</td>\n",
       "      <td>-0.04560</td>\n",
       "      <td>-0.03419</td>\n",
       "      <td>-0.03236</td>\n",
       "      <td>-0.00259</td>\n",
       "      <td>0.00286</td>\n",
       "      <td>-0.02593</td>\n",
       "      <td>141.00000</td>\n",
       "    </tr>\n",
       "    <tr>\n",
       "      <th>3</th>\n",
       "      <td>-0.08906</td>\n",
       "      <td>-0.04464</td>\n",
       "      <td>-0.01160</td>\n",
       "      <td>-0.03666</td>\n",
       "      <td>0.01219</td>\n",
       "      <td>0.02499</td>\n",
       "      <td>-0.03604</td>\n",
       "      <td>0.03431</td>\n",
       "      <td>0.02269</td>\n",
       "      <td>-0.00936</td>\n",
       "      <td>206.00000</td>\n",
       "    </tr>\n",
       "    <tr>\n",
       "      <th>4</th>\n",
       "      <td>0.00538</td>\n",
       "      <td>-0.04464</td>\n",
       "      <td>-0.03638</td>\n",
       "      <td>0.02187</td>\n",
       "      <td>0.00393</td>\n",
       "      <td>0.01560</td>\n",
       "      <td>0.00814</td>\n",
       "      <td>-0.00259</td>\n",
       "      <td>-0.03199</td>\n",
       "      <td>-0.04664</td>\n",
       "      <td>135.00000</td>\n",
       "    </tr>\n",
       "    <tr>\n",
       "      <th>...</th>\n",
       "      <td>...</td>\n",
       "      <td>...</td>\n",
       "      <td>...</td>\n",
       "      <td>...</td>\n",
       "      <td>...</td>\n",
       "      <td>...</td>\n",
       "      <td>...</td>\n",
       "      <td>...</td>\n",
       "      <td>...</td>\n",
       "      <td>...</td>\n",
       "      <td>...</td>\n",
       "    </tr>\n",
       "    <tr>\n",
       "      <th>437</th>\n",
       "      <td>0.04171</td>\n",
       "      <td>0.05068</td>\n",
       "      <td>0.01966</td>\n",
       "      <td>0.05974</td>\n",
       "      <td>-0.00570</td>\n",
       "      <td>-0.00257</td>\n",
       "      <td>-0.02867</td>\n",
       "      <td>-0.00259</td>\n",
       "      <td>0.03119</td>\n",
       "      <td>0.00721</td>\n",
       "      <td>178.00000</td>\n",
       "    </tr>\n",
       "    <tr>\n",
       "      <th>438</th>\n",
       "      <td>-0.00551</td>\n",
       "      <td>0.05068</td>\n",
       "      <td>-0.01591</td>\n",
       "      <td>-0.06764</td>\n",
       "      <td>0.04934</td>\n",
       "      <td>0.07917</td>\n",
       "      <td>-0.02867</td>\n",
       "      <td>0.03431</td>\n",
       "      <td>-0.01811</td>\n",
       "      <td>0.04449</td>\n",
       "      <td>104.00000</td>\n",
       "    </tr>\n",
       "    <tr>\n",
       "      <th>439</th>\n",
       "      <td>0.04171</td>\n",
       "      <td>0.05068</td>\n",
       "      <td>-0.01591</td>\n",
       "      <td>0.01729</td>\n",
       "      <td>-0.03734</td>\n",
       "      <td>-0.01384</td>\n",
       "      <td>-0.02499</td>\n",
       "      <td>-0.01108</td>\n",
       "      <td>-0.04688</td>\n",
       "      <td>0.01549</td>\n",
       "      <td>132.00000</td>\n",
       "    </tr>\n",
       "    <tr>\n",
       "      <th>440</th>\n",
       "      <td>-0.04547</td>\n",
       "      <td>-0.04464</td>\n",
       "      <td>0.03906</td>\n",
       "      <td>0.00122</td>\n",
       "      <td>0.01632</td>\n",
       "      <td>0.01528</td>\n",
       "      <td>-0.02867</td>\n",
       "      <td>0.02656</td>\n",
       "      <td>0.04453</td>\n",
       "      <td>-0.02593</td>\n",
       "      <td>220.00000</td>\n",
       "    </tr>\n",
       "    <tr>\n",
       "      <th>441</th>\n",
       "      <td>-0.04547</td>\n",
       "      <td>-0.04464</td>\n",
       "      <td>-0.07303</td>\n",
       "      <td>-0.08141</td>\n",
       "      <td>0.08374</td>\n",
       "      <td>0.02781</td>\n",
       "      <td>0.17382</td>\n",
       "      <td>-0.03949</td>\n",
       "      <td>-0.00422</td>\n",
       "      <td>0.00306</td>\n",
       "      <td>57.00000</td>\n",
       "    </tr>\n",
       "  </tbody>\n",
       "</table>\n",
       "<p>442 rows × 11 columns</p>\n",
       "</div>"
      ],
      "text/plain": [
       "         age      sex      bmi       bp       s1       s2       s3       s4  \\\n",
       "0    0.03808  0.05068  0.06170  0.02187 -0.04422 -0.03482 -0.04340 -0.00259   \n",
       "1   -0.00188 -0.04464 -0.05147 -0.02633 -0.00845 -0.01916  0.07441 -0.03949   \n",
       "2    0.08530  0.05068  0.04445 -0.00567 -0.04560 -0.03419 -0.03236 -0.00259   \n",
       "3   -0.08906 -0.04464 -0.01160 -0.03666  0.01219  0.02499 -0.03604  0.03431   \n",
       "4    0.00538 -0.04464 -0.03638  0.02187  0.00393  0.01560  0.00814 -0.00259   \n",
       "..       ...      ...      ...      ...      ...      ...      ...      ...   \n",
       "437  0.04171  0.05068  0.01966  0.05974 -0.00570 -0.00257 -0.02867 -0.00259   \n",
       "438 -0.00551  0.05068 -0.01591 -0.06764  0.04934  0.07917 -0.02867  0.03431   \n",
       "439  0.04171  0.05068 -0.01591  0.01729 -0.03734 -0.01384 -0.02499 -0.01108   \n",
       "440 -0.04547 -0.04464  0.03906  0.00122  0.01632  0.01528 -0.02867  0.02656   \n",
       "441 -0.04547 -0.04464 -0.07303 -0.08141  0.08374  0.02781  0.17382 -0.03949   \n",
       "\n",
       "          s5       s6  progress  \n",
       "0    0.01991 -0.01765 151.00000  \n",
       "1   -0.06833 -0.09220  75.00000  \n",
       "2    0.00286 -0.02593 141.00000  \n",
       "3    0.02269 -0.00936 206.00000  \n",
       "4   -0.03199 -0.04664 135.00000  \n",
       "..       ...      ...       ...  \n",
       "437  0.03119  0.00721 178.00000  \n",
       "438 -0.01811  0.04449 104.00000  \n",
       "439 -0.04688  0.01549 132.00000  \n",
       "440  0.04453 -0.02593 220.00000  \n",
       "441 -0.00422  0.00306  57.00000  \n",
       "\n",
       "[442 rows x 11 columns]"
      ]
     },
     "execution_count": 41,
     "metadata": {},
     "output_type": "execute_result"
    }
   ],
   "source": [
    "# 목표 target 붙이기\n",
    "\n",
    "diab_df['progress'] = diab.target\n",
    "diab_df"
   ]
  },
  {
   "cell_type": "code",
   "execution_count": 43,
   "metadata": {},
   "outputs": [],
   "source": [
    "# 누락치 확인,  data type 확인 ->  isnull().sum(), target에 결측값이 있으면 해당 관측치 제거"
   ]
  },
  {
   "cell_type": "code",
   "execution_count": 44,
   "metadata": {},
   "outputs": [
    {
     "data": {
      "text/plain": [
       "age         0\n",
       "sex         0\n",
       "bmi         0\n",
       "bp          0\n",
       "s1          0\n",
       "s2          0\n",
       "s3          0\n",
       "s4          0\n",
       "s5          0\n",
       "s6          0\n",
       "progress    0\n",
       "dtype: int64"
      ]
     },
     "execution_count": 44,
     "metadata": {},
     "output_type": "execute_result"
    }
   ],
   "source": [
    "diab_df.isnull().sum()"
   ]
  },
  {
   "cell_type": "code",
   "execution_count": null,
   "metadata": {},
   "outputs": [],
   "source": []
  },
  {
   "cell_type": "code",
   "execution_count": 45,
   "metadata": {},
   "outputs": [],
   "source": [
    "# X(독립변수), Y(종속변수) 분할\n",
    "X = diab.data\n",
    "Y = diab.target"
   ]
  },
  {
   "cell_type": "code",
   "execution_count": 59,
   "metadata": {},
   "outputs": [],
   "source": [
    "# 학습용, 평가용 데이터 분리\n",
    "X_train, X_test, y_train, y_test = train_test_split(X, Y, test_size=0.3, random_state=42)"
   ]
  },
  {
   "cell_type": "code",
   "execution_count": null,
   "metadata": {},
   "outputs": [],
   "source": []
  },
  {
   "cell_type": "markdown",
   "metadata": {},
   "source": [
    "# 모델별 계수변화, 알파별 계수 비교 데이터프레임(comp_df)"
   ]
  },
  {
   "cell_type": "code",
   "execution_count": 62,
   "metadata": {},
   "outputs": [
    {
     "data": {
      "text/html": [
       "<div>\n",
       "<style scoped>\n",
       "    .dataframe tbody tr th:only-of-type {\n",
       "        vertical-align: middle;\n",
       "    }\n",
       "\n",
       "    .dataframe tbody tr th {\n",
       "        vertical-align: top;\n",
       "    }\n",
       "\n",
       "    .dataframe thead th {\n",
       "        text-align: right;\n",
       "    }\n",
       "</style>\n",
       "<table border=\"1\" class=\"dataframe\">\n",
       "  <thead>\n",
       "    <tr style=\"text-align: right;\">\n",
       "      <th></th>\n",
       "    </tr>\n",
       "  </thead>\n",
       "  <tbody>\n",
       "    <tr>\n",
       "      <th>age</th>\n",
       "    </tr>\n",
       "    <tr>\n",
       "      <th>sex</th>\n",
       "    </tr>\n",
       "    <tr>\n",
       "      <th>bmi</th>\n",
       "    </tr>\n",
       "    <tr>\n",
       "      <th>bp</th>\n",
       "    </tr>\n",
       "    <tr>\n",
       "      <th>s1</th>\n",
       "    </tr>\n",
       "    <tr>\n",
       "      <th>s2</th>\n",
       "    </tr>\n",
       "    <tr>\n",
       "      <th>s3</th>\n",
       "    </tr>\n",
       "    <tr>\n",
       "      <th>s4</th>\n",
       "    </tr>\n",
       "    <tr>\n",
       "      <th>s5</th>\n",
       "    </tr>\n",
       "    <tr>\n",
       "      <th>s6</th>\n",
       "    </tr>\n",
       "    <tr>\n",
       "      <th>R2 score</th>\n",
       "    </tr>\n",
       "  </tbody>\n",
       "</table>\n",
       "</div>"
      ],
      "text/plain": [
       "Empty DataFrame\n",
       "Columns: []\n",
       "Index: [age, sex, bmi, bp, s1, s2, s3, s4, s5, s6, R2 score]"
      ]
     },
     "execution_count": 62,
     "metadata": {},
     "output_type": "execute_result"
    }
   ],
   "source": [
    "#각 모델별 계수로 이루어진 데이터프레임 준비\n",
    "comp_df = pd.DataFrame(index = diab.feature_names + ['R2 score']) \n",
    "# 단순히 R2 score 더한거 확인!\n",
    "comp_df"
   ]
  },
  {
   "cell_type": "code",
   "execution_count": null,
   "metadata": {},
   "outputs": [],
   "source": []
  },
  {
   "cell_type": "code",
   "execution_count": 48,
   "metadata": {},
   "outputs": [],
   "source": [
    "#각 모델별, 규제강도별 평가지표 저장\n"
   ]
  },
  {
   "cell_type": "code",
   "execution_count": null,
   "metadata": {},
   "outputs": [],
   "source": []
  },
  {
   "cell_type": "markdown",
   "metadata": {},
   "source": [
    "# 1. 규제가 없는 선형모델"
   ]
  },
  {
   "cell_type": "code",
   "execution_count": 63,
   "metadata": {},
   "outputs": [
    {
     "name": "stdout",
     "output_type": "stream",
     "text": [
      "0.4772897164322618\n",
      "age     29.25401\n",
      "sex   -261.70647\n",
      "bmi    546.29972\n",
      "bp     388.39834\n",
      "s1    -901.95967\n",
      "s2     506.76324\n",
      "s3     121.15435\n",
      "s4     288.03527\n",
      "s5     659.26895\n",
      "s6      41.37670\n",
      "dtype: float64\n"
     ]
    }
   ],
   "source": [
    "#규제가 없는 다중 선형회귀수행\n",
    "#모델 구축 및 학습\n",
    "model_LR = LinearRegression()\n",
    "model_LR.fit(X_train, y_train)\n",
    "\n",
    "#모델 평가\n",
    "\n",
    "y_pred = model_LR.predict(X_test)\n",
    "r2 = r2_score(y_test, y_pred)\n",
    "print(r2)\n",
    "\n",
    "# 회귀 계수 확인\n",
    "LR_coef = pd.Series(model_LR.coef_, index = diab.feature_names)\n",
    "print(LR_coef)\n",
    "\n"
   ]
  },
  {
   "cell_type": "markdown",
   "metadata": {},
   "source": [
    "- 계수값 시각화"
   ]
  },
  {
   "cell_type": "code",
   "execution_count": 64,
   "metadata": {},
   "outputs": [
    {
     "data": {
      "image/png": "[encoded data removed]",
      "text/plain": [
       "<Figure size 1000x300 with 1 Axes>"
      ]
     },
     "metadata": {},
     "output_type": "display_data"
    }
   ],
   "source": [
    "\n",
    "\n",
    "# 시각화\n",
    "# LR_coef.sort_values(ascending=False)\n",
    "\n",
    "# 절댓값으로 가장 많이 끼치는 계수 정렬\n",
    "coef = np.abs(LR_coef).sort_values(ascending=False)\n",
    "\n",
    "plt.figure(figsize = (10, 3))\n",
    "plt.title('feature importacne of coefficient without regulations')\n",
    "plt.bar(coef.index, coef.values)\n",
    "plt.xticks(rotation = 45)\n",
    "plt.show()\n",
    "\n",
    "\n"
   ]
  },
  {
   "cell_type": "code",
   "execution_count": 65,
   "metadata": {},
   "outputs": [
    {
     "data": {
      "text/html": [
       "<div>\n",
       "<style scoped>\n",
       "    .dataframe tbody tr th:only-of-type {\n",
       "        vertical-align: middle;\n",
       "    }\n",
       "\n",
       "    .dataframe tbody tr th {\n",
       "        vertical-align: top;\n",
       "    }\n",
       "\n",
       "    .dataframe thead th {\n",
       "        text-align: right;\n",
       "    }\n",
       "</style>\n",
       "<table border=\"1\" class=\"dataframe\">\n",
       "  <thead>\n",
       "    <tr style=\"text-align: right;\">\n",
       "      <th></th>\n",
       "      <th>LR</th>\n",
       "    </tr>\n",
       "  </thead>\n",
       "  <tbody>\n",
       "    <tr>\n",
       "      <th>age</th>\n",
       "      <td>29.25401</td>\n",
       "    </tr>\n",
       "    <tr>\n",
       "      <th>sex</th>\n",
       "      <td>-261.70647</td>\n",
       "    </tr>\n",
       "    <tr>\n",
       "      <th>bmi</th>\n",
       "      <td>546.29972</td>\n",
       "    </tr>\n",
       "    <tr>\n",
       "      <th>bp</th>\n",
       "      <td>388.39834</td>\n",
       "    </tr>\n",
       "    <tr>\n",
       "      <th>s1</th>\n",
       "      <td>-901.95967</td>\n",
       "    </tr>\n",
       "    <tr>\n",
       "      <th>s2</th>\n",
       "      <td>506.76324</td>\n",
       "    </tr>\n",
       "    <tr>\n",
       "      <th>s3</th>\n",
       "      <td>121.15435</td>\n",
       "    </tr>\n",
       "    <tr>\n",
       "      <th>s4</th>\n",
       "      <td>288.03527</td>\n",
       "    </tr>\n",
       "    <tr>\n",
       "      <th>s5</th>\n",
       "      <td>659.26895</td>\n",
       "    </tr>\n",
       "    <tr>\n",
       "      <th>s6</th>\n",
       "      <td>41.37670</td>\n",
       "    </tr>\n",
       "    <tr>\n",
       "      <th>R2 score</th>\n",
       "      <td>0.47729</td>\n",
       "    </tr>\n",
       "  </tbody>\n",
       "</table>\n",
       "</div>"
      ],
      "text/plain": [
       "                 LR\n",
       "age        29.25401\n",
       "sex      -261.70647\n",
       "bmi       546.29972\n",
       "bp        388.39834\n",
       "s1       -901.95967\n",
       "s2        506.76324\n",
       "s3        121.15435\n",
       "s4        288.03527\n",
       "s5        659.26895\n",
       "s6         41.37670\n",
       "R2 score    0.47729"
      ]
     },
     "execution_count": 65,
     "metadata": {},
     "output_type": "execute_result"
    }
   ],
   "source": [
    "# 모델별 비교 데이터프레임 열 추가\n",
    "comp_df['LR'] = np.append(model_LR.coef_, r2)\n",
    "comp_df\n"
   ]
  },
  {
   "cell_type": "code",
   "execution_count": null,
   "metadata": {},
   "outputs": [],
   "source": []
  },
  {
   "cell_type": "markdown",
   "metadata": {},
   "source": [
    "# 1. 릿지 모델"
   ]
  },
  {
   "cell_type": "code",
   "execution_count": 66,
   "metadata": {},
   "outputs": [
    {
     "data": {
      "text/html": [
       "<style>#sk-container-id-1 {color: black;}#sk-container-id-1 pre{padding: 0;}#sk-container-id-1 div.sk-toggleable {background-color: white;}#sk-container-id-1 label.sk-toggleable__label {cursor: pointer;display: block;width: 100%;margin-bottom: 0;padding: 0.3em;box-sizing: border-box;text-align: center;}#sk-container-id-1 label.sk-toggleable__label-arrow:before {content: \"▸\";float: left;margin-right: 0.25em;color: #696969;}#sk-container-id-1 label.sk-toggleable__label-arrow:hover:before {color: black;}#sk-container-id-1 div.sk-estimator:hover label.sk-toggleable__label-arrow:before {color: black;}#sk-container-id-1 div.sk-toggleable__content {max-height: 0;max-width: 0;overflow: hidden;text-align: left;background-color: #f0f8ff;}#sk-container-id-1 div.sk-toggleable__content pre {margin: 0.2em;color: black;border-radius: 0.25em;background-color: #f0f8ff;}#sk-container-id-1 input.sk-toggleable__control:checked~div.sk-toggleable__content {max-height: 200px;max-width: 100%;overflow: auto;}#sk-container-id-1 input.sk-toggleable__control:checked~label.sk-toggleable__label-arrow:before {content: \"▾\";}#sk-container-id-1 div.sk-estimator input.sk-toggleable__control:checked~label.sk-toggleable__label {background-color: #d4ebff;}#sk-container-id-1 div.sk-label input.sk-toggleable__control:checked~label.sk-toggleable__label {background-color: #d4ebff;}#sk-container-id-1 input.sk-hidden--visually {border: 0;clip: rect(1px 1px 1px 1px);clip: rect(1px, 1px, 1px, 1px);height: 1px;margin: -1px;overflow: hidden;padding: 0;position: absolute;width: 1px;}#sk-container-id-1 div.sk-estimator {font-family: monospace;background-color: #f0f8ff;border: 1px dotted black;border-radius: 0.25em;box-sizing: border-box;margin-bottom: 0.5em;}#sk-container-id-1 div.sk-estimator:hover {background-color: #d4ebff;}#sk-container-id-1 div.sk-parallel-item::after {content: \"\";width: 100%;border-bottom: 1px solid gray;flex-grow: 1;}#sk-container-id-1 div.sk-label:hover label.sk-toggleable__label {background-color: #d4ebff;}#sk-container-id-1 div.sk-serial::before {content: \"\";position: absolute;border-left: 1px solid gray;box-sizing: border-box;top: 0;bottom: 0;left: 50%;z-index: 0;}#sk-container-id-1 div.sk-serial {display: flex;flex-direction: column;align-items: center;background-color: white;padding-right: 0.2em;padding-left: 0.2em;position: relative;}#sk-container-id-1 div.sk-item {position: relative;z-index: 1;}#sk-container-id-1 div.sk-parallel {display: flex;align-items: stretch;justify-content: center;background-color: white;position: relative;}#sk-container-id-1 div.sk-item::before, #sk-container-id-1 div.sk-parallel-item::before {content: \"\";position: absolute;border-left: 1px solid gray;box-sizing: border-box;top: 0;bottom: 0;left: 50%;z-index: -1;}#sk-container-id-1 div.sk-parallel-item {display: flex;flex-direction: column;z-index: 1;position: relative;background-color: white;}#sk-container-id-1 div.sk-parallel-item:first-child::after {align-self: flex-end;width: 50%;}#sk-container-id-1 div.sk-parallel-item:last-child::after {align-self: flex-start;width: 50%;}#sk-container-id-1 div.sk-parallel-item:only-child::after {width: 0;}#sk-container-id-1 div.sk-dashed-wrapped {border: 1px dashed gray;margin: 0 0.4em 0.5em 0.4em;box-sizing: border-box;padding-bottom: 0.4em;background-color: white;}#sk-container-id-1 div.sk-label label {font-family: monospace;font-weight: bold;display: inline-block;line-height: 1.2em;}#sk-container-id-1 div.sk-label-container {text-align: center;}#sk-container-id-1 div.sk-container {/* jupyter's `normalize.less` sets `[hidden] { display: none; }` but bootstrap.min.css set `[hidden] { display: none !important; }` so we also need the `!important` here to be able to override the default hidden behavior on the sphinx rendered scikit-learn.org. See: https://github.com/scikit-learn/scikit-learn/issues/21755 */display: inline-block !important;position: relative;}#sk-container-id-1 div.sk-text-repr-fallback {display: none;}</style><div id=\"sk-container-id-1\" class=\"sk-top-container\"><div class=\"sk-text-repr-fallback\"><pre>Ridge(alpha=1)</pre><b>In a Jupyter environment, please rerun this cell to show the HTML representation or trust the notebook. <br />On GitHub, the HTML representation is unable to render, please try loading this page with nbviewer.org.</b></div><div class=\"sk-container\" hidden><div class=\"sk-item\"><div class=\"sk-estimator sk-toggleable\"><input class=\"sk-toggleable__control sk-hidden--visually\" id=\"sk-estimator-id-1\" type=\"checkbox\" checked><label for=\"sk-estimator-id-1\" class=\"sk-toggleable__label sk-toggleable__label-arrow\">Ridge</label><div class=\"sk-toggleable__content\"><pre>Ridge(alpha=1)</pre></div></div></div></div></div>"
      ],
      "text/plain": [
       "Ridge(alpha=1)"
      ]
     },
     "execution_count": 66,
     "metadata": {},
     "output_type": "execute_result"
    }
   ],
   "source": [
    "model_Ridge = Ridge(alpha=1)\n",
    "model_Ridge.fit(X_train, y_train)"
   ]
  },
  {
   "cell_type": "code",
   "execution_count": 67,
   "metadata": {},
   "outputs": [],
   "source": [
    "# 회귀 계수 생성함수\n",
    "\n",
    "def make_coef_series(model):\n",
    "    return pd.Series(model.coef_, index = diab.feature_names)"
   ]
  },
  {
   "cell_type": "code",
   "execution_count": 68,
   "metadata": {},
   "outputs": [
    {
     "data": {
      "text/plain": [
       "age     45.05421\n",
       "sex    -71.94740\n",
       "bmi    280.71625\n",
       "bp     195.21266\n",
       "s1      -2.22930\n",
       "s2     -17.54080\n",
       "s3    -148.68886\n",
       "s4     120.46724\n",
       "s5     198.61440\n",
       "s6     106.93469\n",
       "dtype: float64"
      ]
     },
     "execution_count": 68,
     "metadata": {},
     "output_type": "execute_result"
    }
   ],
   "source": [
    "# 릿지 선형회귀 모델 평가: model_Ridge1, alpha=1\n",
    "y_pred = model_Ridge.predict(X_test)\n",
    "r2 = r2_score(y_test, y_pred)\n",
    "\n",
    "# a=1일때 회귀 계수 확인\n",
    "Ridge_coef = make_coef_series(model_Ridge)\n",
    "Ridge_coef"
   ]
  },
  {
   "cell_type": "code",
   "execution_count": null,
   "metadata": {},
   "outputs": [],
   "source": [
    "# 선형 모델 평가\n",
    "\n",
    "\n",
    "#a = 1 릿지 모델 회귀 계수\n"
   ]
  },
  {
   "cell_type": "markdown",
   "metadata": {},
   "source": [
    "- 계수값 시각화"
   ]
  },
  {
   "cell_type": "code",
   "execution_count": 69,
   "metadata": {},
   "outputs": [
    {
     "data": {
      "image/png": "[encoded data removed]",
      "text/plain": [
       "<Figure size 1000x300 with 1 Axes>"
      ]
     },
     "metadata": {},
     "output_type": "display_data"
    }
   ],
   "source": [
    "# 시각화\n",
    "\n",
    "\n",
    "# 절댓값으로 가장 많이 끼치는 계수 정렬\n",
    "coef = np.abs(Ridge_coef).sort_values(ascending=False)\n",
    "plt.figure(figsize = (10, 3))\n",
    "plt.title('feature importacne of coefficient with Ridge regulations')\n",
    "plt.bar(coef.index, coef.values)\n",
    "plt.xticks(rotation = 45)\n",
    "plt.show()\n"
   ]
  },
  {
   "cell_type": "code",
   "execution_count": null,
   "metadata": {},
   "outputs": [],
   "source": []
  },
  {
   "cell_type": "code",
   "execution_count": 70,
   "metadata": {
    "scrolled": true
   },
   "outputs": [],
   "source": [
    "# alpha_list=[0.01, 1, 10, 100]인 경우\n",
    "\n",
    "alpha_list = [0.01, 1, 10, 100]\n",
    "\n",
    "for alpha in alpha_list :\n",
    "    model_Ridge = Ridge(alpha = alpha)\n",
    "    model_Ridge.fit(X_train, y_train)\n",
    "    y_pred = model_Ridge.predict(X_test)\n",
    "    r2 = r2_score(y_test, y_pred)\n",
    "\n",
    "    col_name = f'Ridge:alpha={alpha}'\n",
    "    comp_df[col_name] = np.append(model_Ridge.coef_, r2)\n"
   ]
  },
  {
   "cell_type": "code",
   "execution_count": 71,
   "metadata": {},
   "outputs": [
    {
     "data": {
      "text/html": [
       "<div>\n",
       "<style scoped>\n",
       "    .dataframe tbody tr th:only-of-type {\n",
       "        vertical-align: middle;\n",
       "    }\n",
       "\n",
       "    .dataframe tbody tr th {\n",
       "        vertical-align: top;\n",
       "    }\n",
       "\n",
       "    .dataframe thead th {\n",
       "        text-align: right;\n",
       "    }\n",
       "</style>\n",
       "<table border=\"1\" class=\"dataframe\">\n",
       "  <thead>\n",
       "    <tr style=\"text-align: right;\">\n",
       "      <th></th>\n",
       "      <th>LR</th>\n",
       "      <th>Ridge:alpha=0.01</th>\n",
       "      <th>Ridge:alpha=1</th>\n",
       "      <th>Ridge:alpha=10</th>\n",
       "      <th>Ridge:alpha=100</th>\n",
       "    </tr>\n",
       "  </thead>\n",
       "  <tbody>\n",
       "    <tr>\n",
       "      <th>age</th>\n",
       "      <td>29.25401</td>\n",
       "      <td>34.16733</td>\n",
       "      <td>45.05421</td>\n",
       "      <td>16.23089</td>\n",
       "      <td>2.07285</td>\n",
       "    </tr>\n",
       "    <tr>\n",
       "      <th>sex</th>\n",
       "      <td>-261.70647</td>\n",
       "      <td>-254.04332</td>\n",
       "      <td>-71.94740</td>\n",
       "      <td>-2.96137</td>\n",
       "      <td>-0.00381</td>\n",
       "    </tr>\n",
       "    <tr>\n",
       "      <th>bmi</th>\n",
       "      <td>546.29972</td>\n",
       "      <td>550.84488</td>\n",
       "      <td>280.71625</td>\n",
       "      <td>59.52416</td>\n",
       "      <td>6.89991</td>\n",
       "    </tr>\n",
       "    <tr>\n",
       "      <th>bp</th>\n",
       "      <td>388.39834</td>\n",
       "      <td>379.12671</td>\n",
       "      <td>195.21266</td>\n",
       "      <td>43.42130</td>\n",
       "      <td>5.08510</td>\n",
       "    </tr>\n",
       "    <tr>\n",
       "      <th>s1</th>\n",
       "      <td>-901.95967</td>\n",
       "      <td>-404.25326</td>\n",
       "      <td>-2.22930</td>\n",
       "      <td>13.87507</td>\n",
       "      <td>2.06966</td>\n",
       "    </tr>\n",
       "    <tr>\n",
       "      <th>s2</th>\n",
       "      <td>506.76324</td>\n",
       "      <td>123.02922</td>\n",
       "      <td>-17.54080</td>\n",
       "      <td>10.86527</td>\n",
       "      <td>1.74375</td>\n",
       "    </tr>\n",
       "    <tr>\n",
       "      <th>s3</th>\n",
       "      <td>121.15435</td>\n",
       "      <td>-99.04167</td>\n",
       "      <td>-148.68886</td>\n",
       "      <td>-37.49585</td>\n",
       "      <td>-4.50888</td>\n",
       "    </tr>\n",
       "    <tr>\n",
       "      <th>s4</th>\n",
       "      <td>288.03527</td>\n",
       "      <td>215.03262</td>\n",
       "      <td>120.46724</td>\n",
       "      <td>38.72854</td>\n",
       "      <td>4.90242</td>\n",
       "    </tr>\n",
       "    <tr>\n",
       "      <th>s5</th>\n",
       "      <td>659.26895</td>\n",
       "      <td>463.84263</td>\n",
       "      <td>198.61440</td>\n",
       "      <td>49.22475</td>\n",
       "      <td>5.92650</td>\n",
       "    </tr>\n",
       "    <tr>\n",
       "      <th>s6</th>\n",
       "      <td>41.37670</td>\n",
       "      <td>50.35149</td>\n",
       "      <td>106.93469</td>\n",
       "      <td>34.73799</td>\n",
       "      <td>4.32870</td>\n",
       "    </tr>\n",
       "    <tr>\n",
       "      <th>R2 score</th>\n",
       "      <td>0.47729</td>\n",
       "      <td>0.47767</td>\n",
       "      <td>0.42334</td>\n",
       "      <td>0.15157</td>\n",
       "      <td>0.01477</td>\n",
       "    </tr>\n",
       "  </tbody>\n",
       "</table>\n",
       "</div>"
      ],
      "text/plain": [
       "                 LR  Ridge:alpha=0.01  Ridge:alpha=1  Ridge:alpha=10  \\\n",
       "age        29.25401          34.16733       45.05421        16.23089   \n",
       "sex      -261.70647        -254.04332      -71.94740        -2.96137   \n",
       "bmi       546.29972         550.84488      280.71625        59.52416   \n",
       "bp        388.39834         379.12671      195.21266        43.42130   \n",
       "s1       -901.95967        -404.25326       -2.22930        13.87507   \n",
       "s2        506.76324         123.02922      -17.54080        10.86527   \n",
       "s3        121.15435         -99.04167     -148.68886       -37.49585   \n",
       "s4        288.03527         215.03262      120.46724        38.72854   \n",
       "s5        659.26895         463.84263      198.61440        49.22475   \n",
       "s6         41.37670          50.35149      106.93469        34.73799   \n",
       "R2 score    0.47729           0.47767        0.42334         0.15157   \n",
       "\n",
       "          Ridge:alpha=100  \n",
       "age               2.07285  \n",
       "sex              -0.00381  \n",
       "bmi               6.89991  \n",
       "bp                5.08510  \n",
       "s1                2.06966  \n",
       "s2                1.74375  \n",
       "s3               -4.50888  \n",
       "s4                4.90242  \n",
       "s5                5.92650  \n",
       "s6                4.32870  \n",
       "R2 score          0.01477  "
      ]
     },
     "execution_count": 71,
     "metadata": {},
     "output_type": "execute_result"
    }
   ],
   "source": [
    "comp_df"
   ]
  },
  {
   "cell_type": "markdown",
   "metadata": {},
   "source": [
    "# 2. 라쏘 모델"
   ]
  },
  {
   "cell_type": "code",
   "execution_count": 72,
   "metadata": {},
   "outputs": [
    {
     "data": {
      "text/html": [
       "<style>#sk-container-id-2 {color: black;}#sk-container-id-2 pre{padding: 0;}#sk-container-id-2 div.sk-toggleable {background-color: white;}#sk-container-id-2 label.sk-toggleable__label {cursor: pointer;display: block;width: 100%;margin-bottom: 0;padding: 0.3em;box-sizing: border-box;text-align: center;}#sk-container-id-2 label.sk-toggleable__label-arrow:before {content: \"▸\";float: left;margin-right: 0.25em;color: #696969;}#sk-container-id-2 label.sk-toggleable__label-arrow:hover:before {color: black;}#sk-container-id-2 div.sk-estimator:hover label.sk-toggleable__label-arrow:before {color: black;}#sk-container-id-2 div.sk-toggleable__content {max-height: 0;max-width: 0;overflow: hidden;text-align: left;background-color: #f0f8ff;}#sk-container-id-2 div.sk-toggleable__content pre {margin: 0.2em;color: black;border-radius: 0.25em;background-color: #f0f8ff;}#sk-container-id-2 input.sk-toggleable__control:checked~div.sk-toggleable__content {max-height: 200px;max-width: 100%;overflow: auto;}#sk-container-id-2 input.sk-toggleable__control:checked~label.sk-toggleable__label-arrow:before {content: \"▾\";}#sk-container-id-2 div.sk-estimator input.sk-toggleable__control:checked~label.sk-toggleable__label {background-color: #d4ebff;}#sk-container-id-2 div.sk-label input.sk-toggleable__control:checked~label.sk-toggleable__label {background-color: #d4ebff;}#sk-container-id-2 input.sk-hidden--visually {border: 0;clip: rect(1px 1px 1px 1px);clip: rect(1px, 1px, 1px, 1px);height: 1px;margin: -1px;overflow: hidden;padding: 0;position: absolute;width: 1px;}#sk-container-id-2 div.sk-estimator {font-family: monospace;background-color: #f0f8ff;border: 1px dotted black;border-radius: 0.25em;box-sizing: border-box;margin-bottom: 0.5em;}#sk-container-id-2 div.sk-estimator:hover {background-color: #d4ebff;}#sk-container-id-2 div.sk-parallel-item::after {content: \"\";width: 100%;border-bottom: 1px solid gray;flex-grow: 1;}#sk-container-id-2 div.sk-label:hover label.sk-toggleable__label {background-color: #d4ebff;}#sk-container-id-2 div.sk-serial::before {content: \"\";position: absolute;border-left: 1px solid gray;box-sizing: border-box;top: 0;bottom: 0;left: 50%;z-index: 0;}#sk-container-id-2 div.sk-serial {display: flex;flex-direction: column;align-items: center;background-color: white;padding-right: 0.2em;padding-left: 0.2em;position: relative;}#sk-container-id-2 div.sk-item {position: relative;z-index: 1;}#sk-container-id-2 div.sk-parallel {display: flex;align-items: stretch;justify-content: center;background-color: white;position: relative;}#sk-container-id-2 div.sk-item::before, #sk-container-id-2 div.sk-parallel-item::before {content: \"\";position: absolute;border-left: 1px solid gray;box-sizing: border-box;top: 0;bottom: 0;left: 50%;z-index: -1;}#sk-container-id-2 div.sk-parallel-item {display: flex;flex-direction: column;z-index: 1;position: relative;background-color: white;}#sk-container-id-2 div.sk-parallel-item:first-child::after {align-self: flex-end;width: 50%;}#sk-container-id-2 div.sk-parallel-item:last-child::after {align-self: flex-start;width: 50%;}#sk-container-id-2 div.sk-parallel-item:only-child::after {width: 0;}#sk-container-id-2 div.sk-dashed-wrapped {border: 1px dashed gray;margin: 0 0.4em 0.5em 0.4em;box-sizing: border-box;padding-bottom: 0.4em;background-color: white;}#sk-container-id-2 div.sk-label label {font-family: monospace;font-weight: bold;display: inline-block;line-height: 1.2em;}#sk-container-id-2 div.sk-label-container {text-align: center;}#sk-container-id-2 div.sk-container {/* jupyter's `normalize.less` sets `[hidden] { display: none; }` but bootstrap.min.css set `[hidden] { display: none !important; }` so we also need the `!important` here to be able to override the default hidden behavior on the sphinx rendered scikit-learn.org. See: https://github.com/scikit-learn/scikit-learn/issues/21755 */display: inline-block !important;position: relative;}#sk-container-id-2 div.sk-text-repr-fallback {display: none;}</style><div id=\"sk-container-id-2\" class=\"sk-top-container\"><div class=\"sk-text-repr-fallback\"><pre>Lasso(alpha=1)</pre><b>In a Jupyter environment, please rerun this cell to show the HTML representation or trust the notebook. <br />On GitHub, the HTML representation is unable to render, please try loading this page with nbviewer.org.</b></div><div class=\"sk-container\" hidden><div class=\"sk-item\"><div class=\"sk-estimator sk-toggleable\"><input class=\"sk-toggleable__control sk-hidden--visually\" id=\"sk-estimator-id-2\" type=\"checkbox\" checked><label for=\"sk-estimator-id-2\" class=\"sk-toggleable__label sk-toggleable__label-arrow\">Lasso</label><div class=\"sk-toggleable__content\"><pre>Lasso(alpha=1)</pre></div></div></div></div></div>"
      ],
      "text/plain": [
       "Lasso(alpha=1)"
      ]
     },
     "execution_count": 72,
     "metadata": {},
     "output_type": "execute_result"
    }
   ],
   "source": [
    "\n",
    "\n",
    "# alpha = 1\n",
    "model_Lasso1 = Lasso(alpha=1)\n",
    "model_Lasso1.fit(X_train, y_train)\n"
   ]
  },
  {
   "cell_type": "code",
   "execution_count": 74,
   "metadata": {},
   "outputs": [],
   "source": [
    "# 라쏘 선형회귀 모델 평가(alpha=1)\n",
    "y_pred = model_Lasso1.predict(X_test)\n",
    "r2 = r2_score(y_test, y_pred)\n",
    "\n",
    "# 선형 모델 평가\n",
    "\n",
    "\n",
    "#a = 1 라쏘 모델 회귀 계수\n",
    "lasso_coef = make_coef_series(model_Lasso1)\n",
    "\n"
   ]
  },
  {
   "cell_type": "markdown",
   "metadata": {},
   "source": [
    "- 계수 시각화"
   ]
  },
  {
   "cell_type": "code",
   "execution_count": 76,
   "metadata": {},
   "outputs": [
    {
     "data": {
      "image/png": "[encoded data removed]",
      "text/plain": [
       "<Figure size 1000x300 with 1 Axes>"
      ]
     },
     "metadata": {},
     "output_type": "display_data"
    }
   ],
   "source": [
    "\n",
    "# 시각화\n",
    "coef = np.abs(lasso_coef).sort_values(ascending=False)\n",
    "plt.figure(figsize = (10, 3))\n",
    "plt.title('feature importacne of coefficient with lasso regulations')\n",
    "plt.bar(coef.index, coef.values)\n",
    "plt.xticks(rotation = 45)\n",
    "plt.show()\n"
   ]
  },
  {
   "cell_type": "code",
   "execution_count": 77,
   "metadata": {},
   "outputs": [],
   "source": [
    "# alpha_list=[0.01, 1, 10, 100]인 경우\n",
    "\n",
    "alpha_list = [0.01, 1, 10, 100]\n",
    "\n",
    "for alpha in alpha_list :\n",
    "    model_Lasso1 = Lasso(alpha = alpha)\n",
    "    model_Lasso1.fit(X_train, y_train)\n",
    "    y_pred = model_Lasso1.predict(X_test)\n",
    "    r2 = r2_score(y_test, y_pred)\n",
    "\n",
    "    col_name = f'Lasso:alpha={alpha}'\n",
    "    comp_df[col_name] = np.append(model_Lasso1.coef_, r2)"
   ]
  },
  {
   "cell_type": "code",
   "execution_count": 78,
   "metadata": {},
   "outputs": [
    {
     "data": {
      "text/html": [
       "<div>\n",
       "<style scoped>\n",
       "    .dataframe tbody tr th:only-of-type {\n",
       "        vertical-align: middle;\n",
       "    }\n",
       "\n",
       "    .dataframe tbody tr th {\n",
       "        vertical-align: top;\n",
       "    }\n",
       "\n",
       "    .dataframe thead th {\n",
       "        text-align: right;\n",
       "    }\n",
       "</style>\n",
       "<table border=\"1\" class=\"dataframe\">\n",
       "  <thead>\n",
       "    <tr style=\"text-align: right;\">\n",
       "      <th></th>\n",
       "      <th>LR</th>\n",
       "      <th>Ridge:alpha=0.01</th>\n",
       "      <th>Ridge:alpha=1</th>\n",
       "      <th>Ridge:alpha=10</th>\n",
       "      <th>Ridge:alpha=100</th>\n",
       "      <th>Lasso:alpha=0.01</th>\n",
       "      <th>Lasso:alpha=1</th>\n",
       "      <th>Lasso:alpha=10</th>\n",
       "      <th>Lasso:alpha=100</th>\n",
       "    </tr>\n",
       "  </thead>\n",
       "  <tbody>\n",
       "    <tr>\n",
       "      <th>age</th>\n",
       "      <td>29.25401</td>\n",
       "      <td>34.16733</td>\n",
       "      <td>45.05421</td>\n",
       "      <td>16.23089</td>\n",
       "      <td>2.07285</td>\n",
       "      <td>28.24636</td>\n",
       "      <td>0.00000</td>\n",
       "      <td>0.00000</td>\n",
       "      <td>0.00000</td>\n",
       "    </tr>\n",
       "    <tr>\n",
       "      <th>sex</th>\n",
       "      <td>-261.70647</td>\n",
       "      <td>-254.04332</td>\n",
       "      <td>-71.94740</td>\n",
       "      <td>-2.96137</td>\n",
       "      <td>-0.00381</td>\n",
       "      <td>-250.81918</td>\n",
       "      <td>-0.00000</td>\n",
       "      <td>0.00000</td>\n",
       "      <td>0.00000</td>\n",
       "    </tr>\n",
       "    <tr>\n",
       "      <th>bmi</th>\n",
       "      <td>546.29972</td>\n",
       "      <td>550.84488</td>\n",
       "      <td>280.71625</td>\n",
       "      <td>59.52416</td>\n",
       "      <td>6.89991</td>\n",
       "      <td>556.21587</td>\n",
       "      <td>443.70339</td>\n",
       "      <td>0.00000</td>\n",
       "      <td>0.00000</td>\n",
       "    </tr>\n",
       "    <tr>\n",
       "      <th>bp</th>\n",
       "      <td>388.39834</td>\n",
       "      <td>379.12671</td>\n",
       "      <td>195.21266</td>\n",
       "      <td>43.42130</td>\n",
       "      <td>5.08510</td>\n",
       "      <td>380.65950</td>\n",
       "      <td>51.60109</td>\n",
       "      <td>0.00000</td>\n",
       "      <td>0.00000</td>\n",
       "    </tr>\n",
       "    <tr>\n",
       "      <th>s1</th>\n",
       "      <td>-901.95967</td>\n",
       "      <td>-404.25326</td>\n",
       "      <td>-2.22930</td>\n",
       "      <td>13.87507</td>\n",
       "      <td>2.06966</td>\n",
       "      <td>-468.73954</td>\n",
       "      <td>0.00000</td>\n",
       "      <td>0.00000</td>\n",
       "      <td>0.00000</td>\n",
       "    </tr>\n",
       "    <tr>\n",
       "      <th>s2</th>\n",
       "      <td>506.76324</td>\n",
       "      <td>123.02922</td>\n",
       "      <td>-17.54080</td>\n",
       "      <td>10.86527</td>\n",
       "      <td>1.74375</td>\n",
       "      <td>166.99342</td>\n",
       "      <td>0.00000</td>\n",
       "      <td>0.00000</td>\n",
       "      <td>0.00000</td>\n",
       "    </tr>\n",
       "    <tr>\n",
       "      <th>s3</th>\n",
       "      <td>121.15435</td>\n",
       "      <td>-99.04167</td>\n",
       "      <td>-148.68886</td>\n",
       "      <td>-37.49585</td>\n",
       "      <td>-4.50888</td>\n",
       "      <td>-60.21946</td>\n",
       "      <td>-0.00000</td>\n",
       "      <td>-0.00000</td>\n",
       "      <td>-0.00000</td>\n",
       "    </tr>\n",
       "    <tr>\n",
       "      <th>s4</th>\n",
       "      <td>288.03527</td>\n",
       "      <td>215.03262</td>\n",
       "      <td>120.46724</td>\n",
       "      <td>38.72854</td>\n",
       "      <td>4.90242</td>\n",
       "      <td>230.91625</td>\n",
       "      <td>0.00000</td>\n",
       "      <td>0.00000</td>\n",
       "      <td>0.00000</td>\n",
       "    </tr>\n",
       "    <tr>\n",
       "      <th>s5</th>\n",
       "      <td>659.26895</td>\n",
       "      <td>463.84263</td>\n",
       "      <td>198.61440</td>\n",
       "      <td>49.22475</td>\n",
       "      <td>5.92650</td>\n",
       "      <td>492.63436</td>\n",
       "      <td>201.96648</td>\n",
       "      <td>0.00000</td>\n",
       "      <td>0.00000</td>\n",
       "    </tr>\n",
       "    <tr>\n",
       "      <th>s6</th>\n",
       "      <td>41.37670</td>\n",
       "      <td>50.35149</td>\n",
       "      <td>106.93469</td>\n",
       "      <td>34.73799</td>\n",
       "      <td>4.32870</td>\n",
       "      <td>43.96935</td>\n",
       "      <td>0.00000</td>\n",
       "      <td>0.00000</td>\n",
       "      <td>0.00000</td>\n",
       "    </tr>\n",
       "    <tr>\n",
       "      <th>R2 score</th>\n",
       "      <td>0.47729</td>\n",
       "      <td>0.47767</td>\n",
       "      <td>0.42334</td>\n",
       "      <td>0.15157</td>\n",
       "      <td>0.01477</td>\n",
       "      <td>0.47871</td>\n",
       "      <td>0.36190</td>\n",
       "      <td>-0.00641</td>\n",
       "      <td>-0.00641</td>\n",
       "    </tr>\n",
       "  </tbody>\n",
       "</table>\n",
       "</div>"
      ],
      "text/plain": [
       "                 LR  Ridge:alpha=0.01  Ridge:alpha=1  Ridge:alpha=10  \\\n",
       "age        29.25401          34.16733       45.05421        16.23089   \n",
       "sex      -261.70647        -254.04332      -71.94740        -2.96137   \n",
       "bmi       546.29972         550.84488      280.71625        59.52416   \n",
       "bp        388.39834         379.12671      195.21266        43.42130   \n",
       "s1       -901.95967        -404.25326       -2.22930        13.87507   \n",
       "s2        506.76324         123.02922      -17.54080        10.86527   \n",
       "s3        121.15435         -99.04167     -148.68886       -37.49585   \n",
       "s4        288.03527         215.03262      120.46724        38.72854   \n",
       "s5        659.26895         463.84263      198.61440        49.22475   \n",
       "s6         41.37670          50.35149      106.93469        34.73799   \n",
       "R2 score    0.47729           0.47767        0.42334         0.15157   \n",
       "\n",
       "          Ridge:alpha=100  Lasso:alpha=0.01  Lasso:alpha=1  Lasso:alpha=10  \\\n",
       "age               2.07285          28.24636        0.00000         0.00000   \n",
       "sex              -0.00381        -250.81918       -0.00000         0.00000   \n",
       "bmi               6.89991         556.21587      443.70339         0.00000   \n",
       "bp                5.08510         380.65950       51.60109         0.00000   \n",
       "s1                2.06966        -468.73954        0.00000         0.00000   \n",
       "s2                1.74375         166.99342        0.00000         0.00000   \n",
       "s3               -4.50888         -60.21946       -0.00000        -0.00000   \n",
       "s4                4.90242         230.91625        0.00000         0.00000   \n",
       "s5                5.92650         492.63436      201.96648         0.00000   \n",
       "s6                4.32870          43.96935        0.00000         0.00000   \n",
       "R2 score          0.01477           0.47871        0.36190        -0.00641   \n",
       "\n",
       "          Lasso:alpha=100  \n",
       "age               0.00000  \n",
       "sex               0.00000  \n",
       "bmi               0.00000  \n",
       "bp                0.00000  \n",
       "s1                0.00000  \n",
       "s2                0.00000  \n",
       "s3               -0.00000  \n",
       "s4                0.00000  \n",
       "s5                0.00000  \n",
       "s6                0.00000  \n",
       "R2 score         -0.00641  "
      ]
     },
     "execution_count": 78,
     "metadata": {},
     "output_type": "execute_result"
    }
   ],
   "source": [
    "comp_df"
   ]
  },
  {
   "cell_type": "markdown",
   "metadata": {},
   "source": [
    "# 3. 엘라스틱넷 모델"
   ]
  },
  {
   "cell_type": "code",
   "execution_count": 79,
   "metadata": {},
   "outputs": [
    {
     "data": {
      "text/html": [
       "<style>#sk-container-id-3 {color: black;}#sk-container-id-3 pre{padding: 0;}#sk-container-id-3 div.sk-toggleable {background-color: white;}#sk-container-id-3 label.sk-toggleable__label {cursor: pointer;display: block;width: 100%;margin-bottom: 0;padding: 0.3em;box-sizing: border-box;text-align: center;}#sk-container-id-3 label.sk-toggleable__label-arrow:before {content: \"▸\";float: left;margin-right: 0.25em;color: #696969;}#sk-container-id-3 label.sk-toggleable__label-arrow:hover:before {color: black;}#sk-container-id-3 div.sk-estimator:hover label.sk-toggleable__label-arrow:before {color: black;}#sk-container-id-3 div.sk-toggleable__content {max-height: 0;max-width: 0;overflow: hidden;text-align: left;background-color: #f0f8ff;}#sk-container-id-3 div.sk-toggleable__content pre {margin: 0.2em;color: black;border-radius: 0.25em;background-color: #f0f8ff;}#sk-container-id-3 input.sk-toggleable__control:checked~div.sk-toggleable__content {max-height: 200px;max-width: 100%;overflow: auto;}#sk-container-id-3 input.sk-toggleable__control:checked~label.sk-toggleable__label-arrow:before {content: \"▾\";}#sk-container-id-3 div.sk-estimator input.sk-toggleable__control:checked~label.sk-toggleable__label {background-color: #d4ebff;}#sk-container-id-3 div.sk-label input.sk-toggleable__control:checked~label.sk-toggleable__label {background-color: #d4ebff;}#sk-container-id-3 input.sk-hidden--visually {border: 0;clip: rect(1px 1px 1px 1px);clip: rect(1px, 1px, 1px, 1px);height: 1px;margin: -1px;overflow: hidden;padding: 0;position: absolute;width: 1px;}#sk-container-id-3 div.sk-estimator {font-family: monospace;background-color: #f0f8ff;border: 1px dotted black;border-radius: 0.25em;box-sizing: border-box;margin-bottom: 0.5em;}#sk-container-id-3 div.sk-estimator:hover {background-color: #d4ebff;}#sk-container-id-3 div.sk-parallel-item::after {content: \"\";width: 100%;border-bottom: 1px solid gray;flex-grow: 1;}#sk-container-id-3 div.sk-label:hover label.sk-toggleable__label {background-color: #d4ebff;}#sk-container-id-3 div.sk-serial::before {content: \"\";position: absolute;border-left: 1px solid gray;box-sizing: border-box;top: 0;bottom: 0;left: 50%;z-index: 0;}#sk-container-id-3 div.sk-serial {display: flex;flex-direction: column;align-items: center;background-color: white;padding-right: 0.2em;padding-left: 0.2em;position: relative;}#sk-container-id-3 div.sk-item {position: relative;z-index: 1;}#sk-container-id-3 div.sk-parallel {display: flex;align-items: stretch;justify-content: center;background-color: white;position: relative;}#sk-container-id-3 div.sk-item::before, #sk-container-id-3 div.sk-parallel-item::before {content: \"\";position: absolute;border-left: 1px solid gray;box-sizing: border-box;top: 0;bottom: 0;left: 50%;z-index: -1;}#sk-container-id-3 div.sk-parallel-item {display: flex;flex-direction: column;z-index: 1;position: relative;background-color: white;}#sk-container-id-3 div.sk-parallel-item:first-child::after {align-self: flex-end;width: 50%;}#sk-container-id-3 div.sk-parallel-item:last-child::after {align-self: flex-start;width: 50%;}#sk-container-id-3 div.sk-parallel-item:only-child::after {width: 0;}#sk-container-id-3 div.sk-dashed-wrapped {border: 1px dashed gray;margin: 0 0.4em 0.5em 0.4em;box-sizing: border-box;padding-bottom: 0.4em;background-color: white;}#sk-container-id-3 div.sk-label label {font-family: monospace;font-weight: bold;display: inline-block;line-height: 1.2em;}#sk-container-id-3 div.sk-label-container {text-align: center;}#sk-container-id-3 div.sk-container {/* jupyter's `normalize.less` sets `[hidden] { display: none; }` but bootstrap.min.css set `[hidden] { display: none !important; }` so we also need the `!important` here to be able to override the default hidden behavior on the sphinx rendered scikit-learn.org. See: https://github.com/scikit-learn/scikit-learn/issues/21755 */display: inline-block !important;position: relative;}#sk-container-id-3 div.sk-text-repr-fallback {display: none;}</style><div id=\"sk-container-id-3\" class=\"sk-top-container\"><div class=\"sk-text-repr-fallback\"><pre>ElasticNet(alpha=1)</pre><b>In a Jupyter environment, please rerun this cell to show the HTML representation or trust the notebook. <br />On GitHub, the HTML representation is unable to render, please try loading this page with nbviewer.org.</b></div><div class=\"sk-container\" hidden><div class=\"sk-item\"><div class=\"sk-estimator sk-toggleable\"><input class=\"sk-toggleable__control sk-hidden--visually\" id=\"sk-estimator-id-3\" type=\"checkbox\" checked><label for=\"sk-estimator-id-3\" class=\"sk-toggleable__label sk-toggleable__label-arrow\">ElasticNet</label><div class=\"sk-toggleable__content\"><pre>ElasticNet(alpha=1)</pre></div></div></div></div></div>"
      ],
      "text/plain": [
       "ElasticNet(alpha=1)"
      ]
     },
     "execution_count": 79,
     "metadata": {},
     "output_type": "execute_result"
    }
   ],
   "source": [
    "\n",
    "\n",
    "# 모델 구축 및 학습(alpha=1, l1_ratio=0.5)\n",
    "from sklearn.linear_model import ElasticNet\n",
    "\n",
    "model_ElasticNet1 = ElasticNet(alpha=1, l1_ratio=0.5)\n",
    "model_ElasticNet1.fit(X_train, y_train)\n"
   ]
  },
  {
   "cell_type": "code",
   "execution_count": 86,
   "metadata": {},
   "outputs": [
    {
     "name": "stdout",
     "output_type": "stream",
     "text": [
      "0.0031070233135319647\n",
      "age    0.36757\n",
      "sex    0.00000\n",
      "bmi    3.51205\n",
      "bp     2.32865\n",
      "s1     0.38019\n",
      "s2     0.16834\n",
      "s3    -1.95596\n",
      "s4     2.22813\n",
      "s5     2.88743\n",
      "s6     1.84622\n",
      "dtype: float64\n"
     ]
    }
   ],
   "source": [
    "#모델 평가 및 회귀 계수 확인\n",
    "# 엘라스틱넷 선형회귀 모델 평가(alpha=1, L1_ratio=0.5)\n",
    "# 선형 모델 평가\n",
    "\n",
    "y_pred = model_ElasticNet1.predict(X_test)\n",
    "r2 = r2_score(y_test, y_pred)\n",
    "#a = 1 엘라스틱넷 모델 회귀 계수\n",
    "ElasticNet1_coef = pd.Series(model_ElasticNet1.coef_, index = diab.feature_names)\n",
    "\n",
    "print(r2)\n",
    "print(ElasticNet1_coef)"
   ]
  },
  {
   "cell_type": "markdown",
   "metadata": {},
   "source": [
    "- 계수 시각화"
   ]
  },
  {
   "cell_type": "code",
   "execution_count": 87,
   "metadata": {},
   "outputs": [
    {
     "data": {
      "image/png": "[encoded data removed]",
      "text/plain": [
       "<Figure size 1000x300 with 1 Axes>"
      ]
     },
     "metadata": {},
     "output_type": "display_data"
    }
   ],
   "source": [
    "\n",
    "\n",
    "# 시각화\n",
    "\n",
    "\n",
    "# 절댓값으로 가장 많이 끼치는 계수 정렬\n",
    "coef = np.abs(ElasticNet1_coef).sort_values(ascending=False)\n",
    "plt.figure(figsize = (10, 3))\n",
    "plt.title('feature importacne of coefficient with ElasticNet regulations')\n",
    "plt.bar(coef.index, coef.values)\n",
    "plt.xticks(rotation = 45)\n",
    "plt.show()\n"
   ]
  },
  {
   "cell_type": "code",
   "execution_count": 89,
   "metadata": {},
   "outputs": [],
   "source": [
    "# alpha_list=[0.01, 1, 10, 100]인 경우, l1_ratio=0.5 \n",
    "\n",
    "alpha_list = [0.01, 1, 10, 100]\n",
    "\n",
    "for alpha in alpha_list:\n",
    "    model_ElasticNet = ElasticNet(alpha = alpha, l1_ratio=0.5)\n",
    "    model_ElasticNet.fit(X_train, y_train)\n",
    "    y_pred = model_ElasticNet.predict(X_test)\n",
    "    r2 = r2_score(y_test, y_pred)\n",
    "\n",
    "    col_name = 'ElasticNet(alpha={:.2f}, l1_ratio=0.5' .format(alpha)\n",
    "    comp_df[col_name] = np.append(model_ElasticNet.coef_, r2)\n"
   ]
  },
  {
   "cell_type": "code",
   "execution_count": 90,
   "metadata": {},
   "outputs": [
    {
     "data": {
      "text/html": [
       "<div>\n",
       "<style scoped>\n",
       "    .dataframe tbody tr th:only-of-type {\n",
       "        vertical-align: middle;\n",
       "    }\n",
       "\n",
       "    .dataframe tbody tr th {\n",
       "        vertical-align: top;\n",
       "    }\n",
       "\n",
       "    .dataframe thead th {\n",
       "        text-align: right;\n",
       "    }\n",
       "</style>\n",
       "<table border=\"1\" class=\"dataframe\">\n",
       "  <thead>\n",
       "    <tr style=\"text-align: right;\">\n",
       "      <th></th>\n",
       "      <th>LR</th>\n",
       "      <th>Ridge:alpha=0.01</th>\n",
       "      <th>Ridge:alpha=1</th>\n",
       "      <th>Ridge:alpha=10</th>\n",
       "      <th>Ridge:alpha=100</th>\n",
       "      <th>Lasso:alpha=0.01</th>\n",
       "      <th>Lasso:alpha=1</th>\n",
       "      <th>Lasso:alpha=10</th>\n",
       "      <th>Lasso:alpha=100</th>\n",
       "      <th>ElasticNet(alpha=0.01, l1_ratio=0.5</th>\n",
       "      <th>ElasticNet(alpha=1.00, l1_ratio=0.5</th>\n",
       "      <th>ElasticNet(alpha=10.00, l1_ratio=0.5</th>\n",
       "      <th>ElasticNet(alpha=100.00, l1_ratio=0.5</th>\n",
       "    </tr>\n",
       "  </thead>\n",
       "  <tbody>\n",
       "    <tr>\n",
       "      <th>age</th>\n",
       "      <td>29.25401</td>\n",
       "      <td>34.16733</td>\n",
       "      <td>45.05421</td>\n",
       "      <td>16.23089</td>\n",
       "      <td>2.07285</td>\n",
       "      <td>28.24636</td>\n",
       "      <td>0.00000</td>\n",
       "      <td>0.00000</td>\n",
       "      <td>0.00000</td>\n",
       "      <td>41.41800</td>\n",
       "      <td>0.36757</td>\n",
       "      <td>0.00000</td>\n",
       "      <td>0.00000</td>\n",
       "    </tr>\n",
       "    <tr>\n",
       "      <th>sex</th>\n",
       "      <td>-261.70647</td>\n",
       "      <td>-254.04332</td>\n",
       "      <td>-71.94740</td>\n",
       "      <td>-2.96137</td>\n",
       "      <td>-0.00381</td>\n",
       "      <td>-250.81918</td>\n",
       "      <td>-0.00000</td>\n",
       "      <td>0.00000</td>\n",
       "      <td>0.00000</td>\n",
       "      <td>-45.93502</td>\n",
       "      <td>0.00000</td>\n",
       "      <td>0.00000</td>\n",
       "      <td>0.00000</td>\n",
       "    </tr>\n",
       "    <tr>\n",
       "      <th>bmi</th>\n",
       "      <td>546.29972</td>\n",
       "      <td>550.84488</td>\n",
       "      <td>280.71625</td>\n",
       "      <td>59.52416</td>\n",
       "      <td>6.89991</td>\n",
       "      <td>556.21587</td>\n",
       "      <td>443.70339</td>\n",
       "      <td>0.00000</td>\n",
       "      <td>0.00000</td>\n",
       "      <td>225.05346</td>\n",
       "      <td>3.51205</td>\n",
       "      <td>0.00000</td>\n",
       "      <td>0.00000</td>\n",
       "    </tr>\n",
       "    <tr>\n",
       "      <th>bp</th>\n",
       "      <td>388.39834</td>\n",
       "      <td>379.12671</td>\n",
       "      <td>195.21266</td>\n",
       "      <td>43.42130</td>\n",
       "      <td>5.08510</td>\n",
       "      <td>380.65950</td>\n",
       "      <td>51.60109</td>\n",
       "      <td>0.00000</td>\n",
       "      <td>0.00000</td>\n",
       "      <td>158.16323</td>\n",
       "      <td>2.32865</td>\n",
       "      <td>0.00000</td>\n",
       "      <td>0.00000</td>\n",
       "    </tr>\n",
       "    <tr>\n",
       "      <th>s1</th>\n",
       "      <td>-901.95967</td>\n",
       "      <td>-404.25326</td>\n",
       "      <td>-2.22930</td>\n",
       "      <td>13.87507</td>\n",
       "      <td>2.06966</td>\n",
       "      <td>-468.73954</td>\n",
       "      <td>0.00000</td>\n",
       "      <td>0.00000</td>\n",
       "      <td>0.00000</td>\n",
       "      <td>9.02107</td>\n",
       "      <td>0.38019</td>\n",
       "      <td>0.00000</td>\n",
       "      <td>0.00000</td>\n",
       "    </tr>\n",
       "    <tr>\n",
       "      <th>s2</th>\n",
       "      <td>506.76324</td>\n",
       "      <td>123.02922</td>\n",
       "      <td>-17.54080</td>\n",
       "      <td>10.86527</td>\n",
       "      <td>1.74375</td>\n",
       "      <td>166.99342</td>\n",
       "      <td>0.00000</td>\n",
       "      <td>0.00000</td>\n",
       "      <td>0.00000</td>\n",
       "      <td>-1.76203</td>\n",
       "      <td>0.16834</td>\n",
       "      <td>0.00000</td>\n",
       "      <td>0.00000</td>\n",
       "    </tr>\n",
       "    <tr>\n",
       "      <th>s3</th>\n",
       "      <td>121.15435</td>\n",
       "      <td>-99.04167</td>\n",
       "      <td>-148.68886</td>\n",
       "      <td>-37.49585</td>\n",
       "      <td>-4.50888</td>\n",
       "      <td>-60.21946</td>\n",
       "      <td>-0.00000</td>\n",
       "      <td>-0.00000</td>\n",
       "      <td>-0.00000</td>\n",
       "      <td>-124.24002</td>\n",
       "      <td>-1.95596</td>\n",
       "      <td>-0.00000</td>\n",
       "      <td>-0.00000</td>\n",
       "    </tr>\n",
       "    <tr>\n",
       "      <th>s4</th>\n",
       "      <td>288.03527</td>\n",
       "      <td>215.03262</td>\n",
       "      <td>120.46724</td>\n",
       "      <td>38.72854</td>\n",
       "      <td>4.90242</td>\n",
       "      <td>230.91625</td>\n",
       "      <td>0.00000</td>\n",
       "      <td>0.00000</td>\n",
       "      <td>0.00000</td>\n",
       "      <td>106.91012</td>\n",
       "      <td>2.22813</td>\n",
       "      <td>0.00000</td>\n",
       "      <td>0.00000</td>\n",
       "    </tr>\n",
       "    <tr>\n",
       "      <th>s5</th>\n",
       "      <td>659.26895</td>\n",
       "      <td>463.84263</td>\n",
       "      <td>198.61440</td>\n",
       "      <td>49.22475</td>\n",
       "      <td>5.92650</td>\n",
       "      <td>492.63436</td>\n",
       "      <td>201.96648</td>\n",
       "      <td>0.00000</td>\n",
       "      <td>0.00000</td>\n",
       "      <td>165.00609</td>\n",
       "      <td>2.88743</td>\n",
       "      <td>0.00000</td>\n",
       "      <td>0.00000</td>\n",
       "    </tr>\n",
       "    <tr>\n",
       "      <th>s6</th>\n",
       "      <td>41.37670</td>\n",
       "      <td>50.35149</td>\n",
       "      <td>106.93469</td>\n",
       "      <td>34.73799</td>\n",
       "      <td>4.32870</td>\n",
       "      <td>43.96935</td>\n",
       "      <td>0.00000</td>\n",
       "      <td>0.00000</td>\n",
       "      <td>0.00000</td>\n",
       "      <td>97.21348</td>\n",
       "      <td>1.84622</td>\n",
       "      <td>0.00000</td>\n",
       "      <td>0.00000</td>\n",
       "    </tr>\n",
       "    <tr>\n",
       "      <th>R2 score</th>\n",
       "      <td>0.47729</td>\n",
       "      <td>0.47767</td>\n",
       "      <td>0.42334</td>\n",
       "      <td>0.15157</td>\n",
       "      <td>0.01477</td>\n",
       "      <td>0.47871</td>\n",
       "      <td>0.36190</td>\n",
       "      <td>-0.00641</td>\n",
       "      <td>-0.00641</td>\n",
       "      <td>0.38444</td>\n",
       "      <td>0.00311</td>\n",
       "      <td>-0.00641</td>\n",
       "      <td>-0.00641</td>\n",
       "    </tr>\n",
       "  </tbody>\n",
       "</table>\n",
       "</div>"
      ],
      "text/plain": [
       "                 LR  Ridge:alpha=0.01  Ridge:alpha=1  Ridge:alpha=10  \\\n",
       "age        29.25401          34.16733       45.05421        16.23089   \n",
       "sex      -261.70647        -254.04332      -71.94740        -2.96137   \n",
       "bmi       546.29972         550.84488      280.71625        59.52416   \n",
       "bp        388.39834         379.12671      195.21266        43.42130   \n",
       "s1       -901.95967        -404.25326       -2.22930        13.87507   \n",
       "s2        506.76324         123.02922      -17.54080        10.86527   \n",
       "s3        121.15435         -99.04167     -148.68886       -37.49585   \n",
       "s4        288.03527         215.03262      120.46724        38.72854   \n",
       "s5        659.26895         463.84263      198.61440        49.22475   \n",
       "s6         41.37670          50.35149      106.93469        34.73799   \n",
       "R2 score    0.47729           0.47767        0.42334         0.15157   \n",
       "\n",
       "          Ridge:alpha=100  Lasso:alpha=0.01  Lasso:alpha=1  Lasso:alpha=10  \\\n",
       "age               2.07285          28.24636        0.00000         0.00000   \n",
       "sex              -0.00381        -250.81918       -0.00000         0.00000   \n",
       "bmi               6.89991         556.21587      443.70339         0.00000   \n",
       "bp                5.08510         380.65950       51.60109         0.00000   \n",
       "s1                2.06966        -468.73954        0.00000         0.00000   \n",
       "s2                1.74375         166.99342        0.00000         0.00000   \n",
       "s3               -4.50888         -60.21946       -0.00000        -0.00000   \n",
       "s4                4.90242         230.91625        0.00000         0.00000   \n",
       "s5                5.92650         492.63436      201.96648         0.00000   \n",
       "s6                4.32870          43.96935        0.00000         0.00000   \n",
       "R2 score          0.01477           0.47871        0.36190        -0.00641   \n",
       "\n",
       "          Lasso:alpha=100  ElasticNet(alpha=0.01, l1_ratio=0.5  \\\n",
       "age               0.00000                             41.41800   \n",
       "sex               0.00000                            -45.93502   \n",
       "bmi               0.00000                            225.05346   \n",
       "bp                0.00000                            158.16323   \n",
       "s1                0.00000                              9.02107   \n",
       "s2                0.00000                             -1.76203   \n",
       "s3               -0.00000                           -124.24002   \n",
       "s4                0.00000                            106.91012   \n",
       "s5                0.00000                            165.00609   \n",
       "s6                0.00000                             97.21348   \n",
       "R2 score         -0.00641                              0.38444   \n",
       "\n",
       "          ElasticNet(alpha=1.00, l1_ratio=0.5  \\\n",
       "age                                   0.36757   \n",
       "sex                                   0.00000   \n",
       "bmi                                   3.51205   \n",
       "bp                                    2.32865   \n",
       "s1                                    0.38019   \n",
       "s2                                    0.16834   \n",
       "s3                                   -1.95596   \n",
       "s4                                    2.22813   \n",
       "s5                                    2.88743   \n",
       "s6                                    1.84622   \n",
       "R2 score                              0.00311   \n",
       "\n",
       "          ElasticNet(alpha=10.00, l1_ratio=0.5  \\\n",
       "age                                    0.00000   \n",
       "sex                                    0.00000   \n",
       "bmi                                    0.00000   \n",
       "bp                                     0.00000   \n",
       "s1                                     0.00000   \n",
       "s2                                     0.00000   \n",
       "s3                                    -0.00000   \n",
       "s4                                     0.00000   \n",
       "s5                                     0.00000   \n",
       "s6                                     0.00000   \n",
       "R2 score                              -0.00641   \n",
       "\n",
       "          ElasticNet(alpha=100.00, l1_ratio=0.5  \n",
       "age                                     0.00000  \n",
       "sex                                     0.00000  \n",
       "bmi                                     0.00000  \n",
       "bp                                      0.00000  \n",
       "s1                                      0.00000  \n",
       "s2                                      0.00000  \n",
       "s3                                     -0.00000  \n",
       "s4                                      0.00000  \n",
       "s5                                      0.00000  \n",
       "s6                                      0.00000  \n",
       "R2 score                               -0.00641  "
      ]
     },
     "execution_count": 90,
     "metadata": {},
     "output_type": "execute_result"
    }
   ],
   "source": [
    "comp_df"
   ]
  }
 ],
 "metadata": {
  "kernelspec": {
   "display_name": "Python 3 (ipykernel)",
   "language": "python",
   "name": "python3"
  },
  "language_info": {
   "codemirror_mode": {
    "name": "ipython",
    "version": 3
   },
   "file_extension": ".py",
   "mimetype": "text/x-python",
   "name": "python",
   "nbconvert_exporter": "python",
   "pygments_lexer": "ipython3",
   "version": "3.11.5"
  }
 },
 "nbformat": 4,
 "nbformat_minor": 4
}
