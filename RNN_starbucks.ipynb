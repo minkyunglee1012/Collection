{
 "cells": [
  {
   "cell_type": "code",
   "execution_count": 150,
   "metadata": {},
   "outputs": [
    {
     "data": {
      "text/html": [
       "<div>\n",
       "<style scoped>\n",
       "    .dataframe tbody tr th:only-of-type {\n",
       "        vertical-align: middle;\n",
       "    }\n",
       "\n",
       "    .dataframe tbody tr th {\n",
       "        vertical-align: top;\n",
       "    }\n",
       "\n",
       "    .dataframe thead th {\n",
       "        text-align: right;\n",
       "    }\n",
       "</style>\n",
       "<table border=\"1\" class=\"dataframe\">\n",
       "  <thead>\n",
       "    <tr style=\"text-align: right;\">\n",
       "      <th></th>\n",
       "      <th>label</th>\n",
       "      <th>document</th>\n",
       "    </tr>\n",
       "  </thead>\n",
       "  <tbody>\n",
       "    <tr>\n",
       "      <th>0</th>\n",
       "      <td>0</td>\n",
       "      <td>주말에 사람이 적은 편. 2층 와이파이가 안돼서 1층 와이파이에 연결했는데 불안정함.</td>\n",
       "    </tr>\n",
       "    <tr>\n",
       "      <th>1</th>\n",
       "      <td>1</td>\n",
       "      <td>파트너분들 진짜 세상 친절하시고 너무 좋아요ㅎ</td>\n",
       "    </tr>\n",
       "    <tr>\n",
       "      <th>2</th>\n",
       "      <td>1</td>\n",
       "      <td>방금 확인했어요~</td>\n",
       "    </tr>\n",
       "    <tr>\n",
       "      <th>3</th>\n",
       "      <td>0</td>\n",
       "      <td>별적립 12개 무료음료쿠폰으로는 프리퀀시적립이 안된다기에 (작년에는 됐던것같아서) ...</td>\n",
       "    </tr>\n",
       "    <tr>\n",
       "      <th>4</th>\n",
       "      <td>1</td>\n",
       "      <td>요 근처에서 보기드물게 넓고 쾌적한 스벅이네요~</td>\n",
       "    </tr>\n",
       "    <tr>\n",
       "      <th>...</th>\n",
       "      <td>...</td>\n",
       "      <td>...</td>\n",
       "    </tr>\n",
       "    <tr>\n",
       "      <th>3792</th>\n",
       "      <td>1</td>\n",
       "      <td>직원분들 친절했어요</td>\n",
       "    </tr>\n",
       "    <tr>\n",
       "      <th>3793</th>\n",
       "      <td>1</td>\n",
       "      <td>너무 맘에드네요. 주차도 가능하구요~</td>\n",
       "    </tr>\n",
       "    <tr>\n",
       "      <th>3794</th>\n",
       "      <td>0</td>\n",
       "      <td>계산하는 나이 있어보이는 여자, 자기 잘못을 고객에게 전가하려 하고 싸가지 없음! ...</td>\n",
       "    </tr>\n",
       "    <tr>\n",
       "      <th>3795</th>\n",
       "      <td>1</td>\n",
       "      <td>확트인공간 맛난커피 그런데 주차가 ㅠㅠ딱지끊은적잇음료 길가주차하지마세요</td>\n",
       "    </tr>\n",
       "    <tr>\n",
       "      <th>3796</th>\n",
       "      <td>1</td>\n",
       "      <td>넓고 좌석 많아요. 사람도 많지만.</td>\n",
       "    </tr>\n",
       "  </tbody>\n",
       "</table>\n",
       "<p>3797 rows × 2 columns</p>\n",
       "</div>"
      ],
      "text/plain": [
       "      label                                           document\n",
       "0         0    주말에 사람이 적은 편. 2층 와이파이가 안돼서 1층 와이파이에 연결했는데 불안정함.\n",
       "1         1                          파트너분들 진짜 세상 친절하시고 너무 좋아요ㅎ\n",
       "2         1                                          방금 확인했어요~\n",
       "3         0  별적립 12개 무료음료쿠폰으로는 프리퀀시적립이 안된다기에 (작년에는 됐던것같아서) ...\n",
       "4         1                         요 근처에서 보기드물게 넓고 쾌적한 스벅이네요~\n",
       "...     ...                                                ...\n",
       "3792      1                                         직원분들 친절했어요\n",
       "3793      1                               너무 맘에드네요. 주차도 가능하구요~\n",
       "3794      0  계산하는 나이 있어보이는 여자, 자기 잘못을 고객에게 전가하려 하고 싸가지 없음! ...\n",
       "3795      1            확트인공간 맛난커피 그런데 주차가 ㅠㅠ딱지끊은적잇음료 길가주차하지마세요\n",
       "3796      1                                넓고 좌석 많아요. 사람도 많지만.\n",
       "\n",
       "[3797 rows x 2 columns]"
      ]
     },
     "execution_count": 150,
     "metadata": {},
     "output_type": "execute_result"
    }
   ],
   "source": [
    "import pandas as pd\n",
    "\n",
    "train = pd.read_csv('./train.csv', keep_default_na=False)\n",
    "train"
   ]
  },
  {
   "cell_type": "code",
   "execution_count": 151,
   "metadata": {},
   "outputs": [
    {
     "data": {
      "text/html": [
       "<div>\n",
       "<style scoped>\n",
       "    .dataframe tbody tr th:only-of-type {\n",
       "        vertical-align: middle;\n",
       "    }\n",
       "\n",
       "    .dataframe tbody tr th {\n",
       "        vertical-align: top;\n",
       "    }\n",
       "\n",
       "    .dataframe thead th {\n",
       "        text-align: right;\n",
       "    }\n",
       "</style>\n",
       "<table border=\"1\" class=\"dataframe\">\n",
       "  <thead>\n",
       "    <tr style=\"text-align: right;\">\n",
       "      <th></th>\n",
       "      <th>document</th>\n",
       "    </tr>\n",
       "  </thead>\n",
       "  <tbody>\n",
       "    <tr>\n",
       "      <th>0</th>\n",
       "      <td>화장실이 좀 별로지만 직원분들 다 친절하시고 매장 깔끔함</td>\n",
       "    </tr>\n",
       "    <tr>\n",
       "      <th>1</th>\n",
       "      <td>최고예요</td>\n",
       "    </tr>\n",
       "    <tr>\n",
       "      <th>2</th>\n",
       "      <td>서비스 굿</td>\n",
       "    </tr>\n",
       "    <tr>\n",
       "      <th>3</th>\n",
       "      <td>친절하고, 자리 넓고 좋아요</td>\n",
       "    </tr>\n",
       "    <tr>\n",
       "      <th>4</th>\n",
       "      <td>최고예요</td>\n",
       "    </tr>\n",
       "    <tr>\n",
       "      <th>...</th>\n",
       "      <td>...</td>\n",
       "    </tr>\n",
       "    <tr>\n",
       "      <th>1261</th>\n",
       "      <td>드라이브쓰루 좋아요</td>\n",
       "    </tr>\n",
       "    <tr>\n",
       "      <th>1262</th>\n",
       "      <td>사이렌오더 확인안함..  직원 5명 아무것도 안하고 수다떨고.. 매장와서 사이렌오더...</td>\n",
       "    </tr>\n",
       "    <tr>\n",
       "      <th>1263</th>\n",
       "      <td>스타벅스는 직원교육으로 유명한데.. 여기 스탭님들은 왜....</td>\n",
       "    </tr>\n",
       "    <tr>\n",
       "      <th>1264</th>\n",
       "      <td>조금 아쉬워요</td>\n",
       "    </tr>\n",
       "    <tr>\n",
       "      <th>1265</th>\n",
       "      <td>친절하시고 장소도 3층까지 넓고 아늑해요~</td>\n",
       "    </tr>\n",
       "  </tbody>\n",
       "</table>\n",
       "<p>1266 rows × 1 columns</p>\n",
       "</div>"
      ],
      "text/plain": [
       "                                               document\n",
       "0                       화장실이 좀 별로지만 직원분들 다 친절하시고 매장 깔끔함\n",
       "1                                                  최고예요\n",
       "2                                                 서비스 굿\n",
       "3                                       친절하고, 자리 넓고 좋아요\n",
       "4                                                  최고예요\n",
       "...                                                 ...\n",
       "1261                                         드라이브쓰루 좋아요\n",
       "1262  사이렌오더 확인안함..  직원 5명 아무것도 안하고 수다떨고.. 매장와서 사이렌오더...\n",
       "1263                 스타벅스는 직원교육으로 유명한데.. 여기 스탭님들은 왜....\n",
       "1264                                            조금 아쉬워요\n",
       "1265                            친절하시고 장소도 3층까지 넓고 아늑해요~\n",
       "\n",
       "[1266 rows x 1 columns]"
      ]
     },
     "execution_count": 151,
     "metadata": {},
     "output_type": "execute_result"
    }
   ],
   "source": [
    "test = pd.read_csv('./test.csv', encoding='cp949', keep_default_na=False)\n",
    "test.drop('no', axis = 1, inplace=True)\n",
    "test"
   ]
  },
  {
   "cell_type": "code",
   "execution_count": 152,
   "metadata": {},
   "outputs": [
    {
     "data": {
      "text/plain": [
       "(document    0\n",
       " dtype: int64,\n",
       " label       0\n",
       " document    0\n",
       " dtype: int64)"
      ]
     },
     "execution_count": 152,
     "metadata": {},
     "output_type": "execute_result"
    }
   ],
   "source": [
    "test.isnull().sum(), train.isnull().sum()"
   ]
  },
  {
   "cell_type": "code",
   "execution_count": 153,
   "metadata": {},
   "outputs": [
    {
     "name": "stdout",
     "output_type": "stream",
     "text": [
      "총 샘플의 수: 3797\n"
     ]
    }
   ],
   "source": [
    "# # document 열과 label 열의 중복을 제외한 값의 개수\n",
    "# train['document'].nunique(), train['label'].nunique()\n",
    "\n",
    "# # document 열의 중복 제거\n",
    "# train.drop_duplicates(subset=['document'], inplace=True)\n",
    "\n",
    "print('총 샘플의 수:', len(train))"
   ]
  },
  {
   "cell_type": "code",
   "execution_count": 154,
   "metadata": {},
   "outputs": [
    {
     "data": {
      "text/plain": [
       "<Axes: xlabel='label'>"
      ]
     },
     "execution_count": 154,
     "metadata": {},
     "output_type": "execute_result"
    },
    {
     "data": {
      "image/png": "[encoded data removed]",
      "text/plain": [
       "<Figure size 640x480 with 1 Axes>"
      ]
     },
     "metadata": {},
     "output_type": "display_data"
    }
   ],
   "source": [
    "train['label'].value_counts().plot(kind='bar')"
   ]
  },
  {
   "cell_type": "code",
   "execution_count": 155,
   "metadata": {},
   "outputs": [
    {
     "name": "stdout",
     "output_type": "stream",
     "text": [
      "False\n"
     ]
    }
   ],
   "source": [
    "print(train.isnull().values.any())  # True면 널값 존재"
   ]
  },
  {
   "cell_type": "code",
   "execution_count": 156,
   "metadata": {},
   "outputs": [
    {
     "name": "stdout",
     "output_type": "stream",
     "text": [
      "do you expect people to read the FAQ etc and actually accept hard atheism\n"
     ]
    }
   ],
   "source": [
    "import re\n",
    "eng_text = 'do!!! you expect... people~ to~ read~ the FAQ, etc. and actually accept hard~! atheism?@@'\n",
    "print(re.sub(r'[^a-zA-Z ]', '', eng_text))"
   ]
  },
  {
   "cell_type": "code",
   "execution_count": 160,
   "metadata": {},
   "outputs": [
    {
     "data": {
      "text/html": [
       "<div>\n",
       "<style scoped>\n",
       "    .dataframe tbody tr th:only-of-type {\n",
       "        vertical-align: middle;\n",
       "    }\n",
       "\n",
       "    .dataframe tbody tr th {\n",
       "        vertical-align: top;\n",
       "    }\n",
       "\n",
       "    .dataframe thead th {\n",
       "        text-align: right;\n",
       "    }\n",
       "</style>\n",
       "<table border=\"1\" class=\"dataframe\">\n",
       "  <thead>\n",
       "    <tr style=\"text-align: right;\">\n",
       "      <th></th>\n",
       "      <th>label</th>\n",
       "      <th>document</th>\n",
       "    </tr>\n",
       "  </thead>\n",
       "  <tbody>\n",
       "    <tr>\n",
       "      <th>0</th>\n",
       "      <td>0</td>\n",
       "      <td>주말에 사람이 적은 편. 2층 와이파이가 안돼서 1층 와이파이에 연결했는데 불안정함.</td>\n",
       "    </tr>\n",
       "    <tr>\n",
       "      <th>1</th>\n",
       "      <td>1</td>\n",
       "      <td>파트너분들 진짜 세상 친절하시고 너무 좋아요ㅎ</td>\n",
       "    </tr>\n",
       "    <tr>\n",
       "      <th>2</th>\n",
       "      <td>1</td>\n",
       "      <td>방금 확인했어요~</td>\n",
       "    </tr>\n",
       "    <tr>\n",
       "      <th>3</th>\n",
       "      <td>0</td>\n",
       "      <td>별적립 12개 무료음료쿠폰으로는 프리퀀시적립이 안된다기에 (작년에는 됐던것같아서) ...</td>\n",
       "    </tr>\n",
       "    <tr>\n",
       "      <th>4</th>\n",
       "      <td>1</td>\n",
       "      <td>요 근처에서 보기드물게 넓고 쾌적한 스벅이네요~</td>\n",
       "    </tr>\n",
       "  </tbody>\n",
       "</table>\n",
       "</div>"
      ],
      "text/plain": [
       "   label                                           document\n",
       "0      0    주말에 사람이 적은 편. 2층 와이파이가 안돼서 1층 와이파이에 연결했는데 불안정함.\n",
       "1      1                          파트너분들 진짜 세상 친절하시고 너무 좋아요ㅎ\n",
       "2      1                                          방금 확인했어요~\n",
       "3      0  별적립 12개 무료음료쿠폰으로는 프리퀀시적립이 안된다기에 (작년에는 됐던것같아서) ...\n",
       "4      1                         요 근처에서 보기드물게 넓고 쾌적한 스벅이네요~"
      ]
     },
     "execution_count": 160,
     "metadata": {},
     "output_type": "execute_result"
    }
   ],
   "source": [
    "# 한글과 공백을 제외하고 모두 제거\n",
    "train['document'] = train['document'].str.replace(r\"[^ㄱ-ㅎㅏ-ㅣ가-힣 ]\",\"\")\n",
    "train[:5]"
   ]
  },
  {
   "cell_type": "code",
   "execution_count": 162,
   "metadata": {},
   "outputs": [
    {
     "name": "stdout",
     "output_type": "stream",
     "text": [
      "label       0\n",
      "document    0\n",
      "dtype: int64\n"
     ]
    }
   ],
   "source": [
    "import numpy as np\n",
    "\n",
    "train['document'] = train['document'].str.replace('^ +', \"\") # white space 데이터를 empty value로 변경\n",
    "train['document'].replace('', np.nan, inplace=True)\n",
    "print(train.isnull().sum())"
   ]
  },
  {
   "cell_type": "code",
   "execution_count": 164,
   "metadata": {},
   "outputs": [
    {
     "name": "stdout",
     "output_type": "stream",
     "text": [
      "전처리 후 테스트용 샘플의 개수 : 1266\n"
     ]
    }
   ],
   "source": [
    "# test.drop_duplicates(subset = ['document'], inplace=True) # document 열에서 중복인 내용이 있다면 중복 제거\n",
    "test['document'] = test['document'].str.replace(\"[^ㄱ-ㅎㅏ-ㅣ가-힣 ]\",\"\") # 정규 표현식 수행\n",
    "test['document'] = test['document'].str.replace('^ +', \"\") # 공백은 empty 값으로 변경\n",
    "test['document'].replace('', np.nan, inplace=True) # 공백은 Null 값으로 변경\n",
    "# test = test.dropna(how='any') # Null 값 제거\n",
    "print('전처리 후 테스트용 샘플의 개수 :',len(test))"
   ]
  },
  {
   "cell_type": "code",
   "execution_count": 196,
   "metadata": {},
   "outputs": [],
   "source": [
    "stopwords = ['의','가','이','은','들','는','좀','잘','걍','과','도','를','으로','자','에','와','한','하다', '~', '!', '1', '2', '3', '4', '5', '6', '7', '8', '9', '0', '*', '.', '?',',', 'a','b','c','f','d','g','h','i','j','k','l','m','n','o','p','q','r','s','t','u','v','w','x','y','z']"
   ]
  },
  {
   "cell_type": "code",
   "execution_count": 197,
   "metadata": {},
   "outputs": [
    {
     "data": {
      "text/plain": [
       "['오다', '이렇다', '것', '도', '영화', '라고', '차라리', '뮤직비디오', '를', '만들다', '게', '나다', '뻔']"
      ]
     },
     "execution_count": 197,
     "metadata": {},
     "output_type": "execute_result"
    }
   ],
   "source": [
    "from konlpy.tag import Okt\n",
    "okt = Okt()\n",
    "okt.morphs('와 이런 것도 영화라고 차라리 뮤직비디오를 만드는 게 나을 뻔', stem = True)"
   ]
  },
  {
   "cell_type": "code",
   "execution_count": 198,
   "metadata": {},
   "outputs": [],
   "source": [
    "X_train = []\n",
    "for sentence in train['document']:\n",
    "    tokenized_sentence = okt.morphs(sentence, stem=True) # 토큰화\n",
    "    stopwords_removed_sentence = [word for word in tokenized_sentence if not word in stopwords] # 불용어 제거\n",
    "    X_train.append(stopwords_removed_sentence)"
   ]
  },
  {
   "cell_type": "code",
   "execution_count": 199,
   "metadata": {},
   "outputs": [
    {
     "name": "stdout",
     "output_type": "stream",
     "text": [
      "[['주말', '사람', '적다', '편', '층', '와이파이', '안', '돼다', '층', '와이파이', '연결하다', '불안정하다'], ['파트너', '분들', '진짜', '세상', '친절하다', '너무', '좋다', 'ㅎ'], ['방금', '확인']]\n"
     ]
    }
   ],
   "source": [
    "print(X_train[:3])"
   ]
  },
  {
   "cell_type": "code",
   "execution_count": 200,
   "metadata": {},
   "outputs": [],
   "source": [
    "X_test = []\n",
    "for sentence in test['document']:\n",
    "    tokenized_sentence = okt.morphs(sentence, stem=True) # 토큰화\n",
    "    stopwords_removed_sentence = [word for word in tokenized_sentence if not word in stopwords] # 불용어 제거\n",
    "    X_test.append(stopwords_removed_sentence)"
   ]
  },
  {
   "cell_type": "code",
   "execution_count": 201,
   "metadata": {},
   "outputs": [],
   "source": [
    "from tensorflow.keras.preprocessing.text import Tokenizer\n",
    "tokenizer = Tokenizer()\n",
    "tokenizer.fit_on_texts(X_train)"
   ]
  },
  {
   "cell_type": "code",
   "execution_count": 202,
   "metadata": {},
   "outputs": [
    {
     "name": "stdout",
     "output_type": "stream",
     "text": [
      "{'좋다': 1, '예요': 2, '친절하다': 3, '최고': 4, '직원': 5, '있다': 6, '없다': 7, '매장': 8, '너무': 9, '사람': 10, '많다': 11, '..': 12, '분들': 13, '커피': 14, '스타벅스': 15, '분': 16, '자리': 17, '보다': 18, '안': 19, '맛': 20, '넓다': 21, '스벅': 22, '...': 23, '을': 24, '가다': 25, '곳': 26, '다': 27, '주문': 28, '층': 29, '음료': 30, '않다': 31, '되다': 32, '로': 33, '별로': 34, '에서': 35, '같다': 36, '때': 37, '\\\\': 38, '이다': 39, '다른': 40, '불친절하다': 41, '오다': 42, '여기': 43, '요': 44, '화장실': 45, '고': 46, '맛있다': 47, '만': 48, '아니다': 49, '아쉽다': 50, '조금': 51, '받다': 52, '하고': 53, '항상': 54, '해주다': 55, '중': 56, '기분': 57, '것': 58, '파트너': 59, '먹다': 60, '분위기': 61, '들다': 62, '친절': 63, '그렇다': 64, '적': 65, '나오다': 66, '못': 67, '손님': 68, '말': 69, '자다': 70, '자주': 71, '나': 72, '서비스': 73, '남자': 74, '진짜': 75, '정말': 76, '많이': 77, '점': 78, '안되다': 79, '주차': 80, '지점': 81, '불친절': 82, '시끄럽다': 83, '일': 84, '그': 85, '더': 86, '주다': 87, '리저': 88, '엄청': 89, 'ㅠㅠ': 90, '공부': 91, '!!': 92, '시간': 93, '^^': 94, '여자': 95, '그냥': 96, '조용하다': 97, '앉다': 98, '인': 99, '제': 100, '인데': 101, '브': 102, '이라': 103, '괜찮다': 104, '말다': 105, '함': 106, '응대': 107, '까지': 108, '쾌적하다': 109, '넘다': 110, '거': 111, '크다': 112, '시키다': 113, '깨끗하다': 114, '만들다': 115, '이용': 116, '테이블': 117, '내': 118, '알다': 119, '마다': 120, '제일': 121, '하나': 122, '왜': 123, 'ㅎㅎ': 124, '깔끔하다': 125, '좌석': 126, '건물': 127, '수': 128, '게': 129, '모르다': 130, '아침': 131, '카페': 132, '라떼': 133, '저': 134, '아메리카노': 135, '....': 136, '갈다': 137, '좁다': 138, '서': 139, '(': 140, '가깝다': 141, '앞': 142, '고객': 143, '듯': 144, '정도': 145, '바쁘다': 146, '처음': 147, '쓰다': 148, '명': 149, ')': 150, '개': 151, '그리고': 152, '불편하다': 153, '매우': 154, '감사하다': 155, '근처': 156, '다시': 157, 'ㅠ': 158, '하': 159, '.\\\\': 160, '편하다': 161, '알바': 162, '생각': 163, '님': 164, '때문': 165, '방문': 166, '교육': 167, '부터': 168, '면': 169, '와이파이': 170, '위치': 171, '두': 172, '공간': 173, '콘센트': 174, '최악': 175, '느낌': 176, '다만': 177, '인지': 178, '되어다': 179, '라고': 180, '엔': 181, '지': 182, '뭐': 183, '주말': 184, '라': 185, '빼다': 186, '전': 187, '한테': 188, '네': 189, '에는': 190, '집': 191, '들어가다': 192, '여기다': 193, '별': 194, '싶다': 195, '관리': 196, '생기다': 197, '가장': 198, '바로': 199, '번': 200, '니': 201, '나쁘다': 202, '이랑': 203, '가보다': 204, '메뉴': 205, 'ㅋㅋ': 206, '빨리': 207, '에도': 208, '시': 209, '-': 210, '코로나': 211, '오늘': 212, '늘': 213, '장소': 214, '어떻다': 215, '차다': 216, '기다리다': 217, '줄': 218, '달라': 219, '이나': 220, '적다': 221, '보이다': 222, '말투': 223, '임': 224, 'ㅋ': 225, ':)': 226, '심': 227, '우유': 228, '평일': 229, '사이렌': 230, '넣다': 231, '랑': 232, '건지다': 233, '알바생': 234, '비다': 235, '굿': 236, '이렇게': 237, '맞다': 238, '거의': 239, '주': 240, '내다': 241, 'ㅎ': 242, '특히': 243, '물어보다': 244, '이고': 245, '끄다': 246, '이렇다': 247, '인테리어': 248, '아': 249, '이에요': 250, '버리다': 251, '마시다': 252, '다시다': 253, '근데': 254, '지금': 255, '오픈': 256, '편': 257, '돼다': 258, '확인': 259, '이네': 260, '힘들다': 261, '옆': 262, '나다': 263, '그래도': 264, '싸가지': 265, '냄새': 266, '걸': 267, '카운터': 268, '아이스': 269, '쓸다': 270, '거리': 271, '테이크아웃': 272, '소리': 273, '대': 274, '쉬다': 275, '동네': 276, '에요': 277, '아깝다': 278, '하지만': 279, '찾다': 280, '두다': 281, '표정': 282, '짱': 283, '저녁': 284, '얼음': 285, '~~': 286, '느끼다': 287, '몇': 288, '맛없다': 289, '감동': 290, '제대로': 291, '돈': 292, '쿠폰': 293, '컵': 294, '모두': 295, '원두': 296, '남': 297, '의자': 298, '지다': 299, '데': 300, '아주': 301, '매니저': 302, '불쾌하다': 303, '티': 304, '한번': 305, '새롭다': 306, '오전': 307, '서다': 308, 'ㅋㅋㅋ': 309, '예쁘다': 310, '없이': 311, '보고': 312, '자기': 313, '역시': 314, '빠르다': 315, '뷰': 316, '웃다': 317, '가끔': 318, '노트북': 319, '씩': 320, '더럽다': 321, '딱': 322, 'the': 323, '타다': 324, '오후': 325, '내부': 326, '나가다': 327, '??': 328, '다니다': 329, '높다': 330, '오래': 331, '스벅중': 332, '안좋다': 333, '기': 334, '추천': 335, '가게': 336, '타': 337, 'ㅜㅜ': 338, '창가': 339, '사용': 340, '기본': 341, '태도': 342, '물': 343, '움': 344, '느리다': 345, '같이': 346, '적당하다': 347, '이상하다': 348, '마스크': 349, '문': 350, '건': 351, '굳다': 352, '설명': 353, '이상': 354, '또': 355, '가능하다': 356, '문제': 357, '콜드': 358, '~^^': 359, '이제': 360, '늘다': 361, '해': 362, '여': 363, '다르다': 364, '봄': 365, '지만': 366, '밖에': 367, '가지': 368, '처럼': 369, '굉장하다': 370, '편이': 371, '치고': 372, '완전': 373, '싫다': 374, '니까': 375, '기다': 376, '가면': 377, '포장': 378, '걸리다': 379, '얘기': 380, '인가': 381, '바리스타': 382, '제조': 383, '신경': 384, '북적': 385, '안경': 386, '주변': 387, 'ㅜ': 388, '남다': 389, '추다': 390, '단점': 391, '손': 392, '단': 393, '절대': 394, '여유': 395, '장': 396, '프라푸치노': 397, '끊기다': 398, '결제': 399, '비': 400, '간격': 401, '젤': 402, '리뷰': 403, '시간대': 404, '에게': 405, '얼마': 406, '바뀌다': 407, '떨어지다': 408, '영업': 409, '훨씬': 410, '꼭': 411, ',,': 412, '혼자': 413, '텀블러': 414, '붐비다': 415, '애': 416, '그렇게': 417, '일찍': 418, '치다': 419, '청소': 420, '카라멜': 421, '들어오다': 422, '이라고': 423, '눈': 424, '작다': 425, '점심시간': 426, '걱정': 427, '정신': 428, 'and': 429, '\"': 430, '계속': 431, '전혀': 432, '그리다': 433, '♥': 434, '께서': 435, '쪽': 436, '작업': 437, '건가': 438, '마음': 439, '온': 440, '먼저': 441, '알': 442, '깔다': 443, '심하다': 444, '아늑하다': 445, '덥다': 446, '자체': 447, '빨대': 448, '좋아하다': 449, '약간': 450, '쏘다': 451, '써다': 452, '귀찮다': 453, '!!!': 454, '전체': 455, '계산': 456, '짜증': 457, '용': 458, '안내': 459, '한잔': 460, '글': 461, 'dt': 462, '오': 463, '세상': 464, '지하': 465, '쾌적': 466, '늦다': 467, '굳이': 468, '바닥': 469, '종종': 470, '원래': 471, '처리': 472, '시설': 473, '뒤': 474, '애용': 475, '무슨': 476, '놓다': 477, '감': 478, '뿐': 479, '잘못': 480, '공': 481, '차': 482, '카페라떼': 483, '편안하다': 484, '올리다': 485, '맘': 486, '기억': 487, '바': 488, '30분': 489, '잇다': 490, '대답': 491, '무료': 492, '잡기': 493, '닫다': 494, '라는': 495, '잠깐': 496, '청결': 497, '이르다': 498, '마감': 499, '다양하다': 500, '...\\\\': 501, '차지': 502, '수가': 503, '등': 504, '들르다': 505, '어': 506, '역': 507, '인상': 508, '실수': 509, '브루': 510, '보통': 511, '상냥하다': 512, '그런데': 513, '춥다': 514, '여러': 515, '계시다': 516, '줌': 517, '요즘': 518, '리': 519, '뭔가': 520, '따뜻하다': 521, '주차장': 522, '드리다': 523, '진심': 524, '인사': 525, '이해': 526, '여서': 527, '준비': 528, '.....': 529, '+': 530, '거기': 531, '양': 532, '상': 533, '꽤': 534, '친구': 535, '그런': 536, '일반': 537, '죠': 538, '멀다': 539, '상황': 540, '케이크': 541, '개인': 542, '눈치': 543, '그래서': 544, '남기다': 545, '해보다': 546, '시럽': 547, '놀라다': 548, '가기': 549, '후': 550, '들리다': 551, '부족하다': 552, '부르다': 553, '어렵다': 554, '야하다': 555, '일이': 556, '매번': 557, '무섭다': 558, '끼리': 559, '잔': 560, '구매': 561, '겁나다': 562, '좋아지다': 563, '카드': 564, '덜': 565, '반': 566, '가요': 567, '비싸다': 568, '무난': 569, '“': 570, '밍밍': 571, '교환': 572, '피': 573, '본인': 574, '목소리': 575, '인터넷': 576, '따다': 577, '경험': 578, '오히려': 579, '땐': 580, '맨날': 581, '마인드': 582, '따르다': 583, 'ㅡㅡ': 584, '에어컨': 585, '초콜릿': 586, '일부러': 587, '배치': 588, '칸': 589, '라도': 590, '바라다': 591, '속': 592, '거나': 593, '다음': 594, '추가': 595, '들이다': 596, '달': 597, '매일': 598, '당황': 599, '드라이브스루': 600, '밑': 601, '체크': 602, '간': 603, '영': 604, '이유': 605, '대로': 606, '유리': 607, '걸다': 608, '난': 609, '갖다': 610, '느껴지다': 611, '날': 612, '사': 613, '종업원': 614, '어디': 615, '찾기': 616, '며': 617, 'starbucks': 618, '이라서': 619, '자리다': 620, '얼굴': 621, '해도': 622, '뜨겁다': 623, '위': 624, '5분': 625, '환기': 626, '엄마': 627, '한적하다': 628, '여직원': 629, '본사': 630, '부족': 631, '짜증나다': 632, '물다': 633, '안감': 634, '이런': 635, '올': 636, '원': 637, '가시다': 638, '살다': 639, 'to': 640, '충전': 641, '차이': 642, '불다': 643, '에만': 644, ';': 645, '해달라다': 646, '전화': 647, '말씀': 648, '사다': 649, '♡': 650, '..\\\\': 651, '대화': 652, '사이': 653, '어쩔': 654, '되게': 655, '참고': 656, '샷': 657, '구': 658, '만족하다': 659, '이쁘다': 660, '나서다': 661, '음': 662, '보': 663, '죄송하다': 664, '실망': 665, '똥': 666, '답': 667, '치우다': 668, '비교': 669, '”': 670, '말씀드리다': 671, '간다': 672, '바꾸다': 673, '대다': 674, '재': 675, '선택': 676, '대해': 677, '똑같다': 678, '힘드다': 679, '에서도': 680, '아직': 681, '쓰레기': 682, '모든': 683, ';;;': 684, '화': 685, '그것': 686, '밝다': 687, '푸드': 688, '안쪽': 689, '보기': 690, '두기': 691, '여유롭다': 692, '사과': 693, '식': 694, '믿다': 695, '크림': 696, '울리다': 697, '만큼': 698, '칩': 699, '딸기': 700, '낮다': 701, '싸다': 702, '이건': 703, '장점': 704, '중요하다': 705, '부분': 706, '예전': 707, '후기': 708, '필요하다': 709, 'so': 710, '병원': 711, '/': 712, '상품': 713, '향': 714, '직접': 715, '보다는': 716, '자몽': 717, '경우': 718, '폼': 719, '음악': 720, '차비': 721, '권': 722, '사먹다': 723, '캐리어': 724, '강남': 725, '어수선하다': 726, '라서': 727, '세': 728, '함께': 729, '한참': 730, '백': 731, '스텀': 732, '족': 733, '여태': 734, '싱겁다': 735, '기계': 736, '리저브': 737, '모델링': 738, '20분': 739, '퉁': 740, '차갑다': 741, '막히다': 742, '몰리다': 743, '계단': 744, '소음': 745, '신고': 746, '보내다': 747, '열': 748, '가격': 749, '조명': 750, '이마트': 751, '뭔': 752, '엉망': 753, '하니': 754, '정색': 755, '빠지다': 756, '음식': 757, '보단': 758, '?\\\\': 759, '어제': 760, '센스': 761, '시원하다': 762, '올라가다': 763, '한가하다': 764, '평점': 765, '낮': 766, '든': 767, '통': 768, '말고': 769, '널찍하다': 770, '대부분': 771, '찍다': 772, '머리': 773, '여성': 774, '쏟다': 775, '픽업': 776, '뭘': 777, '답답하다': 778, '양말': 779, '나이': 780, '최애': 781, '머그컵': 782, '그대로': 783, '수다': 784, '달다': 785, '상가': 786, '뻔': 787, '훌륭하다': 788, '채': 789, '입': 790, '쯤': 791, '재고': 792, '종류': 793, '디저트': 794, '닦다': 795, '하루': 796, '불편': 797, '사르다': 798, '한국': 799, '머그잔': 800, '사이즈': 801, '이미': 802, '~~~': 803, '오랜': 804, '붙다': 805, '안나': 806, '확': 807, ':': 808, 'ㅠㅠㅠ': 809, '체적': 810, '블랙': 811, '상태': 812, '공원': 813, '회사': 814, '가져가다': 815, '미리': 816, '죽': 817, '불만': 818, '빵': 819, '......': 820, '출구': 821, '읽다': 822, '마끼아또': 823, 'ㅎㅎㅎ': 824, '멋지다': 825, '편입': 826, '사거리': 827, '금액': 828, '카': 829, '이라는': 830, '천장': 831, '무조건': 832, '보임': 833, '스터디': 834, '동안': 835, '덕분': 836, '단층': 837, '스럽다': 838, '학생': 839, '어이': 840, '커피숍': 841, '점심': 842, '대박': 843, '놀다': 844, '스텝': 845, '스팀': 846, '직': 847, '근무': 848, '벽': 849, '괜히': 850, '넉넉하다': 851, '근방': 852, '시작': 853, '외부': 854, '약': 855, '그나마': 856, 'ㅋㅋㅋㅋ': 857, '커서': 858, '바닐라': 859, '트이다': 860, '하라': 861, '초': 862, '별다방': 863, '떠들다': 864, '써주다': 865, '돌체': 866, '뜨다': 867, '고맙다': 868, '께': 869, '대한': 870, '짜다': 871, '끝': 872, '진상': 873, '우리': 874, '성': 875, '대형': 876, '현금': 877, '선물': 878, '칭찬': 879, '이리': 880, 'good': 881, '~!': 882, '한마디': 883, '당': 884, '채우다': 885, '야': 886, '만나다': 887, '기도': 888, '연결': 889, '도와주다': 890, '지나다': 891, ':-)': 892, '이지': 893, '버스': 894, '얼마나': 895, '지키다': 896, '바글바글': 897, '이지만': 898, '매': 899, '더욱': 900, '신': 901, '던지다': 902, '변경': 903, '개다': 904, '깜짝': 905, '로비': 906, '커피한잔': 907, '요거트': 908, '루': 909, ';;': 910, '난리': 911, '필요': 912, '허니': 913, '라면': 914, '냐': 915, '없애다': 916, '총': 917, '물론': 918, '그란': 919, '입다': 920, '책': 921, '인간': 922, '뭐라다': 923, '아줌마': 924, '카카오': 925, '취소': 926, '시장': 927, '수준': 928, '즈': 929, '첨': 930, '평가': 931, '즐기다': 932, '학원': 933, '인거': 934, '엘리베이터': 935, '경': 936, '체리': 937, '10분': 938, '맞추다': 939, '실내': 940, '때리다': 941, '6시': 942, '자바': 943, '부탁드리다': 944, '즐겁다': 945, '규모': 946, '크기': 947, 'friendly': 948, '아래': 949, '펴다': 950, '오래되다': 951, '편리하다': 952, '주시': 953, 'it': 954, '업무': 955, '처': 956, '소파': 957, '아이': 958, '대체로': 959, '가르치다': 960, '점장님': 961, '젊다': 962, '일요일': 963, '거품': 964, '해드리다': 965, '어딜': 966, '오지': 967, '토요일': 968, '당연하다': 969, '케익': 970, '구조': 971, '기준': 972, '고르다': 973, '서울': 974, '길': 975, '자꾸': 976, '충격': 977, '따로': 978, '언제나': 979, '밀크': 980, '쳐다보다': 981, '’': 982, '꼴': 983, '7시': 984, '이야기': 985, '포스': 986, '떨다': 987, '번호': 988, '질문': 989, 'no': 990, '나름': 991, '감사': 992, '대충': 993, '나머지': 994, '프로': 995, '이름': 996, '단골': 997, 'ㄷ': 998, '도로': 999, '최근': 1000, '누구': 1001, 'staff': 1002, '옷': 1003, '래': 1004, '장사': 1005, '휴지': 1006, '몇번': 1007, '가성': 1008, '프리': 1009, 'but': 1010, 'in': 1011, '유독': 1012, '땜': 1013, '비추다': 1014, '테이크': 1015, '줄이다': 1016, '넘치다': 1017, '제주': 1018, '여름': 1019, '전반': 1020, '머물다': 1021, '장이': 1022, '작': 1023, '연': 1024, '허리': 1025, '료': 1026, '값': 1027, '주의': 1028, '광화문': 1029, '디': 1030, '꾸준하다': 1031, 'ㅋㅋㅋㅋㅋ': 1032, '사진': 1033, '유일하다': 1034, '모습': 1035, '짐': 1036, '사실': 1037, '붙이다': 1038, '아무리': 1039, '위생': 1040, '돌다': 1041, '상당하다': 1042, '마지막': 1043, '이어서': 1044, '몇몇': 1045, '밥': 1046, '달리': 1047, '들어주다': 1048, '중이': 1049, 'you': 1050, '역대': 1051, '공시생': 1052, '커피빈': 1053, '가만히': 1054, '식다': 1055, '묻다': 1056, '보시': 1057, '책상': 1058, '만족': 1059, '접근성': 1060, '크게': 1061, '아쉬움': 1062, '차라리': 1063, '집앞': 1064, '점원': 1065, '이후': 1066, '장난': 1067, '말차': 1068, '국내': 1069, '에서는': 1070, '여의도': 1071, '빨르다': 1072, '이니': 1073, '다섯': 1074, '생크림': 1075, '벅': 1076, '정리': 1077, '대응': 1078, '만석': 1079, '죽다': 1080, '급': 1081, '집중': 1082, '베다': 1083, '지도': 1084, '협소하': 1085, '샌드위치': 1086, 'of': 1087, '저만': 1088, '어둡다': 1089, '아프다': 1090, '사장': 1091, '떼다': 1092, 'is': 1093, '쟁반': 1094, '가라': 1095, '역점': 1096, '큐알': 1097, '제발': 1098, '개도': 1099, '영수증': 1100, '가나': 1101, '핫': 1102, 'ㅡ': 1103, '어느': 1104, '온도': 1105, '왕': 1106, '한두': 1107, '수도': 1108, '그린티': 1109, '주심': 1110, '외관': 1111, '깨끗': 1112, '안함': 1113, '장통': 1114, '~~^^': 1115, '비슷하다': 1116, '사항': 1117, '밤': 1118, '출근길': 1119, '탁': 1120, '싸우다': 1121, '차분하다': 1122, '없어지다': 1123, '노래': 1124, '까페': 1125, '별하나': 1126, '가세': 1127, '찾아가다': 1128, '쉽다': 1129, '엄청나다': 1130, '바깥': 1131, '부': 1132, '운영': 1133, '일주일': 1134, '천천히': 1135, '아끼다': 1136, '산': 1137, '잡다': 1138, '(?)': 1139, '터지다': 1140, '8월': 1141, '챙기다': 1142, '확실하다': 1143, '미소': 1144, '너': 1145, '한정': 1146, '이라도': 1147, '불구': 1148, '황당하다': 1149, '카푸치노': 1150, '직장인': 1151, '사무실': 1152, '드라이브': 1153, '녹차': 1154, '미안하다': 1155, '개판': 1156, '직하다': 1157, '꼼꼼하다': 1158, '조음': 1159, '널널': 1160, '불': 1161, '재료': 1162, '당하다': 1163, '휘핑': 1164, '청결하다': 1165, '새': 1166, '진하다': 1167, '낡다': 1168, '전망': 1169, '치즈': 1170, '지나가다': 1171, '무시': 1172, '점도': 1173, '웃음': 1174, '그거': 1175, '에스프레소': 1176, '배우다': 1177, '완료': 1178, '옴': 1179, '적립': 1180, '으로는': 1181, '맛남': 1182, '&': 1183, '자신': 1184, '아주머니': 1185, '플라스틱': 1186, '흘리다': 1187, '호': 1188, '프라프치노': 1189, '쎄다': 1190, '겨울': 1191, '특성': 1192, '통통하다': 1193, '플레인': 1194, '강': 1195, '추하다': 1196, '스트레스': 1197, '진리': 1198, '키': 1199, '충분하다': 1200, '판매': 1201, '퇴근': 1202, '석촌호수': 1203, '잠시': 1204, '전부': 1205, '회전': 1206, '점포': 1207, '더불다': 1208, '컴퓨터': 1209, '준': 1210, 'cs': 1211, '일회용': 1212, '주네': 1213, '두유': 1214, '한다는': 1215, '개선': 1216, '터': 1217, '녹다': 1218, '딱하다': 1219, 'for': 1220, '석': 1221, '놀람': 1222, '...?': 1223, '힐링': 1224, '째다': 1225, '강하다': 1226, '지는': 1227, '9시': 1228, '짧다': 1229, '딱딱하다': 1230, 'md': 1231, '브랜드': 1232, '음료수': 1233, '공기': 1234, '및': 1235, '런가': 1236, '몇개': 1237, '벌레': 1238, '분명': 1239, '열쇠': 1240, '가야': 1241, '비누': 1242, '10시': 1243, '가도': 1244, 'ㅋㅋㅋㅋㅋㅋㅋ': 1245, '에선': 1246, '도안': 1247, '멀리': 1248, '신호': 1249, '참다': 1250, '메다': 1251, '일정하다': 1252, '빌딩': 1253, '맛보다': 1254, '길다': 1255, '새치기': 1256, '순간': 1257, '#': 1258, '송파': 1259, '기프티콘': 1260, '뿌리다': 1261, '막': 1262, '대기': 1263, '귀가': 1264, '평타': 1265, '러쉬': 1266, '라인': 1267, '소란': 1268, '장바닥': 1269, '사라지다': 1270, '공사': 1271, '대치동': 1272, '입구': 1273, '덕': 1274, '보이': 1275, '스벅매장': 1276, '블라썸': 1277, '제공': 1278, '코드': 1279, '경찰': 1280, '모': 1281, '교체': 1282, '아아': 1283, '2시간': 1284, '필수': 1285, '한남': 1286, '다리': 1287, '행동': 1288, '거짓말': 1289, '스탭': 1290, 'service': 1291, '스': 1292, '..?': 1293, '적도': 1294, '습': 1295, '표시': 1296, '착하다': 1297, '대신': 1298, '플': 1299, '레이스': 1300, '시기': 1301, '투고': 1302, '물어': 1303, '모임': 1304, '경치': 1305, '창': 1306, '케잌': 1307, '고민': 1308, '째': 1309, '밖': 1310, '화이트': 1311, '구청': 1312, '여쭈다': 1313, '목': 1314, '지르다': 1315, '사회': 1316, '너무나': 1317, '복잡하다': 1318, '안남다': 1319, '금방': 1320, '혼잡하다': 1321, '지역': 1322, '상품권': 1323, '실력': 1324, '11시': 1325, '먼지': 1326, '싫어하다': 1327, '올라오다': 1328, '숙지': 1329, '점점': 1330, '틱': 1331, '이야': 1332, 'wow': 1333, '나이스': 1334, '특별하다': 1335, '내리다': 1336, '옵션': 1337, '유난히': 1338, '1시간': 1339, '종이': 1340, '인가요': 1341, '해주시': 1342, '아웃': 1343, '규정': 1344, '보안': 1345, '섞다': 1346, '지원이': 1347, '둘': 1348, '짓다': 1349, '한편': 1350, '진행': 1351, '안해': 1352, '연예인': 1353, '기대하다': 1354, '첫': 1355, '다소': 1356, '어울리다': 1357, '조': 1358, '이신': 1359, '웨이팅': 1360, '평균': 1361, '게다가': 1362, '불법': 1363, '소': 1364, '어플': 1365, '닉네임': 1366, '디카': 1367, '15': 1368, 'what': 1369, 'ㅣ': 1370, '해오다': 1371, '모이다': 1372, '듣다': 1373, '가르다': 1374, '변': 1375, '갠': 1376, '스벅들': 1377, '50분': 1378, '레시피': 1379, '지저분하다': 1380, '볼': 1381, '도서관': 1382, '인하다': 1383, '담배': 1384, '살피다': 1385, '8시': 1386, '신림': 1387, '면서': 1388, '타고': 1389, '.\"': 1390, '신경질': 1391, '한산하다': 1392, '와중': 1393, '....\\\\': 1394, '직장': 1395, '씻다': 1396, '캐셔': 1397, '끼다': 1398, '퀀': 1399, '이니까': 1400, '마치': 1401, '카페모카': 1402, 'not': 1403, '그닥': 1404, '여러가지': 1405, 'ㅊ': 1406, '운': 1407, '복작': 1408, '휘핑크림': 1409, '그럭저럭': 1410, '타임': 1411, '터미널': 1412, '얼른': 1413, '미치다': 1414, '그건': 1415, '본': 1416, '욥': 1417, '하나같이': 1418, '방': 1419, '는걸': 1420, '입맛': 1421, '반갑다': 1422, '따닥따닥': 1423, '매출': 1424, '뻔하다': 1425, '주민': 1426, '치': 1427, '갑자기': 1428, '아무': 1429, '척': 1430, '젠': 1431, '옮기다': 1432, '이미지': 1433, '발견': 1434, '깜빡': 1435, '명령': 1436, '듯이': 1437, '황당': 1438, '수정': 1439, '씨': 1440, 'me': 1441, 'are': 1442, 'out': 1443, '로운': 1444, '호텔': 1445, '돌리다': 1446, '찌푸리다': 1447, '극': 1448, '작고': 1449, '옛날': 1450, '량': 1451, '형편': 1452, '막다': 1453, '넘어가다': 1454, '건네주다': 1455, '마': 1456, '노맛': 1457, '열리다': 1458, '서비스업': 1459, '나중': 1460, '다녀오다': 1461, '간만': 1462, '공용': 1463, '한층': 1464, '한데': 1465, '또한': 1466, '부턴': 1467, '말함': 1468, '희다': 1469, '마주치다': 1470, '뽑다': 1471, '질': 1472, '뒤지다': 1473, '줄다': 1474, '홍대': 1475, '☆': 1476, '팅': 1477, '몸': 1478, '그게': 1479, '이며': 1480, '왜케': 1481, '고급': 1482, '스타벅': 1483, '화보': 1484, '기르다': 1485, '모양': 1486, '04': 1487, '￦': 1488, '흠': 1489, '시즌': 1490, '다가': 1491, '오르다': 1492, '허블': 1493, '이하': 1494, '쇼파': 1495, '주위': 1496, '동': 1497, '지치다': 1498, '의외로': 1499, '궁금하다': 1500, '로만': 1501, '스럽지': 1502, '외국': 1503, '전국': 1504, '낫다': 1505, '그러나': 1506, '욤': 1507, '누르다': 1508, '유모차': 1509, '활': 1510, '거슬리다': 1511, '탓': 1512, '교통': 1513, '만족스럽다': 1514, '부담': 1515, '아무렇다': 1516, '어려움': 1517, '지인': 1518, '물건': 1519, 'cctv': 1520, '보여주다': 1521, '듭니': 1522, '생기': 1523, '바크': 1524, '콜': 1525, '미팅': 1526, '적용': 1527, '자세하다': 1528, '키크': 1529, '마르다': 1530, '섞이다': 1531, 'ㅜㅜㅜㅜ': 1532, '정차': 1533, '마무리': 1534, '평소': 1535, '애정': 1536, '낙성대': 1537, '그따위': 1538, '돌아다니다': 1539, '왤케': 1540, '벅스': 1541, '^': 1542, '댓글': 1543, 'sam': 1544, '남성': 1545, '일행': 1546, '쓴다': 1547, '니당다': 1548, '선': 1549, '환불': 1550, '고함': 1551, '레몬': 1552, '어르신': 1553, '노량진': 1554, '그다지': 1555, '지원': 1556, '표지판': 1557, '절': 1558, '대처': 1559, '키즈': 1560, '단지': 1561, '시끌벅적하다': 1562, '대표': 1563, '헬': 1564, '코': 1565, '직전': 1566, '스태프': 1567, '실': 1568, '썩다': 1569, '부산스럽다': 1570, '불가능': 1571, '시국': 1572, '민망하다': 1573, '씹다': 1574, '건너': 1575, 'ㅇ': 1576, '모금': 1577, '스벅이': 1578, '창문': 1579, '강남역': 1580, '취급': 1581, '헷갈리다': 1582, '전용': 1583, '끊다': 1584, '12월': 1585, '의견': 1586, '출입': 1587, '마시기': 1588, '품질': 1589, '추억': 1590, '신촌': 1591, '머': 1592, '매뉴얼': 1593, '리지': 1594, '컴': 1595, '제한': 1596, '아크': 1597, '흔하다': 1598, '느긋하다': 1599, '여느': 1600, '사고': 1601, '으로도': 1602, '민폐': 1603, '입장': 1604, '깊다': 1605, '그때': 1606, '번은': 1607, '에다': 1608, '브라': 1609, '진열': 1610, '구경': 1611, '뚱뚱하다': 1612, 'ㅠㅜ': 1613, '이전': 1614, '화요일': 1615, '30': 1616, 'here': 1617, '꺼내다': 1618, '역쉬': 1619, '일단': 1620, '반면': 1621, '스탭들': 1622, '할리스': 1623, '연하다': 1624, '협소': 1625, '가로': 1626, '검사': 1627, '기존': 1628, '두운': 1629, '평이': 1630, '4시': 1631, '멘트': 1632, '나이트로': 1633, '한지': 1634, '열다': 1635, '가득': 1636, '고해': 1637, '까지도': 1638, '풀이': 1639, '포크': 1640, 'this': 1641, '틀리다': 1642, '울다': 1643, '그치다': 1644, '하늘': 1645, '배열': 1646, '카페인': 1647, '형': 1648, '배다': 1649, '대기업': 1650, '수없이': 1651, '웬만하다': 1652, '똑바로': 1653, '진동': 1654, '물이': 1655, '의문': 1656, '걸어가다': 1657, '대단하다': 1658, 'ㅠㅡㅠ': 1659, '보지': 1660, '담': 1661, '군데': 1662, '까칠하다': 1663, '팀': 1664, '화도': 1665, '점심때': 1666, '멋있다': 1667, '나빠지다': 1668, '남아': 1669, '원하다': 1670, '년': 1671, 'ㅋㅋㅋㅋㅋㅋ': 1672, '침': 1673, '약하다': 1674, '불가': 1675, '별루': 1676, '겠다': 1677, '블루': 1678, '뚜껑': 1679, '10': 1680, '관': 1681, '어쩜': 1682, '잊다': 1683, '슬리퍼': 1684, '때메': 1685, 'with': 1686, '스러운': 1687, '페인': 1688, '원점': 1689, '뱅쇼': 1690, 'be': 1691, 'i': 1692, '이동': 1693, '무뚝뚝하다': 1694, '으로서': 1695, '많아지다': 1696, '4천원': 1697, '정': 1698, '가루': 1699, '2시': 1700, '나은': 1701, '왠지': 1702, '착용': 1703, 'ㅎㅎㅎㅎ': 1704, '미지근하다': 1705, '인원': 1706, '울': 1707, '난방': 1708, '절하': 1709, '부드럽다': 1710, '특유': 1711, '맛집': 1712, '프랜차이즈': 1713, '출근': 1714, '굿굿': 1715, '차리다': 1716, '히': 1717, '현대': 1718, '방송': 1719, '바람': 1720, '배려': 1721, '어이없다': 1722, '의심': 1723, '지오': 1724, 'ㅠㅠㅠㅠㅠㅠ': 1725, '생각나다': 1726, '담당': 1727, '서로': 1728, '갓': 1729, '띄다': 1730, '나누다': 1731, '방역': 1732, '인들': 1733, '창밖': 1734, '풍경': 1735, '5시': 1736, '역다': 1737, '볼일': 1738, '먹이다': 1739, '케': 1740, '할인': 1741, '크리스마스': 1742, '툭': 1743, '갖추다': 1744, '깜놀': 1745, '담다': 1746, '안다': 1747, '애매하다': 1748, '푸다': 1749, '추출': 1750, '스럽게': 1751, '회의': 1752, '사서': 1753, '비갑': 1754, '비굿': 1755, '뒤편': 1756, '강추': 1757, '흑': 1758, '흠집': 1759, '어처구니': 1760, '달래다': 1761, '더니': 1762, '감안': 1763, 'was': 1764, '알차다': 1765, '12': 1766, '작년': 1767, '드물다': 1768, 'on': 1769, 'my': 1770, 'reserve': 1771, 'store': 1772, 'only': 1773, '달리다': 1774, '이해해': 1775, '익숙해지다': 1776, '잡고': 1777, '거림': 1778, '지리다': 1779, '찜': 1780, '이라니': 1781, '휴지통': 1782, '운동': 1783, '고가': 1784, '살짝': 1785, '튀다': 1786, '앞치마': 1787, '약속': 1788, '망가지다': 1789, '타워': 1790, '반대편': 1791, '이상인': 1792, '본적': 1793, '직영': 1794, '이점': 1795, '한숨': 1796, '마트': 1797, '화나다': 1798, '컨디션': 1799, '서운하다': 1800, '여러분': 1801, '힘내다': 1802, '피해': 1803, '다수': 1804, '율': 1805, '코다리': 1806, '카플': 1807, '스테이크': 1808, '-_-': 1809, '공연': 1810, '얼다': 1811, '성의': 1812, 'give': 1813, 'reduce': 1814, 'straws': 1815, '가지다': 1816, '블렌디드': 1817, '과일': 1818, '독서실': 1819, '케어': 1820, '브점': 1821, '220': 1822, '특이하다': 1823, '개뿔': 1824, '작성': 1825, '핑계': 1826, '책보': 1827, '꽉차다': 1828, '집다': 1829, '컵홀더': 1830, '스태커': 1831, '쓰시': 1832, '평생': 1833, '티백': 1834, '안암': 1835, '오거리': 1836, '팍': 1837, '까지는': 1838, '+_+': 1839, '우리동네': 1840, '글쎄요': 1841, '도심지': 1842, '안이': 1843, '아예': 1844, '용이': 1845, '지하철역': 1846, '버스정류장': 1847, '충실하다': 1848, ',,,': 1849, '대비': 1850, '법': 1851, '귀엽다': 1852, '부족함': 1853, '6000원': 1854, '조각': 1855, '야채': 1856, '실화': 1857, '부어': 1858, '반도': 1859, '틱틱대': 1860, '신선하다': 1861, '가까이': 1862, '선릉역': 1863, '양도': 1864, 'bye': 1865, '부근': 1866, '귓속말': 1867, '센터': 1868, '방식': 1869, '아랫': 1870, '6100원': 1871, 'ㅈ': 1872, '여태껏': 1873, '편안함': 1874, '지하철': 1875, '유명하다': 1876, '으': 1877, '옳다': 1878, '노숙자': 1879, '착각': 1880, '2021/04': 1881, '합계': 1882, '#꽁치필름': 1883, '#스타벅스': 1884, '평범하다': 1885, '방치': 1886, '평': 1887, '전형': 1888, '돗': 1889, 'x': 1890, '한쪽': 1891, '벽면': 1892, '파티': 1893, '옷차림': 1894, '랄': 1895, '박': 1896, '평온하다': 1897, 'ㅜㅠ': 1898, '깨다': 1899, '사태': 1900, '기색': 1901, '철수': 1902, '썰렁하다': 1903, 'https://m.blog.naver.com/postlist.nhn?blogid=brumari': 1904, '신분': 1905, '라임': 1906, '요기': 1907, '저기': 1908, '접': 1909, '버튼': 1910, '교대': 1911, '법원': 1912, '표기': 1913, '력': 1914, '적절': 1915, '찢어지다': 1916, '억지로': 1917, '동시': 1918, '돌아가다': 1919, '욕': 1920, '먹기': 1921, '이번': 1922, '메뉴인': 1923, '^^;': 1924, '꽂다': 1925, '15분': 1926, ',..': 1927, '마찬가지': 1928, '덴': 1929, '부담스럽다': 1930, '멍': 1931, '배터리': 1932, '발생': 1933, '과의': 1934, '분리': 1935, '급하다': 1936, '출동': 1937, '휙': 1938, '.^^': 1939, '넉': 1940, '일해': 1941, '필': 1942, '곳임': 1943, '왠만하다': 1944, '먹음': 1945, '지나치다': 1946, '까진': 1947, '바라지': 1948, '입점': 1949, '표준화': 1950, '뒷': 1951, '카공': 1952, '시나': 1953, '셧': 1954, '대변기': 1955, 'cool': 1956, 'coffee': 1957, '정직': 1958, '놔두다': 1959, '어의': 1960, '여기저기': 1961, '수십': 1962, '뛰다': 1963, '저리': 1964, '뿐이다': 1965, 'ㅜㅜㅜ': 1966, 'super': 1967, '별도': 1968, '내용': 1969, '소름': 1970, '똑같이': 1971, '누가': 1972, '그걸': 1973, '밝히다': 1974, '잘생기다': 1975, '쿠키': 1976, '..^^': 1977, '공간활용': 1978, '좀더': 1979, '부탁': 1980, '반절': 1981, '무표정': 1982, '등등': 1983, '혼나다': 1984, '어디가': 1985, '이제껏': 1986, '유쾌하다': 1987, '교육장': 1988, '등잔': 1989, '라니': 1990, '학교': 1991, '손가락': 1992, '커피전문점': 1993, '싸': 1994, '미흡하다': 1995, '낙성대역': 1996, '이슈': 1997, '유': 1998, '에스': 1999, '기업': 2000, '화난': 2001, '본스': 2002, '안락하다': 2003, '요청': 2004, '아이스커피': 2005, '구로': 2006, '뭣': 2007, '당신': 2008, '풍부하다': 2009, '네시': 2010, '사가다': 2011, 's': 2012, '건데': 2013, '저녁때': 2014, '번창': 2015, '도편': 2016, '말르다': 2017, '머그': 2018, '찾아보다': 2019, '칙칙하다': 2020, '쓰기': 2021, '초코': 2022, '친': 2023, '포레스트': 2024, '천': 2025, '아들': 2026, '~:)': 2027, '싹싹하다': 2028, '뛰어나다': 2029, '한심하다': 2030, '짝': 2031, '리져브': 2032, '창구': 2033, '장내': 2034, '범벅': 2035, '잡히다': 2036, '감기': 2037, '벌써': 2038, '기록': 2039, '장인': 2040, '끝나다': 2041, 'ap': 2042, 'kt': 2043, '2월': 2044, '단계': 2045, '마천': 2046, '어우러지다': 2047, '오기': 2048, '와도': 2049, '신제품': 2050, '푸딩': 2051, '스벅임': 2052, '다행': 2053, '만남': 2054, '휑해': 2055, '산책': 2056, '제로': 2057, '도대체': 2058, '이라고는': 2059, '존재': 2060, '그렇지만': 2061, '유효': 2062, '기간': 2063, '3일': 2064, '마음대로': 2065, '곁들이다': 2066, '가가': 2067, '가안': 2068, '멀뚱멀뚱': 2069, '엘베': 2070, '밖에는': 2071, '데리': 2072, '말로': 2073, '여럿': 2074, '안암역': 2075, '도전': 2076, '끼치다': 2077, '심각하다': 2078, '^^\\\\': 2079, '반영': 2080, '21시': 2081, '표준': 2082, '언니': 2083, '광장': 2084, '데리다': 2085, '묶다': 2086, '결과': 2087, '데우다': 2088, '전자레인지': 2089, '10초': 2090, '며칠': 2091, '시골': 2092, '깨지다': 2093, '모로': 2094, '위로': 2095, '끼': 2096, '재교육': 2097, '커녕': 2098, '개불': 2099, '~~!': 2100, '○○○': 2101, '..!': 2102, '덤': 2103, '20년': 2104, '만에': 2105, '스벅코': 2106, '11일': 2107, '스테이션': 2108, '덩': 2109, '배치도': 2110, '명동': 2111, '아지트': 2112, '채광': 2113, '시스템': 2114, '빡세': 2115, '즐': 2116, '기기': 2117, '주중': 2118, '경쟁': 2119, '유료': 2120, '성지': 2121, '응': 2122, '관련': 2123, '턱': 2124, '애기': 2125, '들고나다': 2126, 'or': 2127, '시내': 2128, '배': 2129, '넌': 2130, '셋': 2131, '가시': 2132, '리도': 2133, '실제': 2134, '밀리': 2135, '벨': 2136, '경희대': 2137, '혼': 2138, '항의': 2139, '성적': 2140, '접대': 2141, '인성': 2142, '장하다': 2143, '외치다': 2144, '사랑': 2145, '다해': 2146, '메뉴얼': 2147, '라든가': 2148, '새집': 2149, '시티': 2150, '나타나다': 2151, '구려': 2152, '잘알다': 2153, '태어나다': 2154, '누락': 2155, '갈아': 2156, '재다': 2157, '빈': 2158, '홀': 2159, '쓰루': 2160, '열심히': 2161, '나르다': 2162, '한강': 2163, '4월': 2164, '쌀쌀': 2165, '무엇': 2166, '유지': 2167, '앙': 2168, '라며': 2169, '몰다': 2170, '아직도': 2171, '수월하다': 2172, '곳입': 2173, '엇': 2174, '갈리다': 2175, '갈수': 2176, '살': 2177, '물티슈': 2178, '받침': 2179, '빨': 2180, '안보': 2181, '스타': 2182, '가양역': 2183, '클레': 2184, '압박': 2185, '균일하다': 2186, '공감': 2187, '어차피': 2188, '잠그다': 2189, '방침': 2190, '삼성': 2191, '가다가': 2192, '명주': 2193, '핵': 2194, '스벅입니': 2195, '.........': 2196, '바라보다': 2197, '거절': 2198, '예정': 2199, '시행': 2200, '방법': 2201, '요만': 2202, '양해': 2203, '목요일': 2204, '그린': 2205, '프라': 2206, '치노': 2207, '잔액': 2208, '익숙하다': 2209, '걷다': 2210, '조절': 2211, '고급스럽다': 2212, '공휴일': 2213, '대학교': 2214, '클래식': 2215, '50': 2216, 'simple': 2217, 'apple': 2218, 'thought': 2219, 'canada': 2220, 'that': 2221, 'customer': 2222, 'wants': 2223, 'they': 2224, '!\\\\': 2225, '마포': 2226, '신내동': 2227, '중랑': 2228, '내려오다': 2229, '대놓고': 2230, '드립': 2231, '색': 2232, '소개팅': 2233, '페루': 2234, '르완다': 2235, '페이': 2236, '출퇴근': 2237, '디자인': 2238, '가능': 2239, '띠껍': 2240, '구림': 2241, '서초': 2242, '풀리다': 2243, 'ㅠㅠㅠㅠ': 2244, '1시': 2245, '초록': 2246, '실망하다': 2247, '서버': 2248, '프티': 2249, '결재': 2250, '구입': 2251, '저런': 2252, '나무': 2253, '켜다': 2254, '꽝': 2255, '눈쌀': 2256, '미세먼지': 2257, '날씨': 2258, '케바케': 2259, 'too': 2260, 'bad': 2261, '형성': 2262, '도시전설': 2263, '치고는': 2264, '충': 2265, '구역': 2266, '어리다': 2267, '꺼': 2268, '던': 2269, '우산': 2270, '발': 2271, 'ㆍ': 2272, '마을': 2273, '나뉘다': 2274, '틀어주다': 2275, '소중하다': 2276, '벌다': 2277, '징': 2278, '친근하다': 2279, '크루아상': 2280, '유기농': 2281, '2020년': 2282, '돌': 2283, '죽치다': 2284, '차마': 2285, '향기': 2286, '상해': 2287, '욧': 2288, '신맛': 2289, '지각': 2290, '침착하다': 2291, '놓치다': 2292, '넘기다': 2293, '금전': 2294, '시식': 2295, '어딨다': 2296, '숭늉': 2297, '할머니': 2298, '맹탕': 2299, '따라서': 2300, 'wifi': 2301, '시끌시끌하다': 2302, '넹': 2303, '커플': 2304, '우선': 2305, '된거': 2306, '십': 2307, 'suv': 2308, '미국': 2309, 'ev': 2310, '금지': 2311, '에드': 2312, '손가락질': 2313, '뭐합': 2314, '행각': 2315, '도르다': 2316, '귀': 2317, '애초': 2318, '무안': 2319, '저번': 2320, '관심': 2321, '오신': 2322, '마싯다': 2323, '슈크림': 2324, '성함': 2325, '에게는': 2326, '최하': 2327, '공덕역': 2328, '만날': 2329, '아저씨': 2330, '보이차': 2331, '비우다': 2332, '저희': 2333, '일관': 2334, '()()()^^\\\\': 2335, '위주': 2336, '수고': 2337, '채용': 2338, '맞이': 2339, '무쟈': 2340, '히터': 2341, '금요일': 2342, '냥': 2343, '멍청하다': 2344, '딩': 2345, '봉투': 2346, '이자': 2347, '컨': 2348, '거지': 2349, '피크타임': 2350, '실크': 2351, '익히다': 2352, '입자': 2353, 'job': 2354, '긋다': 2355, '띠': 2356, '양심': 2357, '맘대로': 2358, '전에': 2359, '눈물': 2360, '웨이': 2361, 'second': 2362, 'stylish': 2363, 'seoul': 2364, '벗다': 2365, '헐다': 2366, 'joo': 2367, '커피집': 2368, '결국': 2369, '덮다': 2370, '이대': 2371, '호점': 2372, 'ㅎㅅㅎ': 2373, '더러': 2374, 'e': 2375, '다이어리': 2376, '뜯다': 2377, '언덕': 2378, '속도': 2379, '프렌': 2380, '언성': 2381, '뵈다': 2382, '~~~~': 2383, '효': 2384, '내쫓다': 2385, '트': 2386, '전문성': 2387, '사건': 2388, '난리치다': 2389, '이벤트': 2390, '달라지다': 2391, '만의': 2392, '폰': 2393, '분도': 2394, '종로': 2395, '투썸': 2396, '제품': 2397, '10월': 2398, '굴': 2399, '가져오다': 2400, '모카': 2401, '대하': 2402, '여전하다': 2403, '리필': 2404, '해고': 2405, '천차만별': 2406, '쓰레기통': 2407, '꾸다': 2408, '차선': 2409, '베이글': 2410, '공덕': 2411, '안심': 2412, '통틀어': 2413, '그런대로': 2414, '최강': 2415, '딱지': 2416, '쫒다': 2417, '문의': 2418, '꽉꽉': 2419, '골목': 2420, '지은지': 2421, '티슈': 2422, '지속': 2423, '만난': 2424, '안녕하다': 2425, 'r': 2426, '탁월하다': 2427, '분과': 2428, '우연히': 2429, '잃다': 2430, '소진': 2431, '영어': 2432, '최': 2433, '케냐': 2434, '필요없다': 2435, '루비': 2436, '싱크대': 2437, '설거지': 2438, '성의껏': 2439, '쌩까다': 2440, '림': 2441, '착석': 2442, '반경': 2443, '피하': 2444, '중간': 2445, '제재': 2446, '역앞': 2447, '울림': 2448, '최소': 2449, '엎': 2450, '신천지': 2451, '달달': 2452, '전문가': 2453, '킹': 2454, '행복': 2455, '적임': 2456, 'fast': 2457, '휴대폰': 2458, '국적': 2459, '지적': 2460, '시점': 2461, '언제': 2462, '~\\\\': 2463, '보라매': 2464, '핳': 2465, '기와': 2466, '경에': 2467, '세미나': 2468, '한국어': 2469, '찌': 2470, '찍': 2471, '!!!!': 2472, '종이컵': 2473, '12시': 2474, '더블': 2475, '투샷': 2476, '유학생': 2477, '간단하다': 2478, '펌킨': 2479, '브레드': 2480, '연결하다': 2481, '불안정하다': 2482, '방금': 2483, '뉘앙스': 2484, '공짜': 2485, '바라냐': 2486, '답변': 2487, 'list': 2488, '™': 2489, 'premier': 2490, 'food': 2491, 'also': 2492, 'famille': 2493, 'park': 2494, 'seosomun': 2495, '100%': 2496, 'kona': 2497, 'sun': 2498, 'dried': 2499, 'yirgacheffe': 2500, '깨달음': 2501, '....?': 2502, '네가지': 2503, '낭비하다': 2504, '내내': 2505, '흥건': 2506, '떨기': 2507, '가족': 2508, '피부': 2509, '뽀얗다': 2510, '대충대충': 2511, '알갱이': 2512, '씹히다': 2513, '내놓다': 2514, '박명수': 2515, '나가야': 2516, '100': 2517, '저렇게': 2518, '오줌': 2519, '자국': 2520, '식탁': 2521, '과제': 2522, '극혐': 2523, '나들목': 2524, '얼추': 2525, '가구': 2526, '아무래도': 2527, '교보': 2528, '사소하다': 2529, '갈껄': 2530, '푸르다': 2531, '수서역': 2532, '압구정': 2533, '샤케라토': 2534, '~~!!)': 2535, '어쩌다': 2536, '봉': 2537, '맛은스벅맛': 2538, '11': 2539, '푹푹': 2540, '곱': 2541, '꺼지다': 2542, '싹': 2543, '갈아엎다': 2544, '프렌차이즈': 2545, '준수': 2546, ',\\\\': 2547, '어떻': 2548, '게좀': 2549, '관계자': 2550, '?..': 2551, '더치커피': 2552, '팔다': 2553, '건아': 2554, '니지': 2555, '이기다': 2556, '하찮다': 2557, '일로': 2558, '음료량': 2559, '겸비': 2560, '!^^': 2561, '의도': 2562, '길어지다': 2563, '2~3시간': 2564, '비키다': 2565, '만들기': 2566, '샘플링': 2567, '제자리': 2568, '일가': 2569, '해갈': 2570, '비일비재하다': 2571, '감수': 2572, '하고라도': 2573, '주기도': 2574, '^^^': 2575, '이쁜이': 2576, '옆집': 2577, '시청': 2578, '주전부리': 2579, '시도': 2580, '본점': 2581, '썰다': 2582, '장식': 2583, '^^:-)': 2584, '구분': 2585, '5600원': 2586, '짜리그란데': 2587, '전이': 2588, '거만': 2589, '적응': 2590, '의향': 2591, '???????': 2592, '샤': 2593, '롯데': 2594, '에여': 2595, '비주': 2596, 'why': 2597, 'do': 2598, 'straw': 2599, 'if': 2600, 'using': 2601, 'new': 2602, 'lids': 2603, 'specifically': 2604, 'made': 2605, 'shame': 2606, 'dont': 2607, 'unless': 2608, 'asked': 2609, 'we': 2610, 'can': 2611, 'plastic': 2612, '죨랴': 2613, '만이': 2614, '텁텁': 2615, '느끼하다': 2616, '마침내': 2617, '커피콩': 2618, '잔뜩': 2619, '재고품': 2620, '계': 2621, '열사': 2622, '조선': 2623, '더욱더': 2624, '성수': 2625, '반까지로': 2626, '잡': 2627, '카펜': 2628, '엎었는데': 2629, '특징': 2630, '10~15년': 2631, '지은': 2632, 'v': 2633, '아울렛': 2634, '멸종': 2635, '가득가득': 2636, '더군다나': 2637, '3/4만': 2638, '뭔들': 2639, '청정': 2640, '케이블': 2641, '꼽아': 2642, 'usb': 2643, '취식불': 2644, '뻗다': 2645, '부디': 2646, '넘어지다': 2647, '당해': 2648, '오래오래': 2649, '창렬': 2650, '계량': 2651, '우러나온': 2652, '우려': 2653, ')...': 2654, '종은': 2655, '......^^::::': 2656, '신천역': 2657, '떨어닌': 2658, '아시아': 2659, '선수촌': 2660, '와우': 2661, '상온': 2662, '유제품': 2663, '어떡하다': 2664, '.::': 2665, '리뉴얼': 2666, '+)': 2667, '-)': 2668, '려면': 2669, '신천동': 2670, '까지가': 2671, '12000원': 2672, '발행': 2673, '단독': 2674, '핼러윈': 2675, '꾸미다': 2676, '다기': 2677, '스벅자체': 2678, '짜리임': 2679, '서브웨이': 2680, '고기': 2681, '구리다': 2682, '담기다': 2683, '깜박': 2684, '별다르다': 2685, '와이셔츠': 2686, '분만': 2687, '안방': 2688, '마님': 2689, '스케이트': 2690, '말통': 2691, '기류': 2692, '먀장': 2693, '반포역': 2694, '단맛': 2695, '딸내미': 2696, '사레': 2697, '우정': 2698, '쉐르': 2699, '증': 2700, '010-3322': 2701, '6110': 2702, '비참하다': 2703, '거르세': 2704, '똘똘': 2705, '뭉치다': 2706, '등진': 2707, '킥킥': 2708, '한판': 2709, '민원': 2710, '조치': 2711, '외딴': 2712, '섬': 2713, '요일': 2714, '제각각': 2715, ';;;;;': 2716, 'ㅉㅉ': 2717, '은줄': 2718, '착': 2719, '각하': 2720, '생수': 2721, '현미': 2722, '스벅같': 2723, '산만하다': 2724, '없어옄': 2725, '호선': 2726, '종각역': 2727, '3-1': 2728, '종로타워': 2729, '최대': 2730, '세계': 2731, '형태': 2732, '지고': 2733, '된장': 2734, '그지같다': 2735, '관계': 2736, '덜렁': 2737, '#협찬아님': 2738, '#남돈내먹': 2739, '번째': 2740, '#스벅': 2741, '8,200': 2742, '카스테라': 2743, '4,500': 2744, '12,700': 2745, '톡': 2746, '꽁치': 2747, '#꽁치그라피': 2748, '#스벅송파사거리점': 2749, '맘데': 2750, '한스': 2751, '얼얼하다': 2752, '혈압': 2753, '눈곳': 2754, '효율': 2755, '망고': 2756, '패션후르츠': 2757, '슬': 2758, '라이스': 2759, '가터': 2760, '부티크': 2761, '공무원': 2762, '정갈하다': 2763, '출국': 2764, '모델': 2765, '나라': 2766, '말뚝': 2767, '주택가': 2768, '난잡하다': 2769, '거려': 2770, '심심하다': 2771, '급습': 2772, '드러내다': 2773, '렵': 2774, '언': 2775, '동부': 2776, '이촌동': 2777, '휑함': 2778, '활기차다': 2779, '재미없다': 2780, '뭐임': 2781, '둘째': 2782, '땡볕': 2783, '커밍': 2784, '순이': 2785, '이구만': 2786, '파견': 2787, '정확하다': 2788, '틱틱댐': 2789, '쫌': 2790, '일어나지': 2791, '숙제': 2792, '학부모': 2793, '메인': 2794, '듯해': 2795, '쿨': 2796, '피지': 2797, '오중': 2798, '옶었음': 2799, '도심': 2800, 'qr': 2801, '타라': 2802, 'bb': 2803, '<': 2804, '>': 2805, '사납다': 2806, '틀어놓다': 2807, '으로가': 2808, '려고': 2809, '크로스': 2810, '정체': 2811, '유발': 2812, '하루빨리': 2813, '폐쇄': 2814, '1321123312231132123': 2815, '^.^': 2816, '2021': 2817, '3시': 2818, '라티': 2819, '달러': 2820, '쥬': 2821, '해놈': 2822, '칼로리': 2823, '다이어트': 2824, '70': 2825, '퍼쯤': 2826, '...........': 2827, '앞서': 2828, '단체': 2829, '25분': 2830, '주차공간': 2831, '..;;': 2832, '매너': 2833, '좋았슴': 2834, '40분': 2835, '개똥이': 2836, '시리얼': 2837, '보조': 2838, '충전기': 2839, '도난': 2840, '화법': 2841, '분실': 2842, '협조': 2843, '공문': 2844, '진직': 2845, '촬영': 2846, '귿쟙': 2847, '마음껏': 2848, '조아영': 2849, '강때': 2850, '10-11시': 2851, '자르다': 2852, '뉴': 2853, '30%': 2854, '강동구': 2855, '완탑': 2856, '하비다': 2857, '안뇽': 2858, '...!!': 2859, '테디': 2860, '제시': 2861, '무안하다': 2862, 'apujeong': 2863, 'definitely': 2864, 'pop': 2865, '주황': 2866, '빛': 2867, '삐걱': 2868, '뇨': 2869, '일렉트로': 2870, '로고송': 2871, '120%': 2872, '아늑': 2873, '쏱았는데': 2874, '늙은이': 2875, '때매': 2876, '분잡': 2877, '저렇다': 2878, '지시': 2879, '랜드마크': 2880, 'ㅎㅎㅎㅎㅎ': 2881, '취직': 2882, '진창': 2883, '시르다': 2884, '혐': 2885, '끼울다': 2886, '똥쌋으': 2887, '뭍': 2888, 'https://m.blog.naver.com/brumari/221983789393': 2889, '려': 2890, '라우터': 2891, '설치': 2892, '장임': 2893, 'unusually': 2894, 'there': 2895, 'lot': 2896, 'people': 2897, 'studying': 2898, 'make': 2899, 'professionally': 2900, '그른': 2901, '훨': 2902, '다다르다': 2903, '가져다주다': 2904, '한동안': 2905, '새까맣다': 2906, '마리': 2907, 'take': 2908, '만지다': 2909, '호기심': 2910, '손바닥': 2911, '믈': 2912, '일인': 2913, '해봤다': 2914, '군자': 2915, '훨배': 2916, '웃집': 2917, '닭': 2918, '잃어버리다': 2919, 'o': 2920, '돋다': 2921, '->': 2922, '빈정거리다': 2923, '성별': 2924, '18년': 2925, '도부터': 2926, '골드': 2927, '회원': 2928, '샘': 2929, '드릅': 2930, '그랬더니': 2931, '6300원': 2932, '..^^)': 2933, '시전': 2934, '주더': 2935, '파워': 2936, '3.5': 2937, '나본': 2938, '티파니': 2939, '생일': 2940, '위층': 2941, '사가': 2942, '정점': 2943, '페리': 2944, '탄산수': 2945, '글씨': 2946, '가리다': 2947, '퉁명스레': 2948, '홱': 2949, '돌아서다': 2950, '요새': 2951, '푹': 2952, '커뮤니케이션': 2953, '쿠킹호일': 2954, '김밥': 2955, '허용': 2956, '안틈': 2957, '상암': 2958, 'ㅇㅇ': 2959, '로는': 2960, '바퀴': 2961, '찌들다': 2962, '사담': 2963, '체함': 2964, '암': 2965, '2500원': 2966, '죽순': 2967, '에든': 2968, '칭': 2969, '구들': 2970, '대서': 2971, '지지다': 2972, '분하다': 2973, '초반': 2974, '통제': 2975, '익룡': 2976, '넝수': 2977, '괜': 2978, '서지': 2979, '아파트': 2980, '사랑방': 2981, '군대': 2982, '100일': 2983, '휴가나와': 2984, '조오오오오': 2985, '끝판': 2986, '이따': 2987, '접다': 2988, '칠': 2989, '인간성': 2990, '겁니다': 2991, '반성은': 2992, '탁트인': 2993, '잘살다': 2994, '찔끔': 2995, '훌쩍': 2996, '음식물': 2997, '5.18': 2998, '딱좋다': 2999, '만들어지다': 3000, '과정': 3001, '취향': 3002, '사유리': 3003, '세번': 3004, '대학': 3005, '해심': 3006, '적합하다': 3007, '심쿵하다': 3008, '켜': 3009, '멋대로': 3010, '의무': 3011, '로움': 3012, '평화': 3013, 'b': 3014, '화사하다': 3015, '6천원': 3016, '짜리': 3017, 'ㅋㅋㅋㅋㅋㅋㅋㅋㅋㅋ': 3018, '노어이': 3019, '발차': 3020, '잉': 3021, '문화센터': 3022, '래미': 3023, '치아': 3024, '씨드': 3025, '뭣때문': 3026, '없쥬': 3027, '인심': 3028, '오는': 3029, '무선통신': 3030, '큲겨': 3031, '플랫': 3032, '아리땁다': 3033, '편리': 3034, '모욕': 3035, '으로써': 3036, '잠재': 3037, '범죄자': 3038, '추구': 3039, '프로덕트': 3040, '자부심': 3041, '심다': 3042, '그만두다': 3043, '^^*': 3044, '딸기스무디': 3045, '1,900원': 3046, '3,800원': 3047, '비용': 3048, '쏙': 3049, '빼': 3050, '상술': 3051, '불결하다': 3052, '1~2분': 3053, '기침': 3054, '칼칼하다': 3055, '2018년': 3056, '13일': 3057, '경의': 3058, '도보': 3059, '그간': 3060, '가로수길': 3061, '자라다': 3062, '보이시': 3063, '비번': 3064, '장안': 3065, '28일': 3066, '분다': 3067, '력셔리': 3068, '조금조금': 3069, '합정역': 3070, '프로페셔널': 3071, '손소독제': 3072, '도하': 3073, '로스팅': 3074, '게이트': 3075, '사당역': 3076, '복잡복잡': 3077, '삭': 3078, '피로하다': 3079, '뜻': 3080, '첨으로': 3081, '스코티': 3082, '고등학생': 3083, '차례': 3084, '왁자지껄하다': 3085, '정당하다': 3086, '지불': 3087, '반대': 3088, '이란': 3089, '김포공항': 3090, '재개발': 3091, '모바일': 3092, '불만족': 3093, '머무르다': 3094, '맛잇엇어': 3095, '특정시': 3096, '흐': 3097, '엉엉': 3098, '서교동': 3099, '융통성': 3100, '전경': 3101, '거실': 3102, '마련': 3103, '룸': 3104, '과외': 3105, '룸임': 3106, '물기': 3107, '버려지다': 3108, '전날': 3109, '머리카락': 3110, '엉': 3111, '잡담': 3112, '만듭니': 3113, '이이해': 3114, '마니아': 3115, '번덕': 3116, '껀': 3117, '아슬아슬하다': 3118, '나아지다': 3119, '간정': 3120, '첨봐욬': 3121, '래서': 3122, '대략': 3123, '천정': 3124, '앉히다': 3125, '치면': 3126, '킥': 3127, '보드': 3128, '말리다': 3129, '귓등': 3130, '유리창': 3131, '는데': 3132, '왓으': 3133, '비롯': 3134, 'lala': 3135, '찌그리다': 3136, '탁하다': 3137, '종일': 3138, '갖가지': 3139, '신경안': 3140, '잘쓰다': 3141, '간절하다': 3142, '떡하니': 3143, '22시': 3144, '까지라고': 3145, '뭡': 3146, '정보': 3147, '리가': 3148, '‘': 3149, '브로': 3150, '개편': 3151, '대학생': 3152, '줄곧': 3153, '데려가다': 3154, '극찬': 3155, '퀀시': 3156, '강아지': 3157, '가방': 3158, '어도': 3159, '속상하다': 3160, '프리퀀시': 3161, '?...': 3162, '용다': 3163, '양호': 3164, '전원': 3165, '포기': 3166, '궤변': 3167, '치즈볼': 3168, '과는': 3169, '프레': 3170, '다가오다': 3171, '배상': 3172, '다치다': 3173, '배상하': 3174, '훈련': 3175, '^^;;': 3176, '그만': 3177, '파트타이머': 3178, '심지어': 3179, '하기는': 3180, '○○○○○': 3181, '○': 3182, '빡셈': 3183, '뚫다': 3184, '성능': 3185, '후딱': 3186, '줄어들다': 3187, '눈길': 3188, '에서나': 3189, '00': 3190, '후반': 3191, '우중충하다': 3192, '옆쪽방': 3193, '5월': 3194, '9:30분': 3195, '바나나': 3196, '큐브': 3197, '뒤늦다': 3198, '중후': 3199, '맹물': 3200, '병과': 3201, '상관없다': 3202, '차로': 3203, '절실': 3204, '다마': 3205, '저쪽': 3206, '이냐': 3207, '고요': 3208, '스벅가는': 3209, 'really': 3210, 'deserves': 3211, 'stars': 3212, '20.10': 3213, '14:30': 3214, '팍팍': 3215, '기고': 3216, '다량': 3217, '모해': 3218, '관람객': 3219, '종사': 3220, '후회': 3221, '독특': 3222, '분간': 3223, '피곤하다': 3224, '괴상하다': 3225, '단추': 3226, '바지': 3227, '활짝': 3228, '이용자': 3229, '불필요하다': 3230, '사적': 3231, '연해': 3232, '찌다': 3233, '으론': 3234, '..(': 3235, '.)': 3236, '스벅좋': 3237, '스치다': 3238, '보험': 3239, '질남': 3240, '현실': 3241, '단순하다': 3242, '독서': 3243, '슨데': 3244, '스벅갈까': 3245, '방문에': 3246, '윗': 3247, '보고오다': 3248, '개미': 3249, '호출': 3250, '딜리': 3251, '흠좀무': 3252, 'jmt': 3253, '치열하다': 3254, '시야': 3255, '시끌시끌': 3256, '여권': 3257, '경쟁률': 3258, '닥': 3259, '2000원': 3260, '체': 3261, '건너편': 3262, '이수역': 3263, '갈래': 3264, '지역별': 3265, '수집': 3266, '물리다': 3267, '부자': 3268, '이외': 3269, '윽': 3270, '띡': 3271, '웃기다': 3272, '밀고': 3273, '안고': 3274, '한텐': 3275, '인내심': 3276, '발휘': 3277, '일반인': 3278, '더러워지다': 3279, '일보': 3280, '까지만': 3281, '아시': 3282, '테더링': 3283, '데이터': 3284, '유목민': 3285, '끔찍하다': 3286, '접시': 3287, '나이프': 3288, '상호작용': 3289, 'terrible': 3290, 'plate': 3291, 'fork': 3292, 'knife': 3293, 'smile': 3294, 'interaction': 3295, '수시로': 3296, '체온': 3297, '인산인해': 3298, '부딪히다': 3299, '알콜': 3300, '기별': 3301, '노랗다': 3302, '금테': 3303, '눈빛': 3304, '쪼꼬': 3305, '계집': 3306, '예명': 3307, '들먹이다': 3308, '소비자': 3309, '비법': 3310, '조목조목': 3311, '따지다': 3312, '재질': 3313, '워크스루용': 3314, '실패하다': 3315, '혼란': 3316, '어찌나': 3317, '당산역': 3318, '틱틱되': 3319, ':(': 3320, '스틸': 3321, '데스크': 3322, '유동': 3323, '구가': 3324, '그만큼': 3325, '알람': 3326, '최소한': 3327, '필히': 3328, '벌칙': 3329, '주머니': 3330, '재아': 3331, '치가': 3332, '우르르': 3333, '몰려오다': 3334, '술집': 3335, '파망': 3336, '버럭': 3337, '성질': 3338, '랍니': 3339, '빌어먹을': 3340, '매달': 3341, '문해': 3342, '결론': 3343, '신세계': 3344, '부서': 3345, '비밀': 3346, '컨벤션': 3347, '웨딩홀': 3348, '가오': 3349, '마여': 3350, '존': 3351, '팟님들': 3352, '팟님': 3353, '최선': 3354, '열심': 3355, '셨음': 3356, '미흡': 3357, '닉넴': 3358, '일텐데': 3359, '쌓다': 3360, '해당': 3361, '니깐': 3362, '점바점': 3363, '미우다': 3364, '짓': 3365, '상인': 3366, '우주': 3367, '500원': 3368, '위원': 3369, '바짝': 3370, '필동': 3371, '면옥': 3372, '라스베가스': 3373, '썻': 3374, '헬리': 3375, '이사': 3376, '인가가': 3377, '불매': 3378, '얻다': 3379, '개족': 3380, '틀다': 3381, '벼슬': 3382, '어두컴컴하다': 3383, '추정': 3384, '비닐봉지': 3385, '제지': 3386, '창렬해': 3387, '9천원': 3388, '고하': 3389, '꾸기다': 3390, '우기다': 3391, '넣기': 3392, '있닼': 3393, '시원': 3394, '망치다': 3395, '에겐': 3396, '부릅뜨다': 3397, '지름': 3398, '신사고': 3399, '삼청동': 3400, '슈렉': 3401, '추움': 3402, '현대인': 3403, '분배': 3404, '1-2': 3405, '매달리다': 3406, '..;;;;\\\\': 3407, '후에': 3408, '만요': 3409, '깡패': 3410, '애하': 3411, '번갈아': 3412, '24일': 3413, '그저': 3414, '정성': 3415, '분한': 3416, '에게도': 3417, '전파': 3418, '만원': 3419, '코엑스': 3420, '행사': 3421, 'sold': 3422, '차액': 3423, '빈정대다': 3424, '외국어대': 3425, '인근': 3426, '땡기다': 3427, '상큼': 3428, '패션': 3429, '의식': 3430, '그렇다고': 3431, '최대한': 3432, '죽돌이': 3433, '중앙대': 3434, '임대': 3435, '도좀': 3436, '천국': 3437, '어머': 3438, '만족감': 3439, '어머니': 3440, '캘리포니아': 3441, '출장': 3442, '세미': 3443, '10.1일': 3444, '자두': 3445, '삐쩍': 3446, '나용': 3447, '기름': 3448, '쓴맛': 3449, '겁': 3450, '나남': 3451, '죄다': 3452, '보다도': 3453, '아웃렛': 3454, '1~2': 3455, '파괴': 3456, '연말': 3457, '정책': 3458, '느슨하다': 3459, '고려': 3460, '허전하다': 3461, '할로윈': 3462, '같쥬': 3463, '극악': 3464, '부리다': 3465, '첨가': 3466, '이나고': 3467, '이면': 3468, '이디야': 3469, '뺏다': 3470, '렬화되': 3471, '정확성': 3472, '네스': 3473, '보틀': 3474, '보충': 3475, '이따가': 3476, '선의': 3477, '그중': 3478, '찿기': 3479, '의미': 3480, '진입': 3481, '숙련': 3482, '파르니': 3483, '조심하다': 3484, '신발': 3485, '밟다': 3486, '달려가다': 3487, '마개': 3488, '(?/': 3489, '무진장': 3490, '띄우다': 3491, '아톰': 3492, '이세': 3493, '승승장구': 3494, '돋보이다': 3495, '넓히다': 3496, '공기청정기': 3497, '1등': 3498, 'https://m.blog.naver.com/brumari/222017240101': 3499, '수많다': 3500, '취저': 3501, '아마': 3502, '편의점': 3503, '뭐함': 3504, '초파리': 3505, ':\\\\': 3506, '미래': 3507, '상관': 3508, '탁자': 3509, '옹기종기': 3510, '안쓰럽다': 3511, '회장': 3512, '불평': 3513, '인생': 3514, '빡시다': 3515, '사심': 3516, '~,~': 3517, '디시': 3518, '타운': 3519, '로라': 3520, '순': 3521, '접속': 3522, '발전': 3523, '한의원': 3524, '...!': 3525, '퀼리티': 3526, '지경': 3527, '노후': 3528, '대요': 3529, '찿으려': 3530, '기적': 3531, '핸드폰': 3532, '아이패드': 3533, '웩': 3534, '원인': 3535, '입력': 3536, '농락': 3537, '개굿': 3538, '~^^*': 3539, '폭': 3540, '환영': 3541, 'https://m.blog.naver.com/brumari/221996039454': 3542, '다짜고짜': 3543, '저러다': 3544, '양하다': 3545, '되풀이': 3546, '거부': 3547, '아이슨': 3548, '명성': 3549, '--': 3550, '타임스퀘어': 3551, '29일': 3552, '울화': 3553, '확행': 3554, '망쳤듬': 3555, '뮤': 3556, '그니': 3557, '핫초코': 3558, '내달': 3559, '서서': 3560, '오른쪽': 3561, '톡톡': 3562, '^.': 3563, 't': 3564, '써비': 3565, '자빠링': 3566, '오잉': 3567, '단단하다': 3568, '힘없다': 3569, '덜하다': 3570, '넖은편': 3571, '여신': 3572, '우상숭배': 3573, ',,,,': 3574, '조선시대': 3575, '사복시': 3576, '수레': 3577, '마굿': 3578, '촐': 3579, '동대문역': 3580, '열정': 3581, '딱이다': 3582, 'holiday': 3583, 'white': 3584, 'vin': 3585, 'chaud': 3586, '홀리데이': 3587, 'request': 3588, 'drink': 3589, 'served': 3590, 'without': 3591, 've': 3592, 'worked': 3593, 'u': 3594, 'k': 3595, 'know': 3596, 'should': 3597, 'get': 3598, 'just': 3599, 'doesn': 3600, 'care': 3601, 'about': 3602, 'nthey': 3603, 'declined': 3604, 'then': 3605, 'walk': 3606, 'down': 3607, 'road': 3608, 'guess': 3609, 'very': 3610, 'removed': 3611, 'before': 3612, 'serving': 3613, 'may': 3614, 'smaller': 3615, 'much': 3616, 'friendlier': 3617, 'helpful': 3618, '순환': 3619, '간혹': 3620, '긴장': 3621, '간닷': 3622, '쯤에': 3623, '흉보다': 3624, '무례하다': 3625, '육안': 3626, '~\"': 3627, '속닥대다': 3628, '인격': 3629, '모독': 3630, ';;;;': 3631, '한바탕': 3632, '가관': 3633, '공동': 3634, '소변기': 3635, 'h': 3636, '미아사거리역': 3637, '마곡지구': 3638, '특색': 3639, '브드': 3640, '한글': 3641, '유통': 3642, '기한': 3643, '공통': 3644, '타스벅': 3645, '이서': 3646, '특정': 3647, '쇼리': 3648, '신미': 3649, '!)': 3650, '썩': 3651, '자꾸자꾸': 3652, '퍼스': 3653, '널': 3654, '빼먹다': 3655, '시비': 3656, '코너': 3657, '고욤': 3658, '모던': 3659, '~~~!\\\\': 3660, '테라스': 3661, '재수없다': 3662, '본분': 3663, '체고': 3664, '후지': 3665, '장애인': 3666, '계약': 3667, '파악': 3668, '정작': 3669, '개구': 3670, '린': 3671, '논현': 3672, '정형외과': 3673, '곧': 3674, '부점': 3675, '초보': 3676, '시경': 3677, '라떼아트': 3678, '경력': 3679, '중구': 3680, '방임': 3681, '답답': 3682, '사이드': 3683, '미사일': 3684, '생산': 3685, '2일': 3686, 'pm': 3687, '35분': 3688, '끝내기': 3689, '채다': 3690, '하필': 3691, '말고는': 3692, '기겁': 3693, '흔': 3694, '상이': 3695, '5000원': 3696, '권인데': 3697, '4900': 3698, '5100': 3699, '100원': 3700, '내시': 3701, '무대뽀': 3702, '늬': 3703, '묽다': 3704, '종정': 3705, '추가헤': 3706, '심터': 3707, '반지하': 3708, '습하다': 3709, '버글거려': 3710, '모뎀': 3711, '촉촉': 3712, '크레이프': 3713, '예여': 3714, '산도': 3715, '바디': 3716, '감다': 3717, '크레마': 3718, '예술의전당': 3719, '유무': 3720, '귀하다': 3721, '절반': 3722, '믹스': 3723, '아메': 3724, '솔직하다': 3725, '용어': 3726, '남산': 3727, '스펜서': 3728, '정해': 3729, '레노': 3730, '베이': 3731, '션': 3732, '써니': 3733, '천리안': 3734, '나우누리': 3735, '.,.': 3736, 'ㅋㅋㅋㅋㅋㅋㅋㅋㅋㅋㅋㅋㅋ': 3737, '2041': 3738, '2042': 3739, '..!!': 3740, '2분': 3741, '세련되다': 3742, '잔잔하다': 3743, '멋': 3744, '드럽다': 3745, '사색': 3746, '대입': 3747, '퀄리티': 3748, '!!!!!!': 3749, '더더': 3750, '누누': 3751, '층뷰': 3752, '로그인': 3753, '구비': 3754, '개념': 3755, '동동': 3756, '구르다': 3757, '선뜻': 3758, '묘': 3759, '노량진역': 3760, '동점': 3761, '출입구': 3762, '무방': 3763, '도야': 3764, '달콤하다': 3765, '겉옷': 3766, 'ㄷㄹㅊ': 3767, '붐': 3768, '육개': 3769, '헉헉': 3770, '빵빵': 3771, '블러': 3772, '줄알': 3773, '라면서': 3774, '두세': 3775, '한산': 3776, '샷추가': 3777, '아이러니': 3778, '생애': 3779, '세분': 3780, '이나마': 3781, '힘': 3782, 'go': 3783, '회': 3784, '미시': 3785, '놀이': 3786, '육아': 3787, '카우치': 3788, '기둥': 3789, '만점': 3790, '은은하다': 3791, '일품': 3792, '잼': 3793, '신기하다': 3794, '퍽퍽': 3795, '질겨': 3796, '빈자리': 3797, '까만색': 3798, '븐': 3799, '아이스크림': 3800, '2,900': 3801, '6,300': 3802, '9,200': 3803, '#권꽁치': 3804, '#starbucks': 3805, '#고속터미널스타벅스': 3806, '#스타벅스센트럴시티점': 3807, '#스벅메뉴': 3808, '다잡다': 3809, '박스': 3810, '400원': 3811, '회색': 3812, '모자': 3813, '6일': 3814, '대에': 3815, '즉': 3816, '찔리다': 3817, '옹알': 3818, '이하고': 3819, '꼬': 3820, '야마': 3821, '그땐': 3822, '면전': 3823, '대고': 3824, '쌍욕': 3825, '개진': 3826, '3년': 3827, '스피드': 3828, '선정릉': 3829, '로안': 3830, '7천원': 3831, '넘는': 3832, '큰소리': 3833, '권유': 3834, '의사': 3835, '가원': 3836, '22:30': 3837, '실곳': 3838, '개추움': 3839, '서도': 3840, '맥도날드': 3841, '당산': 3842, '존엄': 3843, 'been': 3844, '국밥': 3845, '무심하다': 3846, '진귀하다': 3847, '소독제': 3848, '아주아주': 3849, '열시': 3850, '복도': 3851, '크루': 3852, '소용': 3853, '불친젛함': 3854, '당당하다': 3855, '조그마하다': 3856, '꽉': 3857, '동생': 3858, '주상': 3859, '복합': 3860, '건성': 3861, '현금영수증': 3862, '화면': 3863, '예의': 3864, '미팀룸': 3865, '소규모': 3866, '임시': 3867, '유용하다': 3868, '이몽': 3869, '!!!!!!!!!!!!!!!!!!!!!!!!!!!!!': 3870, '받치다': 3871, '다친덴': 3872, '몹시': 3873, '진정': 3874, '찌린내': 3875, '정제': 3876, '비위생적': 3877, 'joy': 3878, '차근차근': 3879, '파다': 3880, '조기': 3881, '무수': 3882, '외': 3883, '맡다': 3884, '날아가다': 3885, '4일': 3886, '불친철': 3887, '뎅': 3888, '쑛': 3889, '=.=': 3890, '소소하다': 3891, '막만듬': 3892, 'cgg': 3893, '드네': 3894, '스루': 3895, '장소넗': 3896, '치수': 3897, '기대다': 3898, '♡♡': 3899, '!!!!!': 3900, '핵존맛': 3901, '빈곳': 3902, '멊': 3903, '흑석동': 3904, '숏컷': 3905, '★★★★★': 3906, '라지에이터': 3907, '잇엇음': 3908, '원가': 3909, '이러니': 3910, '이던': 3911, '비위': 3912, '조용조': 3913, '용하다': 3914, '앞쪽': 3915, '넘어서가면': 3916, '2020/10': 3917, '24': 3918, '으아': 3919, '하듯': 3920, '~~(': 3921, '흰색': 3922, '고용': 3923, '무척': 3924, '한기': 3925, '게이': 3926, '티디': 3927, '~?': 3928, '극도': 3929, '그릇': 3930, '부리면': 3931, '이딴': 3932, '쟁이': 3933, '진미': 3934, '비업': 3935, '?!': 3936, '분실물': 3937, '분위': 3938, '미군기지': 3939, '삼면': 3940, '지금껏': 3941, '멤버십': 3942, '신분증': 3943, '망신': 3944, '창피해': 3945, '못내': 3946, '음이름': 3947, '좀알': 3948, '둘걸': 3949, '망원': 3950, 'bmw': 3951, '전차': 3952, '종': 3953, '국산': 3954, '플래그': 3955, '에쿠스': 3956, 'g': 3957, '90': 3958, '카니발': 3959, '모하비': 3960, '팰리세이드': 3961, '인승': 3962, 'rv': 3963, '직수입': 3964, '트럭': 3965, '컬': 3966, '레이드': 3967, '초대형': 3968, '상고': 3969, '스포츠카': 3970, '하이퍼': 3971, '불차': 3972, '?^^^^': 3973, '달리기': 3974, '90년': 3975, '차요': 3976, '횡포': 3977, '으로만': 3978, '염색': 3979, '낯': 3980, '믄': 3981, '신논현역': 3982, '권하다': 3983, '고소하다': 3984, '요구': 3985, '미착': 3986, 'ㅡㅡㅋ': 3987, '사당': 3988, '스벅이죵': 3989, '온종일': 3990, '굶다': 3991, '갈증': 3992, '해소': 3993, '위해': 3994, '키키': 3995, '잔고': 3996, '폐가': 3997, '발언': 3998, '악물다': 3999, '!\"': 4000, '답지': 4001, '지혜': 4002, '심기': 4003, '화곡': 4004, '메': 4005, '스퀘어': 4006, '작동': 4007, 'one': 4008, 'member': 4009, 'other': 4010, 'look': 4011, 'miserable': 4012, 'slow': 4013, '근사하다': 4014, '신당역': 4015, '국민은행': 4016, '쩌렁쩌렁': 4017, '승리자': 4018, '컨디먼트': 4019, 'ㅠㅠㅠㅠㅠㅠㅠㅠㅠㅠ': 4020, '법도': 4021, '정식': 4022, 'bbb': 4023, '막상': 4024, '곳곳': 4025, '까지여서': 4026, '극치': 4027, '..;;;': 4028, '하디': 4029, '연한': 4030, '개별': 4031, '도어': 4032, '락': 4033, '경의선': 4034, '이기': 4035, '동료': 4036, '피해자': 4037, 'leto': 4038, '최옼': 4039, '벽보': 4040, '제시카': 4041, '전달': 4042, '^^;;;;;\\\\': 4043, '....^^;;;;;': 4044, '상의': 4045, '이리저리': 4046, '더없이': 4047, '세심': 4048, '..()()()\\\\': 4049, '괜챦다': 4050, '.....\"': 4051, '불찰': 4052, '...\"': 4053, '누군가': 4054, '()()()......\\\\': 4055, '믿음': 4056, '테크노마트': 4057, '그리로': 4058, '새해': 4059, '복': 4060, '주로': 4061, '건대': 4062, '리뉴': 4063, '리저브되': 4064, '샷추': 4065, ';)': 4066, 'ㅍㅇ': 4067, '중시': 4068, '하워드': 4069, '슐츠': 4070, '예외': 4071, '협소함': 4072, '계신분': 4073, '새끼손가락': 4074, '바퀴벌레': 4075, '.......': 4076, '3/4': 4077, '통풍': 4078, '땀': 4079, '쩔어요': 4080, '툭하면': 4081, '즉시': 4082, '퇴장': 4083, '블론드': 4084, '한강진역': 4085, '.!': 4086, '행복하다': 4087, '차에': 4088, '중심': 4089, '초기': 4090, '케이': 4091, '쿠': 4092, '빵류': 4093, '시원시원하다': 4094, '아낌없이': 4095, '뿜어주': 4096, '냉방': 4097, '호사': 4098, '누리다': 4099, '스벅맛입니': 4100, '우기': 4101, '쯧': 4102, '꺄르르': 4103, '로봇': 4104, '동그라미': 4105, '반입': 4106, '에까지': 4107, '자신감': 4108, '스스로': 4109, '충성': 4110, '제도': 4111, '무지하다': 4112, '환상': 4113, '밸': 4114, '당부': 4115, '리더': 4116, '상하': 4117, '후속': 4118, '동냥': 4119, 'ㅔ': 4120, '^-^': 4121, '쨩': 4122, '남부': 4123, '순환로': 4124, '진': 4125, '풍': 4126, '성하다': 4127, '리나': 4128, '에두': 4129, '시간제': 4130, '분전': 4131, '환하다': 4132, '견습': 4133, '생인': 4134, '기술': 4135, '중인': 4136, '촉감': 4137, '나노': 4138, '소위': 4139, '게거품': 4140, '조화': 4141, '상사': 4142, '화이': 4143, '링': 4144, '샤케라또': 4145, '구의': 4146, '사람인': 4147, '비슷': 4148, ':))': 4149, 'frontier': 4150, '층애': 4151, '숭실대': 4152, '무너지다': 4153, '레이아웃': 4154, '씁쓸하다': 4155, '정겹다': 4156, '낭비': 4157, '강남구청역': 4158, '인접': 4159, 'perfect': 4160, '오든': 4161, '싸이렌': 4162, '하든': 4163, '감탄': 4164, '다른사람': 4165, '팔고': 4166, '반품': 4167, '온갖': 4168, '파': 4169, '하나로': 4170, '성실하다': 4171, '맥스': 4172, '.,': 4173, '해피아워': 4174, '~!!': 4175, '기절': 4176, '란': 4177, '안에': 4178, '무인': 4179, '차기': 4180, '1000원': 4181, '장한평역': 4182, '포': 4183, '품절': 4184, '검증': 4185, '내방역': 4186, '분쇄': 4187, '일본': 4188, '까지임': 4189, '토핑없': 4190, '토핑빼': 4191, '이브': 4192, 'visit': 4193, 'ideally': 4194, 'located': 4195, 'hotspot': 4196, 'residential': 4197, 'area': 4198, 'fortune': 4199, 'links': 4200, 'south': 4201, 'north': 4202, 'looks': 4203, 'trendy': 4204, '정면': 4205, '벽쪽': 4206, '추': 4207, '운지': 4208, '패딩': 4209, '영하': 4210, '삼십분': 4211, '~~*': 4212, '덧붙이다': 4213, '뚝': 4214, '짤': 4215, '널널함': 4216, '홈페이지': 4217, '11월': 4218, '10일': 4219, '현재': 4220, '유일': 4221, '돔': 4222, '형식': 4223, '아포가토': 4224, '재차': 4225, '하잇': 4226, '시절': 4227, '연희동': 4228, '가든': 4229, '심각': 4230, '서초동': 4231, '위즈': 4232, '뒷문': 4233, '정실': 4234, '도도': 4235, '꾸러미': 4236, '우수': 4237, '법률상': 4238, '담하다': 4239, '격앙': 4240, '클라이언트': 4241, 'gg': 4242, '사업': 4243, '법무사': 4244, '변호사': 4245, 'ifc': 4246, '…': 4247, '욜': 4248, '시로': 4249, '비닐': 4250, '하자': 4251, '코랄': 4252, '곤란하다': 4253, '멀쩡하다': 4254, '복잡': 4255, 'ㄱㅊㄱㅊ': 4256, '근거리': 4257, '뒷담화': 4258, '인용': 4259, '그랬는데': 4260, '하나요': 4261, '넓이': 4262, '기레기': 4263, '네비게이션': 4264, '환풍': 4265, '땀내': 4266, '휴일': 4267, '퉁퉁': 4268, '째지다': 4269, '버벅거렸더': 4270, '피꺼솟': 4271, '글로벌': 4272, '이즈': 4273, '40': 4274, '높이': 4275, '으로나': 4276, '쭉': 4277, '에스컬레이터': 4278, '생난리': 4279, '노려보다': 4280, '도나': 4281, '들어서다': 4282, '끌': 4283, '1분': 4284, '작정': 4285, '업': 4286, '호불호': 4287, '불호': 4288, '..............': 4289, '엘레베이터': 4290, '변기': 4291, '더하다': 4292, '스벅리저브': 4293, '엔지니어링': 4294, '건설': 4295, '쉬는시간': 4296, '10:00': 4297, '10:15': 4298, '3:00': 4299, '3:15': 4300, '풀풀': 4301, '날리다': 4302, '종료': 4303, '앞당기다': 4304, '꺼리다': 4305, '옛': 4306, '반한': 4307, '스타벅스커피': 4308, '옥상': 4309, '그러면': 4310, '놀란': 4311, '설마': 4312, '?)': 4313, '수유': 4314, 'iced': 4315, 'americano': 4316, '하수': 4317, '관해': 4318, '협소해': 4319, '성수역': 4320, '>.<': 4321, '뚝섬역': 4322, '닭장': 4323, '반지': 4324, '제왕': 4325, '호빗': 4326, '겉': 4327, '속이다': 4328, '짓거리': 4329, '아영': 4330, '다다닥': 4331, '길이': 4332, '칸막이': 4333, '무릎': 4334, 'https://m.blog.naver.com/brumari/221789290271': 4335, '온도계': 4336, 'view': 4337, '택사': 4338, '핀': 4339, '꽂히다': 4340, '구멍': 4341, '10년': 4342, '전부터': 4343, '사근사근하다': 4344, '매력': 4345, '음해': 4346, '최적': 4347, '올리버': 4348, '쇼콜라': 4349, '클라우드': 4350, '생쿠': 4351, '뿌듯하다': 4352, '^^!': 4353, '시선': 4354, '즈음': 4355, '방울': 4356, 'treated': 4357, 'kindly': 4358, 'bustling': 4359, 'atmosphere': 4360, '리빙': 4361, '포인트': 4362, '서울대': 4363, '한자리': 4364, 'ㅊㅊ': 4365, '마디': 4366, '잡지': 4367, '리다': 4368, '미적지근하다': 4369, '용서': 4370, '19일': 4371, '즈음에': 4372, '어쩌나': 4373, '월요일': 4374, '질질': 4375, '가만': 4376, '희한': 4377, '아픔': 4378, '타르트': 4379, '컨디': 4380, '불안하다': 4381, '기만': 4382, '한적': 4383, '태양': 4384, '스트로우': 4385, '안주시': 4386, 'ㅜㅜㅝ': 4387, '너무하다': 4388, '맹맹하다': 4389, '방이': 4390, '데시벨': 4391, '혹은': 4392, '떠듭니': 4393, '경박하다': 4394, '표현': 4395, '도란도란': 4396, '이겠다': 4397, '떠나가다': 4398, '깔깔': 4399, '업종': 4400, '외모': 4401, '차려입다': 4402, '식당': 4403, '스탁': 4404, '삼선': 4405, '교점': 4406, '투섬등': 4407, '1조': 4408, '캐나다': 4409, '혹': 4410, '조금씩': 4411, '다크': 4412, '무심코': 4413, '몸서리': 4414, '처지': 4415, '커지다': 4416, '싸움': 4417, ',,,,,': 4418, '까치산역': 4419, '컨디먼트바': 4420, '편임': 4421, '내야': 4422, '참조': 4423, '천고': 4424, '수직': 4425, '강북': 4426, '색다르다': 4427, '고객감동': 4428, '젖다': 4429, '강북구청': 4430, '기전': 4431, '님들': 4432, '신도림': 4433, '필요성': 4434, '반말': 4435, '전환': 4436, '다한': 4437, '촛불': 4438, '붙이': 4439, 'ㅋㅋㅋㅋㅋㅋㅋㅋㅋ': 4440, '각자': 4441, '레이': 4442, '리턴': 4443, '에다가': 4444, '2020/11': 4445, '07': 4446, '드라이': 4447, '은평구': 4448, '연신내': 4449, '블루베리': 4450, 'ㅋㅋㅋㅜ': 4451, '돌아오다': 4452, '미가': 4453, '소공동': 4454, '칙': 4455, '안전': 4456, '요게': 4457, '토': 4458, '07:00': 4459, '11:00': 4460, '정물': 4461, '공카': 4462, '당분간': 4463, '자의': 4464, '타의': 4465, '근래': 4466, '적당': 4467, '강남구': 4468, '차도': 4469, '스텐드': 4470, '클럽': 4471, '썸': 4472, '밀당': 4473, '심리전': 4474, '듣기': 4475, '조그만': 4476, '논현동': 4477, '풀죽다': 4478, '어감': 4479, '커피점': 4480, '복판': 4481, '한명인': 4482, 'p': 4483, '***': 4484, '군': 4485, '감수성': 4486, '잔나': 4487, '몰트': 4488, '원샷': 4489, '뻔햇음': 4490, '가계': 4491, '에어콘': 4492, '난감': 4493, '증권': 4494, '오래전': 4495, '원성': 4496, '자자하다': 4497, '날다': 4498, '내려가다': 4499, '모텔': 4500, '잔돈': 4501, '론': 4502, '액수': 4503, '♬♪♪♩': 4504, '월급': 4505, '여행': 4506, '병': 4507, '서소문': 4508, '마심': 4509, '엿': 4510, '늠': 4511, '핵노맛': 4512, '죄': 4513, '단번': 4514, '무너': 4515, '임의': 4516, '덩어리': 4517, '젤리': 4518, '스푼': 4519, '쑥': 4520, '티스푼': 4521, '든지': 4522, '복불복': 4523, '이든지': 4524, '듯함': 4525, '기구': 4526, '재정': 4527, '턱짓': 4528, '돌림': 4529, '등지': 4530, '롭고': 4531, '쾨': 4532, 'https://m.blog.naver.com/brumari/222226650399': 4533, '20:20분': 4534, '존트': 4535, '바가지': 4536, '어쩐지': 4537, '했드': 4538, 'ㅠㅠㅋㅋ': 4539, '역사': 4540, '구토': 4541, '생': 4542, '잘되지': 4543, '깨꼿해': 4544, '고치다': 4545, '그동안': 4546, '당사자': 4547, '승': 4548, '주해': 4549, '분산': 4550, '강남대로': 4551, '앵': 4552, '마곡사': 4553, '언스': 4554, 'nseni': 4555, 'sherry': 4556, 'cuckoo': 4557, 'hi': 4558, 'pk': 4559, ':)\\\\': 4560, '근무시간': 4561, '첨부': 4562, '복수': 4563, '응답': 4564, '이십': 4565, '자본주의': 4566, '대한민국': 4567, '차별': 4568, '인센티브': 4569, '슬쩍': 4570, '따라가다': 4571, '아름답다': 4572, '사이언스': 4573, '점수': 4574, '야박하다': 4575, '드뎌': 4576, '찌꺼기': 4577, '들이켜다': 4578, '동감': 4579, '부가': 4580, '활용': 4581, '견디다': 4582, '화징실': 4583, '어쪌': 4584, '후회되다': 4585, '~~!!': 4586, '실상': 4587, '축복': 4588, '눈데': 4589, '네오': 4590, '오시': 4591, '마주': 4592, '쳣': 4593, '피드백': 4594, '자칭': 4595, '이태': 4596, '~?????!!': 4597, '경복궁': 4598, '재미있다': 4599, 'a': 4600, 'big': 4601, 'an': 4602, 'elevator': 4603, '겪다': 4604, '가까워지다': 4605, '서해': 4606, '랬': 4607, '수요일': 4608, '5:40분': 4609, '조곤조곤하다': 4610, '슈퍼': 4611, '분노': 4612, '펜딸': 4613, '깍이다': 4614, '실물': 4615, '영접': 4616, '노이즈': 4617, '캔': 4618, '슬링': 4619, '이어폰': 4620, '최공': 4621, '이여': 4622, '관광객': 4623, '모기': 4624, '상위': 4625, '1999년': 4626, '혜화동': 4627, '결정': 4628, '어떨': 4629, '2.5': 4630, '소가': 4631, '항삭': 4632, '복작복작': 4633, '할아버지': 4634, '마카롱': 4635, '하정우': 4636, '프사': 4637, '인신공격': 4638, '살아가다': 4639, '훤합니': 4640, '뒤좀': 4641, '돌아보다': 4642, '호수': 4643, '정망': 4644, '안주': 4645, '컨디바': 4646, '저지방우유': 4647, '자덕': 4648, '휴식': 4649, '코타': 4650, '멜팅': 4651, '삼': 4652, '실아': 4653, '생츄어리': 4654, '떠오르다': 4655, '^*': 4656, '쩐': 4657, '마냥': 4658, '슈퍼마켓': 4659, '갠츈': 4660, '푸드코트': 4661, '9500원': 4662, '중국집': 4663, '만두국': 4664, '작가': 4665, '교회': 4666, '샘플': 4667, '신당': 4668, '?(*': 4669, '´': 4670, '?`*)?': 4671, '2017년': 4672, '말대꾸': 4673, '전화번호': 4674, '검색': 4675, '건방지다': 4676, '악덕': 4677, '2019년': 4678, '디게': 4679, '부딪치다': 4680, '내면': 4681, '일방': 4682, '겹': 4683, '욘나뤼': 4684, '그이': 4685, '바짝바짝': 4686, '개업': 4687, '~^-^': 4688, '멀뚱하다': 4689, '바코드': 4690, '여지': 4691, '껏': 4692, '톤': 4693, '계시': 4694, '할랬': 4695, '지난번': 4696, '콜드컵': 4697, '어쩌라고': 4698, '뱉다': 4699, '격상': 4700, '시험': 4701, '고물': 4702, '앳돼': 4703, '위기': 4704, '능력': 4705, '체인점': 4706, '슬프다': 4707, 'skt': 4708, '건축': 4709, '자재': 4710, '콧': 4711, '쏙쏙': 4712, '^~^': 4713, '겸': 4714, '한소리': 4715, '순서도': 4716, '위서': 4717, '거북이': 4718, '혹시': 4719, '맙시': 4720, '자식': 4721, '걸림': 4722, '단자': 4723, '정돈': 4724, 'mell': 4725, '동그랗다': 4726, '햇빛': 4727, '영유': 4728, '(+': 4729, '부모': 4730, '이러하다': 4731, '달동': 4732, '커피샵': 4733, '인걸': 4734, '좋아욤': 4735, '넘어서': 4736, '필독': 4737, '서울숲': 4738, '더럽히다': 4739, '사과받다': 4740, '거꾸로': 4741, '맹세': 4742, '하고도': 4743, '어쩌다가': 4744, '적성': 4745, '타이틀': 4746, '진짜진짜': 4747, 'ㅌㅓ': 4748, '노원역': 4749, 'km': 4750, '이내': 4751, '자부': 4752, '진가': 4753, '보스': 4754, ',,(^^)': 4755, 'ｂ': 4756, '은근': 4757, '하란': 4758, '고지도': 4759, '쑤시다': 4760, '내려놓다': 4761, '공함': 4762, 'ssg': 4763, '마켓': 4764, '둘러보기': 4765, '우장산역': 4766, '자존심': 4767, '무': 4768, '전문화': 4769, '짱짱': 4770, '인간미': 4771, '개사': 4772, '홍입': 4773, '3초': 4774, '워크스루': 4775, '개꿀': 4776, 'jimi': 4777, '귄': 4778, 'ㅁ': 4779, '자로': 4780, '중앙': 4781, '듬': 4782, '탄산': 4783, '자마자': 4784, '스벅점': 4785, 'small': 4786, '어슬렁거리다': 4787, '서툴다': 4788, '일곱시': 4789, '음슴다': 4790, '유리컵': 4791, '화가': 4792, '급똥일': 4793, '출몰': 4794, '산다': 4795, '문전': 4796, '염': 4797, '열중': 4798, '보구': 4799, '악': 4800, '스런': 4801, '취업': 4802, '배출': 4803, '취준생들': 4804, '일부': 4805, '어두움': 4806, '어이없이': 4807, '#기말시험': 4808, '#시험기간': 4809, '#열공': 4810, '싸관스벅': 4811, '지하공간': 4812, '구리': 4813, '시공': 4814, '사원': 4815, '4분': 4816, '안변': 4817, '거치다': 4818, '본받다': 4819, '골': 4820, '!!^^': 4821, '순서': 4822, '8일': 4823, '통창': 4824, '에서부터': 4825, '삼만리': 4826, '언행': 4827, '^^..': 4828, '카톡': 4829, 'compared': 4830, 'around': 4831, 'corner': 4832, 'warm': 4833, 'welcoming': 4834, 'usa': 4835, 'where': 4836, 'greet': 4837, 'ask': 4838, 'how': 4839, 'great': 4840, 'place': 4841, '재주': 4842, '문하': 4843, '변화': 4844, 'stable': 4845, 'free': 4846, 'wi': 4847, 'fi': 4848, 'power': 4849, 'outlets': 4850, 'plenty': 4851, 'seats': 4852, '더움': 4853, '보람': 4854, '얻어먹다': 4855, '투': 4856, '좋쿠': 4857, 'ㅅㅓ': 4858, 'crowded': 4859, 'difficult': 4860, 'have': 4861, 'meeting': 4862, '에그': 4863, '베이컨': 4864, '조급하다': 4865, '앱': 4866, '조차': 4867, '기다림': 4868, '아담하다': 4869, '떼': 4870, '이글': 4871, '오버': 4872, '산뜻하다': 4873, '인스타': 4874, '스팟': 4875, '겨우': 4876, 're': 4877, 'kind': 4878, 'all': 4879, 'time': 4880, '임산부': 4881, '페인만': 4882, '아차산': 4883, '이구': 4884, '올림픽': 4885, '횡단보도': 4886, '우리나라': 4887, '고치': 4888, '평화의문': 4889, '아무튼': 4890, '유니폼': 4891, '왓': 4892, '햇': 4893, '까지구만': 4894, '포근하다': 4895, '법카': 4896, '22': 4897, '가라앉다': 4898, '오이': 4899, '조심': 4900, '클라스': 4901, '반기다': 4902, '워': 4903, '립스틱': 4904, '이중': 4905, '마저도': 4906, '이래도': 4907, 'brewed': 4908, '비꼬다': 4909, '협': 4910, '구석': 4911, '등대': 4912, '암사동': 4913, '끊어지다': 4914, '뻥': 4915, '안치': 4916, '신입': 4917, 'il': 4918, 'trop': 4919, 'de': 4920, 'gens': 4921, 'et': 4922, 'les': 4923, 'employ': 4924, 'ne': 4925, 'parlent': 4926, 'pas': 4927, 'anglais': 4928, '강풍': 4929, '시베리아': 4930, '벌판': 4931, 'c': 4932, '19': 4933, '바이러스': 4934, '환경보호': 4935, '자제': 4936, '1/4': 4937, '찬': 4938, '혼재': 4939, '글쎄': 4940, '평상시': 4941, '수량': 4942, '모자라다': 4943, '쾌쾌': 4944, '합': 4945, '수칙': 4946, '대면': 4947, '화하다': 4948, '마당': 4949, '뛰어다니다': 4950, '이삼십분': 4951, '일상': 4952, '^^~': 4953, 'expensive': 4954, '전후': 4955, '즐거움': 4956, '솔드아웃': 4957, '우왕': 4958, '정류장': 4959, ')=': 4960, '미스': 4961, '질의': 4962, '편차': 4963, '검': 4964, '우습다': 4965, '육': 4966, '베이커리': 4967, '유념': 4968, '번잡': 4969, '피난민': 4970, '연출': 4971, '세우다': 4972, '비율': 4973, '연유': 4974, '주지': 4975, '내껀': 4976, '!!\\\\': 4977, '들보': 4978, '이듭': 4979, '~!!\\\\': 4980, '덩달아': 4981, '세시': 4982, '작살': 4983, '메리트': 4984, '미모': 4985, '쵝오': 4986, '욍': 4987, '십리': 4988, '!^-^': 4989, '드릴': 4990, '용산역': 4991, '컷': 4992, '5초': 4993, '불쾌': 4994, '헸다': 4995, '파이팅': 4996, 'ㅠㅜㅠㅠㅠ': 4997, '소비': 4998, '기프트카드': 4999, '음량': 5000, '들쑥날쑥하다': 5001, '깨닫다': 5002, '압권': 5003, '재촉': 5004, '논산훈련소': 5005, '방불': 5006, '입대': 5007, '앞두다': 5008, '사전': 5009, '체험': 5010, ')\\\\': 5011, '이자카야': 5012, '테이': 5013, '스팅': 5014, '투어': 5015, '막스': 5016, '드림': 5017, '아유': 5018, '브띠': 5019, '존맛': 5020, '45분': 5021, '오라': 5022, '한겨울': 5023, '세도': 5024, '고깃집': 5025, '디럽': 5026, '어머님': 5027, '7일': 5028, '오전에': 5029, '..!!!': 5030, '할리스커피': 5031, '인제': 5032, '겨속': 5033, '비데': 5034, '신정': 5035, '축하': 5036, 'vee': 5037, '삭히다': 5038, '데니': 5039, '아키': 5040, '언짢다': 5041, '티나': 5042, '적극': 5043, '취했으': 5044, '소화': 5045, '버겁다': 5046, '이러나저러나': 5047, '노': 5048, '망설이다': 5049, '손잡이': 5050, '소독': 5051, '좌': 5052, '아악': 5053, '얹다': 5054, '에리': 5055, '：）': 5056, '스벅말모': 5057, '반대쪽': 5058, '베트남': 5059, '달랏': 5060, '한가롭다': 5061, '변하다': 5062, '네트워크': 5063, '어찌': 5064, '뺑뺑': 5065, '가사': 5066, '비만': 5067, '비올렛': 5068, '비올라': 5069, '-_-.': 5070, '요금': 5071, '센드위치': 5072, '했더느': 5073, '마포구': 5074, '중계역': 5075, '벚꽃': 5076, '각': 5077, '친철': 5078, '스티커': 5079, '부착': 5080, '21.3': 5081, '용기': 5082, '핸드': 5083, '쉐': 5084, '액': 5085, '이태리': 5086, '풀다': 5087, '고갯짓': 5088, '상함': 5089, '다닥다닥': 5090, '일별': 5091, '손수': 5092, '주신': 5093, '협소했어': 5094, 'd': 5095, '천호역': 5096, '낫': 5097, '베드': 5098, '이정': 5099, '길동': 5100, '댜': 5101, '...;;;': 5102, '-!': 5103, '로고': 5104, '지네': 5105, '한낱': 5106, '값어치': 5107, '넒': 5108, '서점': 5109, 'luna': 5110, '환장하다': 5111, '의사소통': 5112, '가운데': 5113, '흠뻑': 5114, '사우나': 5115, '찜질방': 5116, '텔레비전': 5117, '잠자다': 5118, '..........;;;;;': 5119, '르': 5120, '~~~...': 5121, '고생': 5122, '아이폰': 5123, '소리치다': 5124, '도리': 5125, '??????': 5126, '5,800': 5127, '게시': 5128, '타인': 5129, '책임': 5130, '전기': 5131, '언급': 5132, '전가': 5133, '길가': 5134}\n"
     ]
    }
   ],
   "source": [
    "print(tokenizer.word_index)"
   ]
  },
  {
   "cell_type": "code",
   "execution_count": 203,
   "metadata": {},
   "outputs": [
    {
     "name": "stdout",
     "output_type": "stream",
     "text": [
      "단어 집합(vocabulary)의 크기 : 5134\n",
      "등장 빈도가 2번 이하인 희귀 단어의 수: 3369\n",
      "단어 집합에서 희귀 단어의 비율: 65.62134787689911\n",
      "전체 등장 빈도에서 희귀 단어 등장 빈도 비율: 10.605588449153423\n"
     ]
    }
   ],
   "source": [
    "threshold = 3\n",
    "total_cnt = len(tokenizer.word_index) # 단어의 수\n",
    "rare_cnt = 0 # 등장 빈도수가 threshold보다 작은 단어의 개수를 카운트\n",
    "total_freq = 0 # 훈련 데이터의 전체 단어 빈도수 총 합\n",
    "rare_freq = 0 # 등장 빈도수가 threshold보다 작은 단어의 등장 빈도수의 총 합\n",
    "\n",
    "# 단어와 빈도수의 쌍(pair)을 key와 value로 받는다.\n",
    "for key, value in tokenizer.word_counts.items():\n",
    "    total_freq = total_freq + value\n",
    "\n",
    "    # 단어의 등장 빈도수가 threshold보다 작으면\n",
    "    if(value < threshold):\n",
    "        rare_cnt = rare_cnt + 1\n",
    "        rare_freq = rare_freq + value\n",
    "\n",
    "print('단어 집합(vocabulary)의 크기 :',total_cnt)\n",
    "print('등장 빈도가 %s번 이하인 희귀 단어의 수: %s'%(threshold - 1, rare_cnt))\n",
    "print(\"단어 집합에서 희귀 단어의 비율:\", (rare_cnt / total_cnt)*100)\n",
    "print(\"전체 등장 빈도에서 희귀 단어 등장 빈도 비율:\", (rare_freq / total_freq)*100)\n"
   ]
  },
  {
   "cell_type": "code",
   "execution_count": 204,
   "metadata": {},
   "outputs": [
    {
     "name": "stdout",
     "output_type": "stream",
     "text": [
      "단어 집합의 크기 : 1766\n"
     ]
    }
   ],
   "source": [
    "# 전체 단어 개수 중 빈도수 2이하인 단어는 제거.\n",
    "# 0번 패딩 토큰을 고려하여 + 1\n",
    "vocab_size = total_cnt - rare_cnt + 1\n",
    "print('단어 집합의 크기 :',vocab_size)"
   ]
  },
  {
   "cell_type": "code",
   "execution_count": 205,
   "metadata": {},
   "outputs": [],
   "source": [
    "tokenizer = Tokenizer(vocab_size) \n",
    "tokenizer.fit_on_texts(X_train)\n",
    "X_train = tokenizer.texts_to_sequences(X_train)\n",
    "X_test = tokenizer.texts_to_sequences(X_test)"
   ]
  },
  {
   "cell_type": "code",
   "execution_count": 206,
   "metadata": {},
   "outputs": [
    {
     "name": "stdout",
     "output_type": "stream",
     "text": [
      "[[184, 10, 221, 257, 29, 170, 19, 258, 29, 170], [59, 13, 75, 464, 3, 9, 1, 242], [259]]\n"
     ]
    }
   ],
   "source": [
    "print(X_train[:3])"
   ]
  },
  {
   "cell_type": "code",
   "execution_count": 207,
   "metadata": {},
   "outputs": [],
   "source": [
    "y_train = np.array(train['label'])"
   ]
  },
  {
   "cell_type": "code",
   "execution_count": 208,
   "metadata": {},
   "outputs": [],
   "source": [
    "# 빈 샘플(empty samples) 제거\n",
    "drop_train = [index for index, sentence in enumerate(X_train) if len(sentence) < 1]"
   ]
  },
  {
   "cell_type": "code",
   "execution_count": 209,
   "metadata": {},
   "outputs": [
    {
     "name": "stdout",
     "output_type": "stream",
     "text": [
      "리뷰의 최대 길이 : 139\n",
      "리뷰의 평균 길이 : 9.066104819594416\n"
     ]
    },
    {
     "data": {
      "image/png": "[encoded data removed]",
      "text/plain": [
       "<Figure size 640x480 with 1 Axes>"
      ]
     },
     "metadata": {},
     "output_type": "display_data"
    }
   ],
   "source": [
    "import matplotlib.pyplot as plt\n",
    "\n",
    "print('리뷰의 최대 길이 :',max(len(review) for review in X_train))\n",
    "print('리뷰의 평균 길이 :',sum(map(len, X_train))/len(X_train))\n",
    "plt.hist([len(review) for review in X_train], bins=50)\n",
    "plt.xlabel('length of samples')\n",
    "plt.ylabel('number of samples')\n",
    "plt.show()"
   ]
  },
  {
   "cell_type": "code",
   "execution_count": 210,
   "metadata": {},
   "outputs": [],
   "source": [
    "def below_threshold_len(max_len, nested_list):\n",
    "  count = 0\n",
    "  for sentence in nested_list:\n",
    "    if(len(sentence) <= max_len):\n",
    "        count = count + 1\n",
    "  print('전체 샘플 중 길이가 %s 이하인 샘플의 비율: %s'%(max_len, (count / len(nested_list))*100))"
   ]
  },
  {
   "cell_type": "code",
   "execution_count": 211,
   "metadata": {},
   "outputs": [
    {
     "name": "stdout",
     "output_type": "stream",
     "text": [
      "전체 샘플 중 길이가 30 이하인 샘플의 비율: 94.02159599683961\n"
     ]
    }
   ],
   "source": [
    "max_len = 30\n",
    "below_threshold_len(max_len, X_train)"
   ]
  },
  {
   "cell_type": "code",
   "execution_count": 212,
   "metadata": {},
   "outputs": [],
   "source": [
    "from tensorflow.keras.preprocessing.sequence import pad_sequences\n",
    "\n",
    "X_train = pad_sequences(X_train, maxlen=max_len)\n",
    "X_test = pad_sequences(X_test, maxlen=max_len)"
   ]
  },
  {
   "cell_type": "code",
   "execution_count": 218,
   "metadata": {},
   "outputs": [
    {
     "name": "stdout",
     "output_type": "stream",
     "text": [
      "Epoch 1/15\n",
      "45/48 [===========================>..] - ETA: 0s - loss: 0.4829 - acc: 0.7646\n",
      "Epoch 1: val_acc improved from -inf to 0.75263, saving model to best_model.h5\n",
      "48/48 [==============================] - 4s 36ms/step - loss: 0.4719 - acc: 0.7708 - val_loss: 0.5386 - val_acc: 0.7526\n",
      "Epoch 2/15\n",
      " 7/48 [===>..........................] - ETA: 0s - loss: 0.2468 - acc: 0.9174"
     ]
    },
    {
     "name": "stderr",
     "output_type": "stream",
     "text": [
      "c:\\anaconda3\\Lib\\site-packages\\keras\\src\\engine\\training.py:3103: UserWarning: You are saving your model as an HDF5 file via `model.save()`. This file format is considered legacy. We recommend using instead the native Keras format, e.g. `model.save('my_model.keras')`.\n",
      "  saving_api.save_model(\n"
     ]
    },
    {
     "name": "stdout",
     "output_type": "stream",
     "text": [
      "45/48 [===========================>..] - ETA: 0s - loss: 0.2242 - acc: 0.9229\n",
      "Epoch 2: val_acc did not improve from 0.75263\n",
      "48/48 [==============================] - 1s 22ms/step - loss: 0.2205 - acc: 0.9239 - val_loss: 0.5017 - val_acc: 0.7474\n",
      "Epoch 3/15\n",
      "46/48 [===========================>..] - ETA: 0s - loss: 0.1270 - acc: 0.9558\n",
      "Epoch 3: val_acc improved from 0.75263 to 0.76842, saving model to best_model.h5\n",
      "48/48 [==============================] - 1s 22ms/step - loss: 0.1285 - acc: 0.9549 - val_loss: 0.4436 - val_acc: 0.7684\n",
      "Epoch 4/15\n",
      "47/48 [============================>.] - ETA: 0s - loss: 0.1067 - acc: 0.9614\n",
      "Epoch 4: val_acc improved from 0.76842 to 0.78026, saving model to best_model.h5\n",
      "48/48 [==============================] - 1s 21ms/step - loss: 0.1066 - acc: 0.9611 - val_loss: 0.4181 - val_acc: 0.7803\n",
      "Epoch 5/15\n",
      "46/48 [===========================>..] - ETA: 0s - loss: 0.0815 - acc: 0.9704\n",
      "Epoch 5: val_acc improved from 0.78026 to 0.79079, saving model to best_model.h5\n",
      "48/48 [==============================] - 1s 22ms/step - loss: 0.0807 - acc: 0.9710 - val_loss: 0.3931 - val_acc: 0.7908\n",
      "Epoch 6/15\n",
      "46/48 [===========================>..] - ETA: 0s - loss: 0.0681 - acc: 0.9742\n",
      "Epoch 6: val_acc improved from 0.79079 to 0.80263, saving model to best_model.h5\n",
      "48/48 [==============================] - 1s 22ms/step - loss: 0.0675 - acc: 0.9746 - val_loss: 0.3794 - val_acc: 0.8026\n",
      "Epoch 7/15\n",
      "48/48 [==============================] - ETA: 0s - loss: 0.0648 - acc: 0.9806\n",
      "Epoch 7: val_acc improved from 0.80263 to 0.84868, saving model to best_model.h5\n",
      "48/48 [==============================] - 1s 22ms/step - loss: 0.0648 - acc: 0.9806 - val_loss: 0.3301 - val_acc: 0.8487\n",
      "Epoch 8/15\n",
      "46/48 [===========================>..] - ETA: 0s - loss: 0.0518 - acc: 0.9823\n",
      "Epoch 8: val_acc improved from 0.84868 to 0.88816, saving model to best_model.h5\n",
      "48/48 [==============================] - 1s 22ms/step - loss: 0.0512 - acc: 0.9825 - val_loss: 0.2945 - val_acc: 0.8882\n",
      "Epoch 9/15\n",
      "46/48 [===========================>..] - ETA: 0s - loss: 0.0480 - acc: 0.9837\n",
      "Epoch 9: val_acc improved from 0.88816 to 0.90000, saving model to best_model.h5\n",
      "48/48 [==============================] - 1s 22ms/step - loss: 0.0468 - acc: 0.9842 - val_loss: 0.2852 - val_acc: 0.9000\n",
      "Epoch 10/15\n",
      "46/48 [===========================>..] - ETA: 0s - loss: 0.0350 - acc: 0.9885\n",
      "Epoch 10: val_acc did not improve from 0.90000\n",
      "48/48 [==============================] - 1s 22ms/step - loss: 0.0354 - acc: 0.9885 - val_loss: 0.3132 - val_acc: 0.8934\n",
      "Epoch 11/15\n",
      "46/48 [===========================>..] - ETA: 0s - loss: 0.0351 - acc: 0.9885\n",
      "Epoch 11: val_acc improved from 0.90000 to 0.90526, saving model to best_model.h5\n",
      "48/48 [==============================] - 1s 23ms/step - loss: 0.0342 - acc: 0.9888 - val_loss: 0.3308 - val_acc: 0.9053\n",
      "Epoch 12/15\n",
      "46/48 [===========================>..] - ETA: 0s - loss: 0.0356 - acc: 0.9871\n",
      "Epoch 12: val_acc did not improve from 0.90526\n",
      "48/48 [==============================] - 1s 22ms/step - loss: 0.0347 - acc: 0.9875 - val_loss: 0.4803 - val_acc: 0.8592\n",
      "Epoch 13/15\n",
      "47/48 [============================>.] - ETA: 0s - loss: 0.0485 - acc: 0.9817\n",
      "Epoch 13: val_acc did not improve from 0.90526\n",
      "48/48 [==============================] - 1s 22ms/step - loss: 0.0489 - acc: 0.9816 - val_loss: 0.5562 - val_acc: 0.9000\n",
      "Epoch 13: early stopping\n"
     ]
    }
   ],
   "source": [
    "from tensorflow.keras.layers import Embedding, Dense, LSTM, Dropout, BatchNormalization\n",
    "from tensorflow.keras.models import Sequential\n",
    "from tensorflow.keras.models import load_model\n",
    "from tensorflow.keras.callbacks import EarlyStopping, ModelCheckpoint\n",
    "\n",
    "embedding_dim = 100\n",
    "hidden_units = 128\n",
    "\n",
    "model = Sequential()\n",
    "model.add(Embedding(vocab_size, embedding_dim))\n",
    "model.add(LSTM(hidden_units))\n",
    "model.add(Dropout(0.5))\n",
    "model.add(BatchNormalization())\n",
    "model.add(Dense(1, activation='sigmoid'))\n",
    "\n",
    "es = EarlyStopping(monitor='val_loss', mode='min', verbose=1, patience=4)\n",
    "mc = ModelCheckpoint('best_model.h5', monitor='val_acc', mode='max', verbose=1, save_best_only=True)\n",
    "\n",
    "model.compile(optimizer='adam', loss='binary_crossentropy', metrics=['acc'])\n",
    "history = model.fit(X_train, y_train, epochs=15, callbacks=[es, mc], batch_size=64, validation_split=0.2)"
   ]
  },
  {
   "cell_type": "code",
   "execution_count": 219,
   "metadata": {},
   "outputs": [
    {
     "name": "stdout",
     "output_type": "stream",
     "text": [
      "119/119 [==============================] - 1s 6ms/step - loss: 0.1130 - acc: 0.9679\n",
      "\n",
      " 테스트 정확도: 0.9679\n"
     ]
    }
   ],
   "source": [
    "loaded_model = load_model('best_model.h5')\n",
    "print(\"\\n 테스트 정확도: %.4f\" % (loaded_model.evaluate(X_train, y_train)[1]))"
   ]
  },
  {
   "cell_type": "code",
   "execution_count": 220,
   "metadata": {},
   "outputs": [
    {
     "name": "stdout",
     "output_type": "stream",
     "text": [
      "40/40 [==============================] - 1s 5ms/step\n"
     ]
    }
   ],
   "source": [
    "y_pred = model.predict(X_test)"
   ]
  },
  {
   "cell_type": "code",
   "execution_count": 221,
   "metadata": {},
   "outputs": [
    {
     "name": "stdout",
     "output_type": "stream",
     "text": [
      "1266\n"
     ]
    }
   ],
   "source": [
    "# 임계값 설정\n",
    "threshold = 0.5\n",
    "\n",
    "# 확률 값을 0 또는 1로 변환\n",
    "predictions = (y_pred > threshold).astype(int)\n",
    "\n",
    "print(len(predictions))\n"
   ]
  },
  {
   "cell_type": "code",
   "execution_count": 222,
   "metadata": {},
   "outputs": [],
   "source": [
    "sbm = pd.read_csv('./submission.csv')\n",
    "sbm['class'] = predictions\n",
    "sbm.to_csv('./submission.csv', index=False)"
   ]
  },
  {
   "cell_type": "code",
   "execution_count": null,
   "metadata": {},
   "outputs": [],
   "source": []
  },
  {
   "cell_type": "code",
   "execution_count": null,
   "metadata": {},
   "outputs": [],
   "source": []
  }
 ],
 "metadata": {
  "kernelspec": {
   "display_name": "Python 3",
   "language": "python",
   "name": "python3"
  },
  "language_info": {
   "codemirror_mode": {
    "name": "ipython",
    "version": 3
   },
   "file_extension": ".py",
   "mimetype": "text/x-python",
   "name": "python",
   "nbconvert_exporter": "python",
   "pygments_lexer": "ipython3",
   "version": "3.11.5"
  }
 },
 "nbformat": 4,
 "nbformat_minor": 2
}
